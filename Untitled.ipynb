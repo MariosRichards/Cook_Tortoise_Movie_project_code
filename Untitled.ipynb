{
 "cells": [
  {
   "cell_type": "code",
   "execution_count": 1,
   "metadata": {},
   "outputs": [],
   "source": [
    "# basic python data handling analysis modules\n",
    "import numpy as np, pandas as pd, matplotlib.pyplot as plt, seaborn as sns\n",
    "sns.set()\n",
    "import pickle, os, gc, re\n",
    "# small utility functions\n",
    "from utility import *\n",
    "\n",
    "# interactive jupyter widgets!\n",
    "# https://towardsdatascience.com/interactive-controls-for-jupyter-notebooks-f5c94829aee6\n",
    "import ipywidgets as widgets\n",
    "from ipywidgets import interact, interact_manual\n",
    "\n",
    "%matplotlib inline"
   ]
  },
  {
   "cell_type": "code",
   "execution_count": 2,
   "metadata": {},
   "outputs": [],
   "source": [
    "Dataset_directory = \"..\"+os.sep+\"Datasets\"+os.sep"
   ]
  },
  {
   "cell_type": "code",
   "execution_count": 3,
   "metadata": {},
   "outputs": [],
   "source": [
    "import shutil\n",
    "import tempfile\n",
    "import urllib.request\n",
    "import gzip\n",
    "import datetime\n",
    "\n",
    "tmdb_dir = create_subdir(Dataset_directory, \"themoviedb\")"
   ]
  },
  {
   "cell_type": "code",
   "execution_count": 4,
   "metadata": {},
   "outputs": [],
   "source": [
    "crew_df = pd.read_msgpack(tmdb_dir + \"TMB_crew.msgpack\")\n",
    "cast_df = pd.read_msgpack(tmdb_dir + \"TMB_cast.msgpack\")\n",
    "TMB_crew_individuals = pd.read_msgpack(tmdb_dir + \"TMB_crew_individuals.msgpack\")\n",
    "TMB_cast_individuals = pd.read_msgpack(tmdb_dir + \"TMB_cast_individuals.msgpack\")"
   ]
  },
  {
   "cell_type": "code",
   "execution_count": 5,
   "metadata": {},
   "outputs": [],
   "source": [
    "# cast_crew_aggregates = pd.read_msgpack(tmdb_dir+\"TMB_cast_crew_aggregates\"+\".msgpack\")"
   ]
  },
  {
   "cell_type": "code",
   "execution_count": 12,
   "metadata": {},
   "outputs": [],
   "source": [
    "TMB_crew_individuals[[\"cast_crew_overlap\",\"adult\"]] = TMB_crew_individuals[[\"cast_crew_overlap\",\"adult\"]].astype('float')\n",
    "TMB_cast_individuals[[\"cast_crew_overlap\",\"adult\"]] = TMB_cast_individuals[[\"cast_crew_overlap\",\"adult\"]].astype('float')"
   ]
  },
  {
   "cell_type": "code",
   "execution_count": 30,
   "metadata": {},
   "outputs": [],
   "source": [
    "# pd.to_datetime(birth_df)"
   ]
  },
  {
   "cell_type": "code",
   "execution_count": null,
   "metadata": {},
   "outputs": [],
   "source": []
  },
  {
   "cell_type": "code",
   "execution_count": 31,
   "metadata": {},
   "outputs": [],
   "source": [
    "# birth_df = TMB_cast_individuals[[\"birth_year\",\"birth_month\",\"birth_day\"]][0:1000].copy()\n",
    "# birth_df.columns = [\"year\",\"month\",\"day\"]\n",
    "# birth_df[\"month\"].fillna(7)\n",
    "# birth_df[\"day\"].fillna(2)"
   ]
  },
  {
   "cell_type": "code",
   "execution_count": 27,
   "metadata": {},
   "outputs": [
    {
     "data": {
      "text/plain": [
       "12.0"
      ]
     },
     "execution_count": 27,
     "metadata": {},
     "output_type": "execute_result"
    }
   ],
   "source": [
    "# july 2nd is midpoint of the year to fill in for missing month/days\n",
    "# years we leave blank!\n"
   ]
  },
  {
   "cell_type": "code",
   "execution_count": 36,
   "metadata": {},
   "outputs": [],
   "source": [
    "extra_aggregateable_traits = [\"cast_crew_overlap\",\"adult\",\"popularity\"]\n",
    "# cast_crew_overlap\n",
    "# adult\n",
    "# popularity\n",
    "# born X years before 2000\n",
    "# dead for X years before 2000"
   ]
  },
  {
   "cell_type": "code",
   "execution_count": 37,
   "metadata": {},
   "outputs": [],
   "source": [
    "aggregateable_traits = [\"credit_number\",\"mean_order\",\"fractional_mean_order\",\"importulence\", \"gender_guess_integrated\"]\n",
    "crew_only_aggregateable_traits = [\"job_number\",\"department_number\"]\n",
    "# mean of whole cast/mean of top X/mean! of top bill person\n",
    "# for cast and crew\n",
    "# aggregate by movie\n",
    "\n",
    "# importulence = TMB_crew_individuals[\"credit_number\"]/TMB_crew_individuals[\"mean_order\"]\n",
    "# TMB_crew_individuals.head(10)"
   ]
  },
  {
   "cell_type": "code",
   "execution_count": 33,
   "metadata": {},
   "outputs": [],
   "source": [
    "# aggregateable_traits,crew_only_aggregateable_traits\n",
    "# aggregateable_traits = ['mean_order',\n",
    "#   'fractional_mean_order',\n",
    "#   'importulence']\n",
    "credit_number_trait = ['credit_number']\n",
    "stableish_traits = ['gender_guess_integrated']\n",
    "# Yes, I know, Warchowski bros are kind of important but the data really does not have that resolution!\n",
    "\n",
    "cast_crew_aggregates = pd.DataFrame(index = crew_df[\"tmdb_id\"].unique())\n",
    "\n",
    "# median_cast_size = int(INT_df[\"TMB_cast_size\"].median())\n",
    "# median_crew_size = int(INT_df[\"TMB_crew_size\"].median())\n",
    "\n",
    "\n",
    "# this is a lie, it's just a hassle to distinguish between cast and crew size at 5/10\n",
    "\n"
   ]
  },
  {
   "cell_type": "code",
   "execution_count": 34,
   "metadata": {},
   "outputs": [
    {
     "name": "stdout",
     "output_type": "stream",
     "text": [
      "credit_number\n",
      "mean_order\n",
      "fractional_mean_order\n",
      "importulence\n",
      "gender_guess_integrated\n",
      "cast_crew_overlap\n",
      "adult\n",
      "popularity\n",
      "job_number\n",
      "department_number\n"
     ]
    }
   ],
   "source": [
    "for trait in aggregateable_traits:\n",
    "    print(trait)\n",
    "    crew_df[trait] = TMB_crew_individuals.loc[crew_df[\"id\"],trait].values\n",
    "    cast_df[trait] = TMB_cast_individuals.loc[cast_df[\"id\"],trait].values\n",
    "    \n",
    "for trait in crew_only_aggregateable_traits:\n",
    "    print(trait)\n",
    "    crew_df[trait] = TMB_crew_individuals.loc[crew_df[\"id\"],trait].values"
   ]
  },
  {
   "cell_type": "code",
   "execution_count": null,
   "metadata": {},
   "outputs": [],
   "source": []
  },
  {
   "cell_type": "code",
   "execution_count": 35,
   "metadata": {},
   "outputs": [],
   "source": [
    "median_cast_size = 5\n",
    "median_crew_size = 5"
   ]
  },
  {
   "cell_type": "code",
   "execution_count": null,
   "metadata": {},
   "outputs": [
    {
     "name": "stdout",
     "output_type": "stream",
     "text": [
      "gender_guess_integrated\n"
     ]
    }
   ],
   "source": [
    "%%time \n",
    "# 50 mins!\n",
    "for trait in stableish_traits:\n",
    "    print(trait)\n",
    "#     cast_crew_aggregates[trait+\"_crew\"+\"_mean\"]  = crew_df.groupby(\"tmdb_id\").apply(lambda x: x[trait].mean())\n",
    "#     cast_crew_aggregates[trait+\"_cast\"+\"_mean\"]  = cast_df.groupby(\"tmdb_id\").apply(lambda x: x[trait].mean())\n",
    "    \n",
    "#     cast_crew_aggregates[trait+\"_crew\"+\"_lead\"]  = crew_df.groupby(\"tmdb_id\").apply(lambda x: x[trait][x[\"order\"]==0].mean())\n",
    "#     cast_crew_aggregates[trait+\"_cast\"+\"_lead\"]  = cast_df.groupby(\"tmdb_id\").apply(lambda x: x[trait][x[\"order\"]==0].mean())\n",
    "\n",
    "#     cast_crew_aggregates[trait+\"_crew\"+\"_lead\"+str(median_crew_size)]  = crew_df.groupby(\"tmdb_id\").apply(lambda x: x[trait][x[\"order\"]<median_crew_size].mean())\n",
    "#     cast_crew_aggregates[trait+\"_cast\"+\"_lead\"+str(median_cast_size)]  = cast_df.groupby(\"tmdb_id\").apply(lambda x: x[trait][x[\"order\"]<median_cast_size].mean())\n",
    "\n",
    "    ### new\n",
    "    cast_crew_aggregates[trait+\"_crew\"+\"_second\"]  = crew_df.groupby(\"tmdb_id\").apply(lambda x: x[trait][x[\"order\"]==1].mean())\n",
    "    cast_crew_aggregates[trait+\"_cast\"+\"_second\"]  = cast_df.groupby(\"tmdb_id\").apply(lambda x: x[trait][x[\"order\"]==1].mean())\n",
    "    \n",
    "\n",
    "for trait in credit_number_trait:\n",
    "    print(trait)\n",
    "#     cast_crew_aggregates[trait+\"_crew\"+\"_mean\"]  = crew_df.groupby(\"tmdb_id\").apply(lambda x: x[trait].mean()-1)\n",
    "#     cast_crew_aggregates[trait+\"_cast\"+\"_mean\"]  = cast_df.groupby(\"tmdb_id\").apply(lambda x: x[trait].mean()-1)\n",
    "    \n",
    "#     cast_crew_aggregates[trait+\"_crew\"+\"_lead\"]  = crew_df.groupby(\"tmdb_id\").apply(lambda x: x[trait][x[\"order\"]==0].mean()-1)\n",
    "#     cast_crew_aggregates[trait+\"_cast\"+\"_lead\"]  = cast_df.groupby(\"tmdb_id\").apply(lambda x: x[trait][x[\"order\"]==0].mean()-1)\n",
    "\n",
    "#     cast_crew_aggregates[trait+\"_crew\"+\"_lead\"+str(median_crew_size)]  = crew_df.groupby(\"tmdb_id\").apply(lambda x: x[trait][x[\"order\"]<median_crew_size].mean()-1)\n",
    "#     cast_crew_aggregates[trait+\"_cast\"+\"_lead\"+str(median_cast_size)]  = cast_df.groupby(\"tmdb_id\").apply(lambda x: x[trait][x[\"order\"]<median_cast_size].mean()-1)\n",
    "\n",
    "    ### new\n",
    "    cast_crew_aggregates[trait+\"_crew\"+\"_second\"]  = crew_df.groupby(\"tmdb_id\").apply(lambda x: x[trait][x[\"order\"]==1].mean()-1)\n",
    "    cast_crew_aggregates[trait+\"_cast\"+\"_second\"]  = cast_df.groupby(\"tmdb_id\").apply(lambda x: x[trait][x[\"order\"]==1].mean()-1)\n",
    "    "
   ]
  },
  {
   "cell_type": "code",
   "execution_count": null,
   "metadata": {},
   "outputs": [],
   "source": [
    "%%time\n",
    "# takes ~3hrs\n",
    "\n",
    "for trait in crew_only_aggregateable_traits: \n",
    "    print(trait)\n",
    "#     cast_crew_aggregates[trait+\"_crew\"+\"_mean\"]  = crew_df.groupby(\"tmdb_id\").apply(lambda x: x[trait][x[\"credit_number\"]>1].mean())   \n",
    "#     cast_crew_aggregates[trait+\"_crew\"+\"_lead\"]  = crew_df.groupby(\"tmdb_id\").apply(lambda x: x[trait][(x[\"credit_number\"]>1)&(x[\"order\"]==0)].mean())\n",
    "#     cast_crew_aggregates[trait+\"_crew\"+\"_lead\"+str(median_crew_size)]  = crew_df.groupby(\"tmdb_id\").apply(lambda x: x[trait][(x[\"credit_number\"]>1)&(x[\"order\"]<median_crew_size)].mean())\n",
    "    \n",
    "    ### new\n",
    "    cast_crew_aggregates[trait+\"_crew\"+\"_second\"]  = crew_df.groupby(\"tmdb_id\").apply(lambda x: x[trait][x[\"order\"]==1].mean())\n",
    "    \n",
    "    \n",
    "\n",
    "for trait in aggregateable_traits:\n",
    "    print(trait)\n",
    "#     cast_crew_aggregates[trait+\"_crew\"+\"_mean\"]  = crew_df.groupby(\"tmdb_id\").apply(lambda x: x[trait][x[\"credit_number\"]>1].mean())\n",
    "#     cast_crew_aggregates[trait+\"_cast\"+\"_mean\"]  = cast_df.groupby(\"tmdb_id\").apply(lambda x: x[trait][x[\"credit_number\"]>1].mean())\n",
    "    \n",
    "#     cast_crew_aggregates[trait+\"_crew\"+\"_lead\"]  = crew_df.groupby(\"tmdb_id\").apply(lambda x: x[trait][(x[\"credit_number\"]>1)&(x[\"order\"]==0)].mean())\n",
    "#     cast_crew_aggregates[trait+\"_cast\"+\"_lead\"]  = cast_df.groupby(\"tmdb_id\").apply(lambda x: x[trait][(x[\"credit_number\"]>1)&(x[\"order\"]==0)].mean())\n",
    "\n",
    "#     cast_crew_aggregates[trait+\"_crew\"+\"_lead\"+str(median_crew_size)]  = crew_df.groupby(\"tmdb_id\").apply(lambda x: x[trait][(x[\"credit_number\"]>1)&(x[\"order\"]<median_crew_size)].mean())\n",
    "#     cast_crew_aggregates[trait+\"_cast\"+\"_lead\"+str(median_cast_size)]  = cast_df.groupby(\"tmdb_id\").apply(lambda x: x[trait][(x[\"credit_number\"]>1)&(x[\"order\"]<median_crew_size)].mean())\n",
    "\n",
    "    ### new\n",
    "    cast_crew_aggregates[trait+\"_crew\"+\"_second\"]  = crew_df.groupby(\"tmdb_id\").apply(lambda x: x[trait][x[\"order\"]==1].mean())\n",
    "    cast_crew_aggregates[trait+\"_cast\"+\"_second\"]  = cast_df.groupby(\"tmdb_id\").apply(lambda x: x[trait][x[\"order\"]==1].mean())\n",
    "    "
   ]
  },
  {
   "cell_type": "code",
   "execution_count": null,
   "metadata": {},
   "outputs": [],
   "source": [
    "##########################"
   ]
  },
  {
   "cell_type": "code",
   "execution_count": null,
   "metadata": {},
   "outputs": [],
   "source": []
  },
  {
   "cell_type": "code",
   "execution_count": null,
   "metadata": {},
   "outputs": [],
   "source": [
    "# %%time \n",
    "# # 50 mins!\n",
    "# for trait in stableish_traits:\n",
    "#     print(trait)\n",
    "#     cast_crew_aggregates[trait+\"_crew\"+\"_mean\"]  = crew_df.groupby(\"tmdb_id\").apply(lambda x: x[trait].mean())\n",
    "#     cast_crew_aggregates[trait+\"_cast\"+\"_mean\"]  = cast_df.groupby(\"tmdb_id\").apply(lambda x: x[trait].mean())\n",
    "    \n",
    "#     cast_crew_aggregates[trait+\"_crew\"+\"_lead\"]  = crew_df.groupby(\"tmdb_id\").apply(lambda x: x[trait][x[\"order\"]==0].mean())\n",
    "#     cast_crew_aggregates[trait+\"_cast\"+\"_lead\"]  = cast_df.groupby(\"tmdb_id\").apply(lambda x: x[trait][x[\"order\"]==0].mean())\n",
    "\n",
    "#     cast_crew_aggregates[trait+\"_crew\"+\"_lead\"+str(median_crew_size)]  = crew_df.groupby(\"tmdb_id\").apply(lambda x: x[trait][x[\"order\"]<median_crew_size].mean())\n",
    "#     cast_crew_aggregates[trait+\"_cast\"+\"_lead\"+str(median_cast_size)]  = cast_df.groupby(\"tmdb_id\").apply(lambda x: x[trait][x[\"order\"]<median_cast_size].mean())\n",
    "\n",
    "#     ### new\n",
    "#     cast_crew_aggregates[trait+\"_crew\"+\"_second\"]  = crew_df.groupby(\"tmdb_id\").apply(lambda x: x[trait][x[\"order\"]==1].mean())\n",
    "#     cast_crew_aggregates[trait+\"_cast\"+\"_second\"]  = cast_df.groupby(\"tmdb_id\").apply(lambda x: x[trait][x[\"order\"]==1].mean())\n",
    "    \n",
    "\n",
    "# for trait in credit_number_trait:\n",
    "#     print(trait)\n",
    "#     cast_crew_aggregates[trait+\"_crew\"+\"_mean\"]  = crew_df.groupby(\"tmdb_id\").apply(lambda x: x[trait].mean()-1)\n",
    "#     cast_crew_aggregates[trait+\"_cast\"+\"_mean\"]  = cast_df.groupby(\"tmdb_id\").apply(lambda x: x[trait].mean()-1)\n",
    "    \n",
    "#     cast_crew_aggregates[trait+\"_crew\"+\"_lead\"]  = crew_df.groupby(\"tmdb_id\").apply(lambda x: x[trait][x[\"order\"]==0].mean()-1)\n",
    "#     cast_crew_aggregates[trait+\"_cast\"+\"_lead\"]  = cast_df.groupby(\"tmdb_id\").apply(lambda x: x[trait][x[\"order\"]==0].mean()-1)\n",
    "\n",
    "#     cast_crew_aggregates[trait+\"_crew\"+\"_lead\"+str(median_crew_size)]  = crew_df.groupby(\"tmdb_id\").apply(lambda x: x[trait][x[\"order\"]<median_crew_size].mean()-1)\n",
    "#     cast_crew_aggregates[trait+\"_cast\"+\"_lead\"+str(median_cast_size)]  = cast_df.groupby(\"tmdb_id\").apply(lambda x: x[trait][x[\"order\"]<median_cast_size].mean()-1)\n",
    "\n",
    "#     ### new\n",
    "#     cast_crew_aggregates[trait+\"_crew\"+\"_second\"]  = crew_df.groupby(\"tmdb_id\").apply(lambda x: x[trait][x[\"order\"]==1].mean()-1)\n",
    "#     cast_crew_aggregates[trait+\"_cast\"+\"_second\"]  = cast_df.groupby(\"tmdb_id\").apply(lambda x: x[trait][x[\"order\"]==1].mean()-1)\n",
    "    "
   ]
  },
  {
   "cell_type": "code",
   "execution_count": null,
   "metadata": {},
   "outputs": [],
   "source": [
    "for trait in extra_aggregateable_traits:\n",
    "    print(trait)\n",
    "    crew_df[trait] = TMB_crew_individuals.loc[crew_df[\"id\"],trait].values\n",
    "    cast_df[trait] = TMB_cast_individuals.loc[cast_df[\"id\"],trait].values"
   ]
  },
  {
   "cell_type": "code",
   "execution_count": null,
   "metadata": {},
   "outputs": [],
   "source": [
    "%%time\n",
    "# takes ~3hrs\n",
    "\n",
    "# for trait in crew_only_aggregateable_traits: \n",
    "#     print(trait)\n",
    "#     cast_crew_aggregates[trait+\"_crew\"+\"_mean\"]  = crew_df.groupby(\"tmdb_id\").apply(lambda x: x[trait][x[\"credit_number\"]>1].mean())   \n",
    "#     cast_crew_aggregates[trait+\"_crew\"+\"_lead\"]  = crew_df.groupby(\"tmdb_id\").apply(lambda x: x[trait][(x[\"credit_number\"]>1)&(x[\"order\"]==0)].mean())\n",
    "#     cast_crew_aggregates[trait+\"_crew\"+\"_lead\"+str(median_crew_size)]  = crew_df.groupby(\"tmdb_id\").apply(lambda x: x[trait][(x[\"credit_number\"]>1)&(x[\"order\"]<median_crew_size)].mean())\n",
    "    \n",
    "#     ### new\n",
    "#     cast_crew_aggregates[trait+\"_crew\"+\"_second\"]  = crew_df.groupby(\"tmdb_id\").apply(lambda x: x[trait][x[\"order\"]==1].mean())\n",
    "    \n",
    "    \n",
    "    \n",
    "\n",
    "for trait in extra_aggregateable_traits:\n",
    "    print(trait)\n",
    "    cast_crew_aggregates[trait+\"_crew\"+\"_mean\"]  = crew_df.groupby(\"tmdb_id\").apply(lambda x: x[trait][x[\"credit_number\"]>1].mean())\n",
    "    cast_crew_aggregates[trait+\"_cast\"+\"_mean\"]  = cast_df.groupby(\"tmdb_id\").apply(lambda x: x[trait][x[\"credit_number\"]>1].mean())\n",
    "    \n",
    "    cast_crew_aggregates[trait+\"_crew\"+\"_lead\"]  = crew_df.groupby(\"tmdb_id\").apply(lambda x: x[trait][(x[\"credit_number\"]>1)&(x[\"order\"]==0)].mean())\n",
    "    cast_crew_aggregates[trait+\"_cast\"+\"_lead\"]  = cast_df.groupby(\"tmdb_id\").apply(lambda x: x[trait][(x[\"credit_number\"]>1)&(x[\"order\"]==0)].mean())\n",
    "\n",
    "    cast_crew_aggregates[trait+\"_crew\"+\"_lead\"+str(median_crew_size)]  = crew_df.groupby(\"tmdb_id\").apply(lambda x: x[trait][(x[\"credit_number\"]>1)&(x[\"order\"]<median_crew_size)].mean())\n",
    "    cast_crew_aggregates[trait+\"_cast\"+\"_lead\"+str(median_cast_size)]  = cast_df.groupby(\"tmdb_id\").apply(lambda x: x[trait][(x[\"credit_number\"]>1)&(x[\"order\"]<median_crew_size)].mean())\n",
    "\n",
    "    ### new\n",
    "    cast_crew_aggregates[trait+\"_crew\"+\"_second\"]  = crew_df.groupby(\"tmdb_id\").apply(lambda x: x[trait][x[\"order\"]==1].mean())\n",
    "    cast_crew_aggregates[trait+\"_cast\"+\"_second\"]  = cast_df.groupby(\"tmdb_id\").apply(lambda x: x[trait][x[\"order\"]==1].mean())\n",
    "    "
   ]
  },
  {
   "cell_type": "code",
   "execution_count": null,
   "metadata": {},
   "outputs": [],
   "source": []
  },
  {
   "cell_type": "code",
   "execution_count": null,
   "metadata": {},
   "outputs": [],
   "source": []
  },
  {
   "cell_type": "code",
   "execution_count": null,
   "metadata": {},
   "outputs": [],
   "source": [
    "cast_crew_aggregates.isnull().sum()"
   ]
  },
  {
   "cell_type": "code",
   "execution_count": null,
   "metadata": {},
   "outputs": [],
   "source": [
    "# secondary_tmdb_dir = \"e:\\\\Datasets\\\\themoviedb\\\\\"\n",
    "# cast_crew_aggregates.to_msgpack(secondary_tmdb_dir+\"TMB_cast_crew_aggregates\"+\".msgpack\")"
   ]
  }
 ],
 "metadata": {
  "kernelspec": {
   "display_name": "Python [conda env:Cook_Tortoise_imdb_project] *",
   "language": "python",
   "name": "conda-env-Cook_Tortoise_imdb_project-py"
  },
  "language_info": {
   "codemirror_mode": {
    "name": "ipython",
    "version": 3
   },
   "file_extension": ".py",
   "mimetype": "text/x-python",
   "name": "python",
   "nbconvert_exporter": "python",
   "pygments_lexer": "ipython3",
   "version": "3.6.7"
  }
 },
 "nbformat": 4,
 "nbformat_minor": 2
}
