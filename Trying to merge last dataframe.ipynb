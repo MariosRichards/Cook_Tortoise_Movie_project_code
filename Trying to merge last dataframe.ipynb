{
 "cells": [
  {
   "cell_type": "code",
   "execution_count": 11,
   "metadata": {},
   "outputs": [],
   "source": [
    "# basic python data handling analysis modules\n",
    "import numpy as np, pandas as pd, matplotlib.pyplot as plt, seaborn as sns\n",
    "import pickle, os, gc, re\n",
    "# small utility functions\n",
    "from utility import *\n",
    "\n",
    "# interactive jupyter widgets!\n",
    "# https://towardsdatascience.com/interactive-controls-for-jupyter-notebooks-f5c94829aee6\n",
    "import ipywidgets as widgets\n",
    "from ipywidgets import interact, interact_manual\n",
    "\n",
    "%matplotlib inline"
   ]
  },
  {
   "cell_type": "code",
   "execution_count": 12,
   "metadata": {},
   "outputs": [],
   "source": [
    "Dataset_directory = \"..\"+os.sep+\"Datasets\"+os.sep\n",
    "secondary_tmdb_dir = \"E:\\\\Datasets\\\\themoviedb\""
   ]
  },
  {
   "cell_type": "code",
   "execution_count": 13,
   "metadata": {},
   "outputs": [],
   "source": [
    "\n",
    "INT_df = pd.read_msgpack(secondary_tmdb_dir+os.sep+\"INT_df.msgpack\")\n",
    "INT_df.columns = [x.replace(\"ML_ML_\",\"ML_\") for x in INT_df.columns]"
   ]
  },
  {
   "cell_type": "code",
   "execution_count": 9,
   "metadata": {},
   "outputs": [
    {
     "data": {
      "text/plain": [
       "(471624, 208)"
      ]
     },
     "execution_count": 9,
     "metadata": {},
     "output_type": "execute_result"
    }
   ],
   "source": []
  },
  {
   "cell_type": "code",
   "execution_count": null,
   "metadata": {},
   "outputs": [],
   "source": []
  },
  {
   "cell_type": "code",
   "execution_count": null,
   "metadata": {},
   "outputs": [],
   "source": []
  },
  {
   "cell_type": "code",
   "execution_count": null,
   "metadata": {},
   "outputs": [],
   "source": []
  },
  {
   "cell_type": "code",
   "execution_count": null,
   "metadata": {},
   "outputs": [],
   "source": []
  },
  {
   "cell_type": "code",
   "execution_count": null,
   "metadata": {},
   "outputs": [],
   "source": []
  },
  {
   "cell_type": "code",
   "execution_count": null,
   "metadata": {},
   "outputs": [],
   "source": []
  },
  {
   "cell_type": "code",
   "execution_count": null,
   "metadata": {},
   "outputs": [],
   "source": []
  },
  {
   "cell_type": "code",
   "execution_count": null,
   "metadata": {},
   "outputs": [],
   "source": []
  },
  {
   "cell_type": "code",
   "execution_count": 4,
   "metadata": {},
   "outputs": [
    {
     "data": {
      "text/plain": [
       "0"
      ]
     },
     "execution_count": 4,
     "metadata": {},
     "output_type": "execute_result"
    }
   ],
   "source": [
    "gc.collect()"
   ]
  },
  {
   "cell_type": "code",
   "execution_count": 15,
   "metadata": {},
   "outputs": [],
   "source": []
  },
  {
   "cell_type": "code",
   "execution_count": null,
   "metadata": {},
   "outputs": [],
   "source": []
  },
  {
   "cell_type": "code",
   "execution_count": 9,
   "metadata": {},
   "outputs": [
    {
     "name": "stdout",
     "output_type": "stream",
     "text": [
      "TMB_adult float32 5.40 MB\n",
      "TMB_belongs_to_collection float32 5.40 MB\n",
      "TMB_budget float64 7.20 MB\n",
      "TMB_tmdbId float32 5.40 MB\n",
      "TMB_imdbId float32 5.40 MB\n",
      "TMB_original_language category 4.51 MB\n",
      "TMB_popularity float64 7.20 MB\n",
      "TMB_release_date datetime64[ns] 7.20 MB\n",
      "TMB_revenue float64 7.20 MB\n",
      "TMB_runtime float32 5.40 MB\n",
      "TMB_status category 4.05 MB\n",
      "TMB_video float32 5.40 MB\n",
      "TMB_vote_average float64 7.20 MB\n",
      "TMB_vote_count float32 5.40 MB\n",
      "TMB_num_genres float32 5.40 MB\n",
      "TMB_num_production_companies float32 5.40 MB\n",
      "TMB_num_production_countries float32 5.40 MB\n",
      "TMB_num_spoken_languages float32 5.40 MB\n",
      "TMB_num_alternative_titles float32 5.40 MB\n",
      "TMB_num_keywords float32 5.40 MB\n",
      "TMB_cast_size float32 5.40 MB\n",
      "TMB_crew_size float32 5.40 MB\n",
      "TMB_gender_guess_integrated_crew_mean float64 7.20 MB\n",
      "TMB_gender_guess_integrated_cast_mean float64 7.20 MB\n",
      "TMB_gender_guess_integrated_crew_lead float32 5.40 MB\n",
      "TMB_gender_guess_integrated_cast_lead float64 7.20 MB\n",
      "TMB_gender_guess_integrated_crew_lead5 float64 7.20 MB\n",
      "TMB_gender_guess_integrated_cast_lead5 float64 7.20 MB\n",
      "TMB_credit_number_crew_mean float64 7.20 MB\n",
      "TMB_credit_number_cast_mean float64 7.20 MB\n",
      "TMB_credit_number_crew_lead float32 5.40 MB\n",
      "TMB_credit_number_cast_lead float64 7.20 MB\n",
      "TMB_credit_number_crew_lead5 float64 7.20 MB\n",
      "TMB_credit_number_cast_lead5 float64 7.20 MB\n",
      "TMB_job_number_crew_mean float64 7.20 MB\n",
      "TMB_job_number_crew_lead float32 5.40 MB\n",
      "TMB_job_number_crew_lead5 float64 7.20 MB\n",
      "TMB_department_number_crew_mean float64 7.20 MB\n",
      "TMB_department_number_crew_lead float32 5.40 MB\n",
      "TMB_department_number_crew_lead5 float64 7.20 MB\n",
      "TMB_mean_order_crew_mean float64 7.20 MB\n",
      "TMB_mean_order_cast_mean float64 7.20 MB\n",
      "TMB_mean_order_crew_lead float64 7.20 MB\n",
      "TMB_mean_order_cast_lead float64 7.20 MB\n",
      "TMB_mean_order_crew_lead5 float64 7.20 MB\n",
      "TMB_mean_order_cast_lead5 float64 7.20 MB\n",
      "TMB_fractional_mean_order_crew_mean float64 7.20 MB\n",
      "TMB_fractional_mean_order_cast_mean float64 7.20 MB\n",
      "TMB_fractional_mean_order_crew_lead float64 7.20 MB\n",
      "TMB_fractional_mean_order_cast_lead float64 7.20 MB\n",
      "TMB_fractional_mean_order_crew_lead5 float64 7.20 MB\n",
      "TMB_fractional_mean_order_cast_lead5 float64 7.20 MB\n",
      "TMB_importulence_crew_mean float64 7.20 MB\n",
      "TMB_importulence_cast_mean float64 7.20 MB\n",
      "TMB_importulence_crew_lead float64 7.20 MB\n",
      "TMB_importulence_cast_lead float64 7.20 MB\n",
      "TMB_importulence_crew_lead5 float64 7.20 MB\n",
      "TMB_importulence_cast_lead5 float64 7.20 MB\n",
      "TMB_movieId float32 5.40 MB\n",
      "HETREC_movieId float32 5.40 MB\n",
      "HETREC_imdbId float32 5.40 MB\n",
      "HETREC_year float32 5.40 MB\n",
      "HETREC_rtAllCriticsRating float64 7.20 MB\n",
      "HETREC_rtAllCriticsNumReviews float32 5.40 MB\n",
      "HETREC_rtAllCriticsNumFresh float32 5.40 MB\n",
      "HETREC_rtAllCriticsNumRotten float32 5.40 MB\n",
      "HETREC_rtAllCriticsScore float32 5.40 MB\n",
      "HETREC_rtTopCriticsRating float64 7.20 MB\n",
      "HETREC_rtTopCriticsNumReviews float32 5.40 MB\n",
      "HETREC_rtTopCriticsNumFresh float32 5.40 MB\n",
      "HETREC_rtTopCriticsNumRotten float32 5.40 MB\n",
      "HETREC_rtTopCriticsScore float32 5.40 MB\n",
      "HETREC_rtAudienceRating float64 7.20 MB\n",
      "HETREC_rtAudienceNumRatings float32 5.40 MB\n",
      "HETREC_rtAudienceScore float32 5.40 MB\n",
      "HETREC_country category 4.05 MB\n",
      "HETREC_ratings_n float32 5.40 MB\n",
      "HETREC_ratings_mean float64 7.20 MB\n",
      "HETREC_ratings_std float64 7.20 MB\n",
      "HETREC_rtAllCriticsFracRotten float64 7.20 MB\n",
      "HETREC_rtTopCriticsFracRotten float64 7.20 MB\n",
      "HETREC_genres__Adventure float32 5.40 MB\n",
      "HETREC_genres__Animation float32 5.40 MB\n",
      "HETREC_genres__Children float32 5.40 MB\n",
      "HETREC_genres__Comedy float32 5.40 MB\n",
      "HETREC_genres__Fantasy float32 5.40 MB\n",
      "HETREC_genres__Romance float32 5.40 MB\n",
      "HETREC_genres__Drama float32 5.40 MB\n",
      "HETREC_genres__Action float32 5.40 MB\n",
      "HETREC_genres__Crime float32 5.40 MB\n",
      "HETREC_genres__Thriller float32 5.40 MB\n",
      "HETREC_genres__Horror float32 5.40 MB\n",
      "HETREC_genres__Mystery float32 5.40 MB\n",
      "HETREC_genres__Sci-Fi float32 5.40 MB\n",
      "HETREC_genres__IMAX float32 5.40 MB\n",
      "HETREC_genres__Documentary float32 5.40 MB\n",
      "HETREC_genres__War float32 5.40 MB\n",
      "HETREC_genres__Musical float32 5.40 MB\n",
      "HETREC_genres__Film-Noir float32 5.40 MB\n",
      "HETREC_genres__Western float32 5.40 MB\n",
      "HETREC_genres__Short float32 5.40 MB\n",
      "SER_movieId float32 5.40 MB\n",
      "SER_imdbId float32 5.40 MB\n",
      "SER_tmdbId float32 5.40 MB\n",
      "SER_num_directors float32 5.40 MB\n",
      "SER_num_genres float32 5.40 MB\n",
      "SER_num_starring float32 5.40 MB\n",
      "SER_ratings_n float32 5.40 MB\n",
      "SER_ratings_mean float64 7.20 MB\n",
      "SER_ratings_std float64 7.20 MB\n",
      "SER_rating float64 7.20 MB\n",
      "SER_predictedRating float64 7.20 MB\n",
      "SER_s1 float64 7.20 MB\n",
      "SER_s2 float64 7.20 MB\n",
      "SER_s3 float64 7.20 MB\n",
      "SER_s4 float64 7.20 MB\n",
      "SER_s5 float64 7.20 MB\n",
      "SER_s6 float64 7.20 MB\n",
      "SER_s7 float64 7.20 MB\n",
      "SER_s8 float64 7.20 MB\n",
      "SER_q float64 7.20 MB\n",
      "SER_s_ser_rel float64 7.20 MB\n",
      "SER_s_ser_find float64 7.20 MB\n",
      "SER_s_ser_imp float64 7.20 MB\n",
      "SER_s_ser_rec float64 7.20 MB\n",
      "SER_m_ser_rel float64 7.20 MB\n",
      "SER_m_ser_find float64 7.20 MB\n",
      "SER_m_ser_imp float64 7.20 MB\n",
      "SER_m_ser_rec float64 7.20 MB\n",
      "SER_n float32 5.40 MB\n",
      "PERS_openness_r float64 7.20 MB\n",
      "PERS_openness_p float64 7.20 MB\n",
      "PERS_openness_mean float64 7.20 MB\n",
      "PERS_openness_std float64 7.20 MB\n",
      "PERS_agreeableness_r float64 7.20 MB\n",
      "PERS_agreeableness_p float64 7.20 MB\n",
      "PERS_agreeableness_mean float64 7.20 MB\n",
      "PERS_agreeableness_std float64 7.20 MB\n",
      "PERS_emotional_stability_r float64 7.20 MB\n",
      "PERS_emotional_stability_p float64 7.20 MB\n",
      "PERS_emotional_stability_mean float64 7.20 MB\n",
      "PERS_emotional_stability_std float64 7.20 MB\n",
      "PERS_conscientiousness_r float64 7.20 MB\n",
      "PERS_conscientiousness_p float64 7.20 MB\n",
      "PERS_conscientiousness_mean float64 7.20 MB\n",
      "PERS_conscientiousness_std float64 7.20 MB\n",
      "PERS_extraversion_r float64 7.20 MB\n",
      "PERS_extraversion_p float64 7.20 MB\n",
      "PERS_extraversion_mean float64 7.20 MB\n",
      "PERS_extraversion_std float64 7.20 MB\n",
      "PERS_ratings_n float32 5.40 MB\n",
      "PERS_ratings_mean float64 7.20 MB\n",
      "PERS_ratings_std float64 7.20 MB\n",
      "PERS_movieId float32 5.40 MB\n",
      "ML_movieId float32 5.40 MB\n",
      "ML_genres__Adventure float32 5.40 MB\n",
      "ML_genres__Animation float32 5.40 MB\n",
      "ML_genres__Children float32 5.40 MB\n",
      "ML_genres__Comedy float32 5.40 MB\n",
      "ML_genres__Fantasy float32 5.40 MB\n",
      "ML_genres__Romance float32 5.40 MB\n",
      "ML_genres__Drama float32 5.40 MB\n",
      "ML_genres__Action float32 5.40 MB\n",
      "ML_genres__Crime float32 5.40 MB\n",
      "ML_genres__Thriller float32 5.40 MB\n",
      "ML_genres__Horror float32 5.40 MB\n",
      "ML_genres__Mystery float32 5.40 MB\n",
      "ML_genres__Sci-Fi float32 5.40 MB\n",
      "ML_genres__IMAX float32 5.40 MB\n",
      "ML_genres__Documentary float32 5.40 MB\n",
      "ML_genres__War float32 5.40 MB\n",
      "ML_genres__Musical float32 5.40 MB\n",
      "ML_genres__Western float32 5.40 MB\n",
      "ML_genres__Film-Noir float32 5.40 MB\n",
      "ML_ratings_n float32 5.40 MB\n",
      "ML_ratings_mean float64 7.20 MB\n",
      "ML_ratings_std float64 7.20 MB\n",
      "TMB_genres object 21.58 MB\n"
     ]
    }
   ],
   "source": [
    "def mem_usage(pandas_obj):\n",
    "    if isinstance(pandas_obj,pd.DataFrame):\n",
    "        usage_b = pandas_obj.memory_usage(deep=True).sum()\n",
    "    else: # we assume if not a df it's a series\n",
    "        usage_b = pandas_obj.memory_usage(deep=True)\n",
    "    usage_mb = usage_b / 1024 ** 2 # convert bytes to megabytes\n",
    "    return \"{:03.2f} MB\".format(usage_mb)\n",
    "\n",
    "for col in INT_df_numeric.columns:\n",
    "    print(col, INT_df_numeric[col].dtype, mem_usage(INT_df_numeric[col]) )"
   ]
  },
  {
   "cell_type": "code",
   "execution_count": 10,
   "metadata": {},
   "outputs": [],
   "source": [
    "# INT_df.drop(\"HETREC_spanishTitle\",axis=1,inplace=True)\n",
    "# INT_df.drop(\"HETREC_rtID\",axis=1,inplace=True)\n",
    "# INT_df.drop(\"HETREC_directorID\",axis=1,inplace=True)\n",
    "# INT_df.drop(\"HETREC_imdbPictureURL\",axis=1,inplace=True)\n",
    "# INT_df.drop(\"HETREC_rtPictureURL\",axis=1,inplace=True)\n",
    "# INT_df.drop(\"TMB_poster_path\",axis=1,inplace=True)\n",
    "# INT_df.drop(\"TMB_backdrop_path\",axis=1,inplace=True)\n",
    "# INT_df.drop(\"TMB_homepage\",axis=1,inplace=True)\n",
    "# INT_df.drop(\"TMB_facebook_id\",axis=1,inplace=True)\n",
    "# INT_df.drop(\"TMB_instagram_id\",axis=1,inplace=True)\n",
    "# INT_df.drop(\"TMB_twitter_id\",axis=1,inplace=True)\n",
    "\n",
    "# NUM_movies.drop(\"link\",axis=1,inplace=True)\n",
    "\n",
    "# INT_df[\"HETREC_country\"] = INT_df[\"HETREC_country\"].astype('category')\n",
    "# INT_df[\"TMB_video\"] = INT_df[\"TMB_video\"].astype('float32')"
   ]
  },
  {
   "cell_type": "code",
   "execution_count": 7,
   "metadata": {},
   "outputs": [],
   "source": [
    "float_cols = INT_df.columns[INT_df.dtypes == \"float64\"]\n",
    "def downcast_float_safe(col):\n",
    "    return (INT_df[col][INT_df[col].notnull()] == INT_df[col][INT_df[col].notnull()].astype(\"float32\")).all()\n",
    "\n",
    "for col in float_cols:\n",
    "    if downcast_float_safe(col):\n",
    "        INT_df[col] = INT_df[col].astype('float32')"
   ]
  },
  {
   "cell_type": "code",
   "execution_count": 48,
   "metadata": {},
   "outputs": [
    {
     "data": {
      "text/plain": [
       "float64           88\n",
       "float32           85\n",
       "object            24\n",
       "category           1\n",
       "datetime64[ns]     1\n",
       "category           1\n",
       "category           1\n",
       "dtype: int64"
      ]
     },
     "execution_count": 48,
     "metadata": {},
     "output_type": "execute_result"
    }
   ],
   "source": [
    "INT_df.dtypes.value_counts()"
   ]
  },
  {
   "cell_type": "code",
   "execution_count": null,
   "metadata": {},
   "outputs": [],
   "source": [
    "gc.collect()"
   ]
  },
  {
   "cell_type": "code",
   "execution_count": null,
   "metadata": {},
   "outputs": [],
   "source": []
  },
  {
   "cell_type": "code",
   "execution_count": null,
   "metadata": {},
   "outputs": [],
   "source": []
  }
 ],
 "metadata": {
  "kernelspec": {
   "display_name": "Python [conda env:Cook_Tortoise_Imdb_project]",
   "language": "python",
   "name": "conda-env-Cook_Tortoise_Imdb_project-py"
  },
  "language_info": {
   "codemirror_mode": {
    "name": "ipython",
    "version": 3
   },
   "file_extension": ".py",
   "mimetype": "text/x-python",
   "name": "python",
   "nbconvert_exporter": "python",
   "pygments_lexer": "ipython3",
   "version": "3.6.7"
  }
 },
 "nbformat": 4,
 "nbformat_minor": 2
}
