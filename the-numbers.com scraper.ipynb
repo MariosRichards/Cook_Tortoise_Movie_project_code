{
 "cells": [
  {
   "cell_type": "code",
   "execution_count": null,
   "metadata": {},
   "outputs": [],
   "source": []
  },
  {
   "cell_type": "code",
   "execution_count": null,
   "metadata": {},
   "outputs": [],
   "source": [
    "# https://github.com/seanabu/movie_data_scraper/blob/master/the_numbers_scrape.ipynb\n",
    "import requests\n",
    "from bs4 import BeautifulSoup\n",
    "import string\n",
    "# import urlparse \n",
    "from urllib.parse import urlparse\n",
    "from urllib.request import urlopen\n",
    "import re\n",
    "import locale\n",
    "import pickle\n",
    "from dateutil import parser\n",
    "\n",
    "\n",
    "from urllib.request import urlopen\n",
    "from bs4 import BeautifulSoup\n",
    "import re \n",
    "from collections import defaultdict \n",
    "from pandas import Series, DataFrame \n",
    "import numpy as np \n",
    "from bs4 import BeautifulSoup\n",
    "import re \n",
    "import sys\n",
    "sys.setrecursionlimit(20000)\n",
    "import unidecode\n",
    "import unicodedata\n",
    "\n",
    "import urllib"
   ]
  },
  {
   "cell_type": "code",
   "execution_count": null,
   "metadata": {},
   "outputs": [],
   "source": [
    "# https://www.the-numbers.com/movie/budgets/all/101"
   ]
  },
  {
   "cell_type": "code",
   "execution_count": null,
   "metadata": {},
   "outputs": [],
   "source": [
    "# def make_polite_request(url):\n",
    "\n",
    "#     req = urllib.request.Request(\n",
    "#         url, \n",
    "#         data=None, \n",
    "#         headers={\n",
    "#             'User-Agent': 'Respectful Scraper Bot'\n",
    "#         }\n",
    "#     )\n",
    "#     return req\n",
    "# # url = 'http://www.the-numbers.com/movie/budgets/all'"
   ]
  },
  {
   "cell_type": "code",
   "execution_count": null,
   "metadata": {},
   "outputs": [],
   "source": [
    "url_list = ['https://www.the-numbers.com/movie/budgets/all/1']+['https://www.the-numbers.com/movie/budgets/all/%d' % (x) for x in range(101, 5800,100)]\n",
    "\n",
    "scrape_count = 1\n",
    "df = pd.DataFrame(columns = [\"date\",\"title\",\"link\",\"page_no\",\"production_budget\",\"domestic_gross\",\"worldwide_gross\",\"scrape_count\"])\n",
    "\n",
    "for url in url_list:\n",
    "    response = requests.get(url)\n",
    "#     response = urllib.request.urlopen(make_polite_request(url))\n",
    "    page = response.text\n",
    "    soup = BeautifulSoup(page)\n",
    "    rows = soup.find('table').find_all('tr')[1:101]\n",
    "\n",
    "    for row in rows:\n",
    "\n",
    "        date = row.a.text\n",
    "        title = row.b.a.text\n",
    "        link = row.b.a.get('href')\n",
    "        page_no = row.find_all(\"td\")[0].text\n",
    "        production_budget = row.find_all(\"td\")[3].text\n",
    "        domestic_gross = row.find_all(\"td\")[4].text\n",
    "        worldwide_gross = row.find_all(\"td\")[5].text    \n",
    "\n",
    "        df = df.append({'date': date, 'title': title, 'link':link, 'page_no':page_no,\n",
    "                   'production_budget': production_budget, 'domestic_gross': domestic_gross,\n",
    "                   'worldwide_gross': worldwide_gross,'scrape_count':scrape_count}, ignore_index=True)\n",
    "\n",
    "        scrape_count = scrape_count+1\n",
    "\n"
   ]
  },
  {
   "cell_type": "code",
   "execution_count": null,
   "metadata": {},
   "outputs": [],
   "source": [
    "url = 'https://www.the-numbers.com/movie/budgets/all/1'\n",
    "response = requests.get(url)\n",
    "# response = urllib.request.urlopen(make_polite_request(url))"
   ]
  },
  {
   "cell_type": "code",
   "execution_count": null,
   "metadata": {},
   "outputs": [],
   "source": [
    "page = response.text\n",
    "soup = BeautifulSoup(page)\n",
    "rows = soup.find('table').find_all('tr')[1:101]\n",
    "rows"
   ]
  },
  {
   "cell_type": "code",
   "execution_count": null,
   "metadata": {},
   "outputs": [],
   "source": [
    "soup = BeautifulSoup(page)"
   ]
  },
  {
   "cell_type": "code",
   "execution_count": null,
   "metadata": {},
   "outputs": [],
   "source": [
    "date = rows[1].a.text\n",
    "title = rows[1].b.a.text\n",
    "link = rows[1].b.a.get('href')\n",
    "page_no = rows[1].find_all(\"td\")[0].text\n",
    "production_budget = rows[1].find_all(\"td\")[3].text\n",
    "domestic_gross = rows[1].find_all(\"td\")[4].text\n",
    "worldwide_gross = rows[1].find_all(\"td\")[5].text"
   ]
  },
  {
   "cell_type": "code",
   "execution_count": null,
   "metadata": {},
   "outputs": [],
   "source": [
    "df.append({'date': date, 'title': title, 'link':link, 'page_no':page_no,\n",
    "               'production_budget': production_budget, 'domestic_gross': domestic_gross,\n",
    "               'worldwide_gross': worldwide_gross}, ignore_index=True)"
   ]
  },
  {
   "cell_type": "code",
   "execution_count": null,
   "metadata": {},
   "outputs": [],
   "source": [
    "{'date': date, 'title': title, 'link':link, 'page_no':page_no,\n",
    "               'production_budget': production_budget, 'domestic_gross': domestic_gross,\n",
    "               'worldwide_gross': worldwide_gross}"
   ]
  },
  {
   "cell_type": "code",
   "execution_count": null,
   "metadata": {},
   "outputs": [],
   "source": [
    "df[\"production_budget\"] = df[\"production_budget\"].apply(lambda x: int( \"\".join( x.split(\"$\")[1].split(\",\") ) ) )\n",
    "df[\"domestic_gross\"]    = df[\"domestic_gross\"   ].apply(lambda x: int( \"\".join( x.split(\"$\")[1].split(\",\") ) ) )\n",
    "df[\"worldwide_gross\"]   = df[\"worldwide_gross\"  ].apply(lambda x: int( \"\".join( x.split(\"$\")[1].split(\",\") ) ) )\n",
    "df[\"scrape_count\"] = df[\"scrape_count\"].astype('int')\n",
    "df[\"page_no\"]      = df[\"page_no\"].astype('int')\n",
    "\n",
    "df[\"date\"] = pd.to_datetime(df[\"date\"]).apply(lambda x: x.date())\n",
    "df[\"release_year\"]  = df[\"date\"].apply(lambda x: x.year)\n",
    "df[\"release_month\"] = df[\"date\"].apply(lambda x: x.month)\n",
    "df[\"release_day\"]   = df[\"date\"].apply(lambda x: x.day)"
   ]
  },
  {
   "cell_type": "code",
   "execution_count": null,
   "metadata": {},
   "outputs": [],
   "source": [
    "NUM_movies=df.copy()\n",
    "NUM_movies.to_csv(Dataset_directory+\"Processed\"+os.sep+\"NUM_movies\"+\".csv\")"
   ]
  },
  {
   "cell_type": "code",
   "execution_count": null,
   "metadata": {},
   "outputs": [],
   "source": []
  },
  {
   "cell_type": "code",
   "execution_count": null,
   "metadata": {},
   "outputs": [],
   "source": []
  },
  {
   "cell_type": "code",
   "execution_count": null,
   "metadata": {},
   "outputs": [],
   "source": []
  },
  {
   "cell_type": "code",
   "execution_count": null,
   "metadata": {},
   "outputs": [],
   "source": []
  }
 ],
 "metadata": {
  "kernelspec": {
   "display_name": "Python [conda env:Cook_Tortoise_Imdb_project]",
   "language": "python",
   "name": "conda-env-Cook_Tortoise_Imdb_project-py"
  },
  "language_info": {
   "codemirror_mode": {
    "name": "ipython",
    "version": 3
   },
   "file_extension": ".py",
   "mimetype": "text/x-python",
   "name": "python",
   "nbconvert_exporter": "python",
   "pygments_lexer": "ipython3",
   "version": "3.6.7"
  }
 },
 "nbformat": 4,
 "nbformat_minor": 2
}
