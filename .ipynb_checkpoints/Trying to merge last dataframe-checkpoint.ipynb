{
 "cells": [
  {
   "cell_type": "code",
   "execution_count": 2,
   "metadata": {},
   "outputs": [],
   "source": [
    "# basic python data handling analysis modules\n",
    "import numpy as np, pandas as pd, matplotlib.pyplot as plt, seaborn as sns\n",
    "import pickle, os, gc, re\n",
    "# small utility functions\n",
    "from utility import *\n",
    "\n",
    "# interactive jupyter widgets!\n",
    "# https://towardsdatascience.com/interactive-controls-for-jupyter-notebooks-f5c94829aee6\n",
    "import ipywidgets as widgets\n",
    "from ipywidgets import interact, interact_manual\n",
    "\n",
    "%matplotlib inline"
   ]
  },
  {
   "cell_type": "code",
   "execution_count": 3,
   "metadata": {},
   "outputs": [],
   "source": [
    "Dataset_directory = \"..\"+os.sep+\"Datasets\"+os.sep"
   ]
  },
  {
   "cell_type": "code",
   "execution_count": 4,
   "metadata": {},
   "outputs": [],
   "source": [
    "secondary_tmdb_dir = \"E:\\\\Datasets\\\\themoviedb\"\n",
    "INT_df = pd.read_msgpack(secondary_tmdb_dir+os.sep+\"INT_df.msgpack\")"
   ]
  },
  {
   "cell_type": "code",
   "execution_count": 9,
   "metadata": {},
   "outputs": [],
   "source": [
    "INT_df.columns = [x.replace(\"ML_ML_\",\"ML_\") for x in INT_df.columns]"
   ]
  },
  {
   "cell_type": "code",
   "execution_count": 10,
   "metadata": {},
   "outputs": [],
   "source": [
    "NUM_movies = pd.read_msgpack(Dataset_directory+\"Processed\"+os.sep+\"NUM_movies\"+\".msgpack\")"
   ]
  },
  {
   "cell_type": "code",
   "execution_count": null,
   "metadata": {},
   "outputs": [],
   "source": []
  },
  {
   "cell_type": "code",
   "execution_count": null,
   "metadata": {},
   "outputs": [],
   "source": [
    "NUM_movies.index = NUM_movies[\"movieId\"]\n",
    "NUM_movies.columns = [\"NUM_\"+x for x in NUM_movies.columns]\n",
    "INT_df = INT_df.merge(NUM_movies, how ='left', left_on ='TMB_movieId', right_on = 'movieId')"
   ]
  },
  {
   "cell_type": "code",
   "execution_count": null,
   "metadata": {},
   "outputs": [],
   "source": []
  },
  {
   "cell_type": "code",
   "execution_count": 14,
   "metadata": {},
   "outputs": [
    {
     "name": "stdout",
     "output_type": "stream",
     "text": [
      "TMB_adult float64 7.20 MB\n",
      "TMB_alternative_titles object 19.91 MB\n",
      "TMB_backdrop_path object 24.20 MB\n",
      "TMB_belongs_to_collection float32 5.40 MB\n",
      "TMB_budget float64 7.20 MB\n",
      "TMB_genres object 21.58 MB\n",
      "TMB_homepage object 17.97 MB\n",
      "TMB_tmdbId float64 7.20 MB\n",
      "TMB_imdbId float32 5.40 MB\n",
      "TMB_keywords object 21.74 MB\n",
      "TMB_original_language category 4.51 MB\n",
      "TMB_original_title object 40.52 MB\n",
      "TMB_overview object 153.29 MB\n",
      "TMB_popularity float64 7.20 MB\n",
      "TMB_poster_path object 37.59 MB\n",
      "TMB_production_companies object 20.29 MB\n",
      "TMB_production_countries object 20.30 MB\n",
      "TMB_release_date datetime64[ns] 7.20 MB\n",
      "TMB_revenue float64 7.20 MB\n",
      "TMB_runtime float32 5.40 MB\n",
      "TMB_spoken_languages object 20.36 MB\n",
      "TMB_status category 4.05 MB\n",
      "TMB_tagline object 22.91 MB\n",
      "TMB_title object 39.08 MB\n",
      "TMB_video object 18.08 MB\n",
      "TMB_vote_average float64 7.20 MB\n",
      "TMB_vote_count float64 7.20 MB\n",
      "TMB_facebook_id object 18.21 MB\n",
      "TMB_instagram_id object 18.08 MB\n",
      "TMB_twitter_id object 18.09 MB\n",
      "TMB_num_genres float64 7.20 MB\n",
      "TMB_num_production_companies float64 7.20 MB\n",
      "TMB_num_production_countries float64 7.20 MB\n",
      "TMB_num_spoken_languages float64 7.20 MB\n",
      "TMB_num_alternative_titles float64 7.20 MB\n",
      "TMB_num_keywords float64 7.20 MB\n",
      "TMB_cast_size float64 7.20 MB\n",
      "TMB_crew_size float64 7.20 MB\n",
      "TMB_cast_credit_list object 39.22 MB\n",
      "TMB_crew_credit_list object 32.63 MB\n",
      "TMB_gender_guess_integrated_crew_mean float64 7.20 MB\n",
      "TMB_gender_guess_integrated_cast_mean float64 7.20 MB\n",
      "TMB_gender_guess_integrated_crew_lead float64 7.20 MB\n",
      "TMB_gender_guess_integrated_cast_lead float64 7.20 MB\n",
      "TMB_gender_guess_integrated_crew_lead5 float64 7.20 MB\n",
      "TMB_gender_guess_integrated_cast_lead5 float64 7.20 MB\n",
      "TMB_credit_number_crew_mean float64 7.20 MB\n",
      "TMB_credit_number_cast_mean float64 7.20 MB\n",
      "TMB_credit_number_crew_lead float64 7.20 MB\n",
      "TMB_credit_number_cast_lead float64 7.20 MB\n",
      "TMB_credit_number_crew_lead5 float64 7.20 MB\n",
      "TMB_credit_number_cast_lead5 float64 7.20 MB\n",
      "TMB_job_number_crew_mean float64 7.20 MB\n",
      "TMB_job_number_crew_lead float64 7.20 MB\n",
      "TMB_job_number_crew_lead5 float64 7.20 MB\n",
      "TMB_department_number_crew_mean float64 7.20 MB\n",
      "TMB_department_number_crew_lead float64 7.20 MB\n",
      "TMB_department_number_crew_lead5 float64 7.20 MB\n",
      "TMB_mean_order_crew_mean float64 7.20 MB\n",
      "TMB_mean_order_cast_mean float64 7.20 MB\n",
      "TMB_mean_order_crew_lead float64 7.20 MB\n",
      "TMB_mean_order_cast_lead float64 7.20 MB\n",
      "TMB_mean_order_crew_lead5 float64 7.20 MB\n",
      "TMB_mean_order_cast_lead5 float64 7.20 MB\n",
      "TMB_fractional_mean_order_crew_mean float64 7.20 MB\n",
      "TMB_fractional_mean_order_cast_mean float64 7.20 MB\n",
      "TMB_fractional_mean_order_crew_lead float64 7.20 MB\n",
      "TMB_fractional_mean_order_cast_lead float64 7.20 MB\n",
      "TMB_fractional_mean_order_crew_lead5 float64 7.20 MB\n",
      "TMB_fractional_mean_order_cast_lead5 float64 7.20 MB\n",
      "TMB_importulence_crew_mean float64 7.20 MB\n",
      "TMB_importulence_cast_mean float64 7.20 MB\n",
      "TMB_importulence_crew_lead float64 7.20 MB\n",
      "TMB_importulence_cast_lead float64 7.20 MB\n",
      "TMB_importulence_crew_lead5 float64 7.20 MB\n",
      "TMB_importulence_cast_lead5 float64 7.20 MB\n",
      "TMB_movieId float32 5.40 MB\n",
      "HETREC_movieId float64 7.20 MB\n",
      "HETREC_title object 18.40 MB\n",
      "HETREC_imdbId float64 7.20 MB\n",
      "HETREC_spanishTitle object 18.46 MB\n",
      "HETREC_imdbPictureURL object 19.29 MB\n",
      "HETREC_year float64 7.20 MB\n",
      "HETREC_rtID object 18.38 MB\n",
      "HETREC_rtAllCriticsRating float64 7.20 MB\n",
      "HETREC_rtAllCriticsNumReviews float64 7.20 MB\n",
      "HETREC_rtAllCriticsNumFresh float64 7.20 MB\n",
      "HETREC_rtAllCriticsNumRotten float64 7.20 MB\n",
      "HETREC_rtAllCriticsScore float64 7.20 MB\n",
      "HETREC_rtTopCriticsRating float64 7.20 MB\n",
      "HETREC_rtTopCriticsNumReviews float64 7.20 MB\n",
      "HETREC_rtTopCriticsNumFresh float64 7.20 MB\n",
      "HETREC_rtTopCriticsNumRotten float64 7.20 MB\n",
      "HETREC_rtTopCriticsScore float64 7.20 MB\n",
      "HETREC_rtAudienceRating float64 7.20 MB\n",
      "HETREC_rtAudienceNumRatings float64 7.20 MB\n",
      "HETREC_rtAudienceScore float64 7.20 MB\n",
      "HETREC_rtPictureURL object 18.79 MB\n",
      "HETREC_country object 18.27 MB\n",
      "HETREC_directorID object 18.36 MB\n",
      "HETREC_directorName object 18.37 MB\n",
      "HETREC_ratings_n float64 7.20 MB\n",
      "HETREC_ratings_mean float64 7.20 MB\n",
      "HETREC_ratings_std float64 7.20 MB\n",
      "HETREC_rtAllCriticsFracRotten float64 7.20 MB\n",
      "HETREC_rtTopCriticsFracRotten float64 7.20 MB\n",
      "HETREC_genres__Adventure float64 7.20 MB\n",
      "HETREC_genres__Animation float64 7.20 MB\n",
      "HETREC_genres__Children float64 7.20 MB\n",
      "HETREC_genres__Comedy float64 7.20 MB\n",
      "HETREC_genres__Fantasy float64 7.20 MB\n",
      "HETREC_genres__Romance float64 7.20 MB\n",
      "HETREC_genres__Drama float64 7.20 MB\n",
      "HETREC_genres__Action float64 7.20 MB\n",
      "HETREC_genres__Crime float64 7.20 MB\n",
      "HETREC_genres__Thriller float64 7.20 MB\n",
      "HETREC_genres__Horror float64 7.20 MB\n",
      "HETREC_genres__Mystery float64 7.20 MB\n",
      "HETREC_genres__Sci-Fi float64 7.20 MB\n",
      "HETREC_genres__IMAX float64 7.20 MB\n",
      "HETREC_genres__Documentary float64 7.20 MB\n",
      "HETREC_genres__War float64 7.20 MB\n",
      "HETREC_genres__Musical float64 7.20 MB\n",
      "HETREC_genres__Film-Noir float64 7.20 MB\n",
      "HETREC_genres__Western float64 7.20 MB\n",
      "HETREC_genres__Short float64 7.20 MB\n",
      "SER_movieId float64 7.20 MB\n",
      "SER_title object 20.44 MB\n",
      "SER_releaseDate object 19.63 MB\n",
      "SER_imdbId float64 7.20 MB\n",
      "SER_tmdbId float64 7.20 MB\n",
      "SER_director_list object 18.38 MB\n",
      "SER_num_directors float64 7.20 MB\n",
      "SER_genres_list object 18.66 MB\n",
      "SER_num_genres float64 7.20 MB\n",
      "SER_starring_list object 19.70 MB\n",
      "SER_num_starring float64 7.20 MB\n",
      "SER_ratings_n float64 7.20 MB\n",
      "SER_ratings_mean float64 7.20 MB\n",
      "SER_ratings_std float64 7.20 MB\n",
      "SER_rating float64 7.20 MB\n",
      "SER_predictedRating float64 7.20 MB\n",
      "SER_s1 float64 7.20 MB\n",
      "SER_s2 float64 7.20 MB\n",
      "SER_s3 float64 7.20 MB\n",
      "SER_s4 float64 7.20 MB\n",
      "SER_s5 float64 7.20 MB\n",
      "SER_s6 float64 7.20 MB\n",
      "SER_s7 float64 7.20 MB\n",
      "SER_s8 float64 7.20 MB\n",
      "SER_q float64 7.20 MB\n",
      "SER_s_ser_rel float64 7.20 MB\n",
      "SER_s_ser_find float64 7.20 MB\n",
      "SER_s_ser_imp float64 7.20 MB\n",
      "SER_s_ser_rec float64 7.20 MB\n",
      "SER_m_ser_rel float64 7.20 MB\n",
      "SER_m_ser_find float64 7.20 MB\n",
      "SER_m_ser_imp float64 7.20 MB\n",
      "SER_m_ser_rec float64 7.20 MB\n",
      "SER_n float64 7.20 MB\n",
      "PERS_openness_r float64 7.20 MB\n",
      "PERS_openness_p float64 7.20 MB\n",
      "PERS_openness_mean float64 7.20 MB\n",
      "PERS_openness_std float64 7.20 MB\n",
      "PERS_agreeableness_r float64 7.20 MB\n",
      "PERS_agreeableness_p float64 7.20 MB\n",
      "PERS_agreeableness_mean float64 7.20 MB\n",
      "PERS_agreeableness_std float64 7.20 MB\n",
      "PERS_emotional_stability_r float64 7.20 MB\n",
      "PERS_emotional_stability_p float64 7.20 MB\n",
      "PERS_emotional_stability_mean float64 7.20 MB\n",
      "PERS_emotional_stability_std float64 7.20 MB\n",
      "PERS_conscientiousness_r float64 7.20 MB\n",
      "PERS_conscientiousness_p float64 7.20 MB\n",
      "PERS_conscientiousness_mean float64 7.20 MB\n",
      "PERS_conscientiousness_std float64 7.20 MB\n",
      "PERS_extraversion_r float64 7.20 MB\n",
      "PERS_extraversion_p float64 7.20 MB\n",
      "PERS_extraversion_mean float64 7.20 MB\n",
      "PERS_extraversion_std float64 7.20 MB\n",
      "PERS_ratings_n float64 7.20 MB\n",
      "PERS_ratings_mean float64 7.20 MB\n",
      "PERS_ratings_std float64 7.20 MB\n",
      "PERS_movieId float64 7.20 MB\n",
      "ML_movieId float64 7.20 MB\n",
      "ML_title object 20.87 MB\n",
      "ML_genres__Adventure float64 7.20 MB\n",
      "ML_genres__Animation float64 7.20 MB\n",
      "ML_genres__Children float64 7.20 MB\n",
      "ML_genres__Comedy float64 7.20 MB\n",
      "ML_genres__Fantasy float64 7.20 MB\n",
      "ML_genres__Romance float64 7.20 MB\n",
      "ML_genres__Drama float64 7.20 MB\n",
      "ML_genres__Action float64 7.20 MB\n",
      "ML_genres__Crime float64 7.20 MB\n",
      "ML_genres__Thriller float64 7.20 MB\n",
      "ML_genres__Horror float64 7.20 MB\n",
      "ML_genres__Mystery float64 7.20 MB\n",
      "ML_genres__Sci-Fi float64 7.20 MB\n",
      "ML_genres__IMAX float64 7.20 MB\n",
      "ML_genres__Documentary float64 7.20 MB\n",
      "ML_genres__War float64 7.20 MB\n",
      "ML_genres__Musical float64 7.20 MB\n",
      "ML_genres__Western float64 7.20 MB\n",
      "ML_genres__Film-Noir float64 7.20 MB\n",
      "ML_ratings_n float64 7.20 MB\n",
      "ML_ratings_mean float64 7.20 MB\n",
      "ML_ratings_std float64 7.20 MB\n"
     ]
    }
   ],
   "source": [
    "def mem_usage(pandas_obj):\n",
    "    if isinstance(pandas_obj,pd.DataFrame):\n",
    "        usage_b = pandas_obj.memory_usage(deep=True).sum()\n",
    "    else: # we assume if not a df it's a series\n",
    "        usage_b = pandas_obj.memory_usage(deep=True)\n",
    "    usage_mb = usage_b / 1024 ** 2 # convert bytes to megabytes\n",
    "    return \"{:03.2f} MB\".format(usage_mb)\n",
    "\n",
    "for col in INT_df.columns:\n",
    "    print(col, INT_df[col].dtype, mem_usage(INT_df[col]) )"
   ]
  },
  {
   "cell_type": "code",
   "execution_count": 19,
   "metadata": {},
   "outputs": [],
   "source": [
    "# INT_df.drop(\"HETREC_spanishTitle\",axis=1,inplace=True)\n",
    "INT_df.drop(\"HETREC_rtID\",axis=1,inplace=True)"
   ]
  },
  {
   "cell_type": "code",
   "execution_count": 17,
   "metadata": {},
   "outputs": [
    {
     "data": {
      "text/plain": [
       "21086"
      ]
     },
     "execution_count": 17,
     "metadata": {},
     "output_type": "execute_result"
    }
   ],
   "source": [
    "(INT_df[\"TMB_budget\"]==INT_df[\"TMB_budget\"].astype('float32')).sum()"
   ]
  },
  {
   "cell_type": "code",
   "execution_count": 21,
   "metadata": {},
   "outputs": [
    {
     "data": {
      "text/plain": [
       "(71,)"
      ]
     },
     "execution_count": 21,
     "metadata": {},
     "output_type": "execute_result"
    }
   ],
   "source": [
    "INT_df[\"HETREC_country\"] = INT_df[\"HETREC_country\"].astype('category')"
   ]
  },
  {
   "cell_type": "code",
   "execution_count": null,
   "metadata": {},
   "outputs": [],
   "source": []
  },
  {
   "cell_type": "code",
   "execution_count": null,
   "metadata": {},
   "outputs": [],
   "source": []
  }
 ],
 "metadata": {
  "kernelspec": {
   "display_name": "Python [conda env:Cook_Tortoise_Imdb_project]",
   "language": "python",
   "name": "conda-env-Cook_Tortoise_Imdb_project-py"
  },
  "language_info": {
   "codemirror_mode": {
    "name": "ipython",
    "version": 3
   },
   "file_extension": ".py",
   "mimetype": "text/x-python",
   "name": "python",
   "nbconvert_exporter": "python",
   "pygments_lexer": "ipython3",
   "version": "3.6.7"
  }
 },
 "nbformat": 4,
 "nbformat_minor": 2
}
