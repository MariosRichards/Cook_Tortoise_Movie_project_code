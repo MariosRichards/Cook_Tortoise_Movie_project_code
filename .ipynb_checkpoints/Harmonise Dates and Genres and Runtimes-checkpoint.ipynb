{
 "cells": [
  {
   "cell_type": "code",
   "execution_count": 1,
   "metadata": {},
   "outputs": [],
   "source": [
    "# basic python data handling analysis modules\n",
    "import numpy as np, pandas as pd, matplotlib.pyplot as plt, seaborn as sns\n",
    "import pickle, os, gc, re\n",
    "# small utility functions\n",
    "from utility import *\n",
    "\n",
    "# interactive jupyter widgets!\n",
    "# https://towardsdatascience.com/interactive-controls-for-jupyter-notebooks-f5c94829aee6\n",
    "import ipywidgets as widgets\n",
    "from ipywidgets import interact, interact_manual\n",
    "\n",
    "%matplotlib inline"
   ]
  },
  {
   "cell_type": "code",
   "execution_count": 2,
   "metadata": {},
   "outputs": [],
   "source": [
    "Dataset_directory = \"..\"+os.sep+\"Datasets\"+os.sep\n",
    "secondary_tmdb_dir = \"E:\\\\Datasets\\\\themoviedb\""
   ]
  },
  {
   "cell_type": "code",
   "execution_count": 3,
   "metadata": {},
   "outputs": [],
   "source": [
    "INT_df = pd.read_msgpack(secondary_tmdb_dir+os.sep+\"INT_df.msgpack\")"
   ]
  },
  {
   "cell_type": "code",
   "execution_count": 20,
   "metadata": {},
   "outputs": [],
   "source": [
    "flatten = lambda l: [item for sublist in l for item in sublist]"
   ]
  },
  {
   "cell_type": "code",
   "execution_count": null,
   "metadata": {},
   "outputs": [],
   "source": []
  },
  {
   "cell_type": "code",
   "execution_count": 4,
   "metadata": {},
   "outputs": [],
   "source": [
    "INT_df[\"tmdbId\"] = INT_df[search(INT_df,\"tmdbId\").index].fillna(method=\"ffill\",axis=1)[\"SER_tmdbId\"]#.notnull().sum()\n",
    "INT_df[\"movieId\"] = INT_df[search(INT_df,\"movieId\").index].fillna(method=\"ffill\",axis=1)[\"NUM_movieId\"]#.notnull().sum()"
   ]
  },
  {
   "cell_type": "code",
   "execution_count": null,
   "metadata": {},
   "outputs": [],
   "source": []
  },
  {
   "cell_type": "code",
   "execution_count": null,
   "metadata": {},
   "outputs": [],
   "source": []
  },
  {
   "cell_type": "code",
   "execution_count": null,
   "metadata": {},
   "outputs": [],
   "source": []
  },
  {
   "cell_type": "code",
   "execution_count": null,
   "metadata": {},
   "outputs": [],
   "source": []
  },
  {
   "cell_type": "code",
   "execution_count": 5,
   "metadata": {},
   "outputs": [],
   "source": [
    "# INT_df = pd.read_msgpack(secondary_tmdb_dir+os.sep+\"INT_df.msgpack\")\n",
    "# search(INT_df,\"SER_\")"
   ]
  },
  {
   "cell_type": "code",
   "execution_count": 6,
   "metadata": {},
   "outputs": [],
   "source": [
    "# INT_df[search(INT_df,\"release\").index]"
   ]
  },
  {
   "cell_type": "code",
   "execution_count": null,
   "metadata": {},
   "outputs": [],
   "source": []
  },
  {
   "cell_type": "code",
   "execution_count": null,
   "metadata": {},
   "outputs": [],
   "source": []
  },
  {
   "cell_type": "code",
   "execution_count": 7,
   "metadata": {},
   "outputs": [
    {
     "data": {
      "text/plain": [
       "40867"
      ]
     },
     "execution_count": 7,
     "metadata": {},
     "output_type": "execute_result"
    }
   ],
   "source": [
    "INT_df[\"TMB_release_date\"].isnull().sum()"
   ]
  },
  {
   "cell_type": "code",
   "execution_count": 8,
   "metadata": {},
   "outputs": [
    {
     "data": {
      "text/plain": [
       "422460"
      ]
     },
     "execution_count": 8,
     "metadata": {},
     "output_type": "execute_result"
    }
   ],
   "source": [
    "INT_df[\"SER_releaseDate\"].isnull().sum()"
   ]
  },
  {
   "cell_type": "code",
   "execution_count": 11,
   "metadata": {},
   "outputs": [],
   "source": [
    "# %%time\n",
    "# I wonder if MovieLens would like to pay me for fixing their data?\n",
    "INT_df.loc[INT_df[\"movieId\"]==8688,\"SER_releaseDate\"] = \"1968-12-13\" # Shalako 13 December 1968\n",
    "INT_df.loc[INT_df[\"movieId\"]==33471,\"SER_releaseDate\"] = \"2002-04-05\" # https://www.imdb.com/title/tt0292553/?ref_=fn_al_tt_1\n",
    "INT_df.loc[INT_df[\"movieId\"]==46121,\"SER_releaseDate\"] = \"2001-06-01\" # https://www.imdb.com/title/tt0135024/releaseinfo?ref_=tt_dt_dt\n",
    "INT_df.loc[INT_df[\"movieId\"]==47991,\"SER_releaseDate\"] = \"2005-06-09\" # https://www.imdb.com/title/tt0383304/releaseinfo?ref_=tt_dt_dt\n",
    "INT_df.loc[INT_df[\"movieId\"]==42941,\"SER_releaseDate\"] = \"1974-08-08\" # https://www.imdb.com/title/tt0071840/releaseinfo?ref_=tt_dt_dt\n",
    "INT_df.loc[INT_df[\"movieId\"]==59300,\"SER_releaseDate\"] = \"1986-09-12\" # https://www.imdb.com/title/tt0090678/releaseinfo?ref_=tt_dt_dt\n",
    "INT_df.loc[INT_df[\"movieId\"]==55631,\"SER_releaseDate\"] = \"2006-03-17\" # https://www.imdb.com/title/tt0443446/releaseinfo?ref_=tt_dt_dt\n",
    "INT_df.loc[INT_df[\"movieId\"]==60034,\"SER_releaseDate\"] = \"2007-01-22\" # https://www.imdb.com/title/tt0893331/releaseinfo?ref_=tt_dt_dt\n",
    "INT_df.loc[INT_df[\"movieId\"]==97703,\"SER_releaseDate\"] = \"2012-05-07\" # https://www.imdb.com/title/tt2209386/releaseinfo?ref_=tt_dt_dt\n",
    "INT_df.loc[INT_df[\"movieId\"]==105159,\"SER_releaseDate\"] = \"2012-07-13\" # https://www.imdb.com/title/tt1859446/releaseinfo?ref_=tt_dt_dt\n",
    "INT_df.loc[INT_df[\"movieId\"]==105453,\"SER_releaseDate\"] = \"2013-09-19\" # https://www.imdb.com/title/tt2717558/releaseinfo?ref_=tt_dt_dt\n",
    "INT_df.loc[INT_df[\"movieId\"]==105855,\"SER_releaseDate\"] = \"2013-10-11\" # https://www.imdb.com/title/tt2286990/releaseinfo?ref_=tt_dt_dt\n",
    "INT_df.loc[INT_df[\"movieId\"]==109455,\"SER_releaseDate\"] = \"2014-02-21\" # https://www.imdb.com/title/tt2980794/releaseinfo?ref_=tt_dt_dt\n",
    "INT_df.loc[INT_df[\"movieId\"]==57486,\"SER_releaseDate\"] = \"1970-10-23\" # https://www.imdb.com/title/tt0066578/releaseinfo?ref_=tt_dt_dt\n",
    "INT_df.loc[INT_df[\"movieId\"]==53502,\"SER_releaseDate\"] = \"1948-04-27\" # https://www.imdb.com/title/tt0040098/releaseinfo?ref_=tt_dt_dt\n",
    "INT_df.loc[INT_df[\"movieId\"]==60049,\"SER_releaseDate\"] = \"2007-05-30\" # https://www.imdb.com/title/tt0832937/releaseinfo?ref_=tt_dt_dt\n",
    "\n",
    "INT_df[\"SER_releaseDate\"] = pd.to_datetime(INT_df[\"SER_releaseDate\"].replace(\"0000-00-00\",np.nan)).apply(lambda x: x.date())\n",
    "## another problem - whole load of SER_releaseDates *just happen* to be the UNIX start date -> statistically improbable\n",
    "# (yes, I checked whether it happened to be the data of a film festival - it was not!)\n",
    "# also, more on one single date by an order of magnitude\n",
    "matching_UNIX_start_date = INT_df[\"SER_releaseDate\"]==pd.to_datetime(\"1969-12-31\").date()\n",
    "INT_df.loc[matching_UNIX_start_date,\"SER_releaseDate\"] = np.datetime64('NaT')\n",
    "\n",
    "INT_df[\"SER_release_year\"]  = INT_df[\"SER_releaseDate\"].apply(lambda x: x.year if pd.notnull(x) else np.nan)\n",
    "INT_df[\"SER_release_month\"] = INT_df[\"SER_releaseDate\"].apply(lambda x: x.month if pd.notnull(x) else np.nan)\n",
    "INT_df[\"SER_release_day\"]   = INT_df[\"SER_releaseDate\"].apply(lambda x: x.day if pd.notnull(x) else np.nan)\n",
    "\n",
    "INT_df[\"TMB_release_year\"]  = INT_df[\"TMB_release_date\"].apply(lambda x: x.year if pd.notnull(x) else np.nan)\n",
    "INT_df[\"TMB_release_month\"] = INT_df[\"TMB_release_date\"].apply(lambda x: x.month if pd.notnull(x) else np.nan)\n",
    "INT_df[\"TMB_release_day\"]   = INT_df[\"TMB_release_date\"].apply(lambda x: x.day if pd.notnull(x) else np.nan)\n",
    "\n",
    "date_vars = [\"TMB_release_date\",\"SER_releaseDate\"]\n",
    "# hardfix SER and TMB, NUM_date looks fine\n",
    "dates = INT_df[date_vars].applymap(lambda x: pd.to_datetime(x).date() if pd.notnull(x) else np.nan)\n",
    "placeholder_month_day = dates.applymap(lambda x: (x.day==1) & (x.month==1) if pd.notnull(x) else np.nan)\n",
    "\n",
    "INT_df.loc[ placeholder_month_day[\"TMB_release_date\"]==True , \"TMB_release_month\" ] = np.nan\n",
    "INT_df.loc[ placeholder_month_day[\"TMB_release_date\"]==True , \"TMB_release_day\"   ] = np.nan\n",
    "\n",
    "# Meh - no perfect solution - still waaay too many 1st of the month dates ...\n",
    "# But we don't have enough data in NUM_date to compensate if you just toss them all out\n",
    "\n",
    "# INT_df.loc[ INT_df[\"TMB_release_day\"]==1 , \"TMB_release_day\"   ] = np.nan\n",
    "\n",
    "INT_df.loc[ placeholder_month_day[\"SER_releaseDate\" ]==True , \"SER_release_month\" ] = np.nan\n",
    "INT_df.loc[ placeholder_month_day[\"SER_releaseDate\" ]==True , \"SER_release_day\"   ] = np.nan\n",
    "# INT_df.loc[ INT_df[\"SER_release_day\"]==1 , \"SER_release_day\"   ] = np.nan\n",
    "\n",
    "\n",
    "# this represents a very informal sensse of which source is most authoritative!\n",
    "# TMB user content - least reliable, NUM website focused on accurate\n",
    "# HETREC and SER are MovieLens data - not bad, but maybe not so well checked (HETREC in particular has problems)\n",
    "\n",
    "# Concerned that HETREC is really very dodgy"
   ]
  },
  {
   "cell_type": "code",
   "execution_count": 12,
   "metadata": {},
   "outputs": [],
   "source": [
    "INT_df[\"release_year\"] = INT_df[['HETREC_year','TMB_release_year','SER_release_year']].fillna(method=\"ffill\",axis=1)[\"SER_release_year\"]\n",
    "INT_df[\"release_month\"] = INT_df[['TMB_release_month','SER_release_month']].fillna(method=\"ffill\",axis=1)[\"SER_release_month\"]\n",
    "INT_df[\"release_day\"] = INT_df[['TMB_release_day','SER_release_day']].fillna(method=\"ffill\",axis=1)[\"SER_release_day\"]\n",
    "\n",
    "release_date = INT_df[[\"TMB_release_date\",\"SER_releaseDate\"]].fillna(method=\"ffill\",axis=1)[\"SER_releaseDate\"]\n",
    "release_date = pd.to_datetime(release_date)\n",
    "day_and_month_not_actually_given = (INT_df[\"release_day\"]==1) & (INT_df[\"release_month\"]==1)"
   ]
  },
  {
   "cell_type": "code",
   "execution_count": 13,
   "metadata": {},
   "outputs": [
    {
     "data": {
      "text/plain": [
       "release_year     431774\n",
       "release_month    366501\n",
       "release_day      366501\n",
       "dtype: int64"
      ]
     },
     "execution_count": 13,
     "metadata": {},
     "output_type": "execute_result"
    }
   ],
   "source": [
    "match(INT_df,\"release\")"
   ]
  },
  {
   "cell_type": "code",
   "execution_count": 14,
   "metadata": {},
   "outputs": [],
   "source": [
    "release_decade = INT_df[\"release_year\"].apply(lambda x: str(int(10*np.floor(x/10))) if pd.notnull(x) else np.nan)\n",
    "# release_decade_dummies = pd.get_dummies(release_decade , prefix = \"release_decade__\")"
   ]
  },
  {
   "cell_type": "code",
   "execution_count": 15,
   "metadata": {},
   "outputs": [
    {
     "data": {
      "text/plain": [
       "Oct    37376\n",
       "Sep    33704\n",
       "Nov    33188\n",
       "Dec    32157\n",
       "Mar    31781\n",
       "Apr    31241\n",
       "Jun    30635\n",
       "Jan    29659\n",
       "May    29190\n",
       "Feb    27668\n",
       "Aug    25926\n",
       "Jul    23976\n",
       "Name: release_month, dtype: int64"
      ]
     },
     "execution_count": 15,
     "metadata": {},
     "output_type": "execute_result"
    }
   ],
   "source": [
    "import calendar\n",
    "from datetime import date\n",
    "release_month = INT_df['release_month'].apply(lambda x: calendar.month_abbr[int(x)] if pd.notnull(x) else np.nan)\n",
    "release_month[day_and_month_not_actually_given] = np.nan\n",
    "# release_month_dummies = pd.get_dummies(release_month , prefix = \"release_month__\")\n",
    "release_month.value_counts()"
   ]
  },
  {
   "cell_type": "code",
   "execution_count": 16,
   "metadata": {},
   "outputs": [
    {
     "data": {
      "text/plain": [
       "1.0     29555\n",
       "2.0     14965\n",
       "15.0    12693\n",
       "10.0    12527\n",
       "25.0    12049\n",
       "6.0     11943\n",
       "14.0    11844\n",
       "20.0    11716\n",
       "11.0    11698\n",
       "12.0    11695\n",
       "5.0     11663\n",
       "9.0     11252\n",
       "7.0     11199\n",
       "21.0    11177\n",
       "22.0    11105\n",
       "4.0     11017\n",
       "13.0    10933\n",
       "8.0     10886\n",
       "18.0    10877\n",
       "23.0    10860\n",
       "3.0     10850\n",
       "26.0    10829\n",
       "24.0    10825\n",
       "16.0    10782\n",
       "17.0    10678\n",
       "19.0    10614\n",
       "28.0    10583\n",
       "30.0    10572\n",
       "27.0    10485\n",
       "29.0     9607\n",
       "31.0     9022\n",
       "Name: release_day, dtype: int64"
      ]
     },
     "execution_count": 16,
     "metadata": {},
     "output_type": "execute_result"
    }
   ],
   "source": [
    "# day in month\n",
    "release_day = INT_df['release_day'].copy()#.apply(lambda x: calendar.month_abbr[int(x)] if pd.notnull(x) else np.nan)\n",
    "release_day.loc[day_and_month_not_actually_given] = np.nan\n",
    "# release_day_dummies = pd.get_dummies(release_day , prefix = \"release_day_of_the_month__\")\n",
    "# release_day_dummies.columns = release_day_dummies.columns.astype('int')\n",
    "release_day.value_counts()"
   ]
  },
  {
   "cell_type": "code",
   "execution_count": 17,
   "metadata": {},
   "outputs": [
    {
     "data": {
      "text/plain": [
       "Friday       91603\n",
       "Thursday     69168\n",
       "Wednesday    61282\n",
       "Tuesday      57185\n",
       "Saturday     57181\n",
       "Monday       48680\n",
       "Sunday       46623\n",
       "Name: SER_releaseDate, dtype: int64"
      ]
     },
     "execution_count": 17,
     "metadata": {},
     "output_type": "execute_result"
    }
   ],
   "source": [
    "release_weekday = release_date.apply(lambda x: calendar.day_name[x.weekday()] if pd.notnull(x) else np.nan)\n",
    "release_weekday.loc[day_and_month_not_actually_given] = np.nan\n",
    "# release_weekday_dummies = pd.get_dummies(release_weekday , prefix = \"release_weekday__\")\n",
    "release_weekday.value_counts()"
   ]
  },
  {
   "cell_type": "code",
   "execution_count": 18,
   "metadata": {},
   "outputs": [],
   "source": [
    "# INT_df[release_weekday_dummies.columns]=release_weekday_dummies\n",
    "# INT_df[release_day_dummies.columns]    = release_day_dummies\n",
    "# INT_df[release_month_dummies.columns]  = release_month_dummies\n",
    "# INT_df[release_decade_dummies.columns] = release_decade_dummies"
   ]
  },
  {
   "cell_type": "code",
   "execution_count": 19,
   "metadata": {},
   "outputs": [],
   "source": [
    "INT_df[\"release_weekday_text\"]=release_weekday\n",
    "INT_df[\"release_day_of_the_month\"]    =release_day\n",
    "INT_df[\"release_month_text\"]  =release_month\n",
    "INT_df[\"release_decade\"] =release_decade"
   ]
  },
  {
   "cell_type": "code",
   "execution_count": null,
   "metadata": {},
   "outputs": [],
   "source": [
    "# release_year, release_month, release_day\n",
    "# release_decade, release_weekday_text (e.g. \"Monday\"), release_day_of_the_month, release_month_text (e.g. \"July\"), \n",
    "\n",
    "\n"
   ]
  },
  {
   "cell_type": "code",
   "execution_count": null,
   "metadata": {},
   "outputs": [],
   "source": []
  },
  {
   "cell_type": "code",
   "execution_count": null,
   "metadata": {},
   "outputs": [],
   "source": []
  },
  {
   "cell_type": "code",
   "execution_count": 22,
   "metadata": {},
   "outputs": [
    {
     "data": {
      "text/plain": [
       "0                           (Children, Drama, Sci-Fi)\n",
       "1               (Action, Adventure, Sci-Fi, Thriller)\n",
       "2                          (Action, Sci-Fi, Thriller)\n",
       "3         (Action, Adventure, Sci-Fi, Thriller, IMAX)\n",
       "4         (Action, Adventure, Sci-Fi, Thriller, IMAX)\n",
       "5                                    (Drama, Romance)\n",
       "6                            (Action, Comedy, Sci-Fi)\n",
       "7                            (Action, Comedy, Sci-Fi)\n",
       "8                                  (Horror, Thriller)\n",
       "9                    (Action, Crime, Drama, Thriller)\n",
       "10                                       (Drama, War)\n",
       "11                                           (Drama,)\n",
       "12                                           (Drama,)\n",
       "13                    (Action, Adventure, Drama, War)\n",
       "14                  (Crime, Drama, Mystery, Thriller)\n",
       "15                                       (Drama, War)\n",
       "16                         (Drama, Romance, Thriller)\n",
       "17                           (Action, Comedy, Sci-Fi)\n",
       "18                         (Comedy, Musical, Romance)\n",
       "19               (Fantasy, Horror, Mystery, Thriller)\n",
       "20                                    (Comedy, Crime)\n",
       "21                                 (Adventure, Drama)\n",
       "22                                       (Drama, War)\n",
       "23                                         (Fantasy,)\n",
       "24                             (Comedy, Crime, Drama)\n",
       "25                                    (Drama, Horror)\n",
       "26                         (Crime, Mystery, Thriller)\n",
       "27            (Adventure, Children, Fantasy, Musical)\n",
       "28                                   (Drama, Romance)\n",
       "29                                       (Drama, War)\n",
       "                             ...                     \n",
       "471604                                            NaN\n",
       "471605                                            NaN\n",
       "471606                                            NaN\n",
       "471607                                            NaN\n",
       "471608                                            NaN\n",
       "471609                                            NaN\n",
       "471610                                            NaN\n",
       "471611                                            NaN\n",
       "471612                                            NaN\n",
       "471613                                            NaN\n",
       "471614                                            NaN\n",
       "471615                                            NaN\n",
       "471616                                            NaN\n",
       "471617                                            NaN\n",
       "471618                                            NaN\n",
       "471619                                            NaN\n",
       "471620                                            NaN\n",
       "471621                                            NaN\n",
       "471622                                            NaN\n",
       "471623                                            NaN\n",
       "471624                                            NaN\n",
       "471625                                            NaN\n",
       "471626                                            NaN\n",
       "471627                                            NaN\n",
       "471628                                            NaN\n",
       "471629                                            NaN\n",
       "471630                                            NaN\n",
       "471631                                            NaN\n",
       "471632                                            NaN\n",
       "471633                                            NaN\n",
       "Name: SER_genres_list, Length: 471634, dtype: object"
      ]
     },
     "execution_count": 22,
     "metadata": {},
     "output_type": "execute_result"
    }
   ],
   "source": [
    "INT_df[\"SER_genres_list\"]"
   ]
  },
  {
   "cell_type": "code",
   "execution_count": null,
   "metadata": {},
   "outputs": [],
   "source": [
    "genre data: HETREC/SER/ML/TMB\n",
    "    # HETREC and ML already broken into dummies\n",
    "    \n",
    "# TMB_genres\n",
    "# SER_genres_list"
   ]
  },
  {
   "cell_type": "code",
   "execution_count": 27,
   "metadata": {},
   "outputs": [
    {
     "data": {
      "text/plain": [
       "0               (878, 12, 10751, 14)\n",
       "1                      (28, 12, 878)\n",
       "2                          (28, 878)\n",
       "3                  (12, 28, 53, 878)\n",
       "4                  (12, 28, 53, 878)\n",
       "5                    (36, 10749, 18)\n",
       "6                  (28, 12, 35, 878)\n",
       "7                  (28, 12, 35, 878)\n",
       "8                              (27,)\n",
       "9                   (18, 28, 36, 53)\n",
       "10                   (18, 36, 10752)\n",
       "11                             (18,)\n",
       "12                             (18,)\n",
       "13               (18, 28, 10752, 36)\n",
       "14                    (9648, 53, 18)\n",
       "15                   (18, 36, 10752)\n",
       "16        (53, 28, 18, 10402, 10749)\n",
       "17                          (35, 14)\n",
       "18                          (10749,)\n",
       "19                    (27, 9648, 53)\n",
       "20                          (35, 80)\n",
       "21                          (12, 18)\n",
       "22                   (18, 36, 10752)\n",
       "23                          (18, 14)\n",
       "24                          (18, 80)\n",
       "25                      (27, 18, 14)\n",
       "26                      (18, 80, 53)\n",
       "27                   (12, 10751, 14)\n",
       "28                       (18, 10749)\n",
       "29                          (10752,)\n",
       "                     ...            \n",
       "471604                            ()\n",
       "471605                         (35,)\n",
       "471606            (10770, 10749, 18)\n",
       "471607                         (35,)\n",
       "471608                      (28, 53)\n",
       "471609                  (28, 12, 14)\n",
       "471610                   (10402, 99)\n",
       "471611                         (99,)\n",
       "471612                         (27,)\n",
       "471613                         (99,)\n",
       "471614                         (99,)\n",
       "471615                         (99,)\n",
       "471616                        (878,)\n",
       "471617         (35, 10749, 18, 9648)\n",
       "471618                 (28, 878, 53)\n",
       "471619                      (27, 53)\n",
       "471620                   (35, 10749)\n",
       "471621           (28, 12, 16, 10751)\n",
       "471622                         (35,)\n",
       "471623                         (35,)\n",
       "471624                           NaN\n",
       "471625                           NaN\n",
       "471626                           NaN\n",
       "471627                           NaN\n",
       "471628                           NaN\n",
       "471629                           NaN\n",
       "471630                           NaN\n",
       "471631                           NaN\n",
       "471632                           NaN\n",
       "471633                           NaN\n",
       "Name: TMB_genres, Length: 471634, dtype: object"
      ]
     },
     "execution_count": 27,
     "metadata": {},
     "output_type": "execute_result"
    }
   ],
   "source": []
  },
  {
   "cell_type": "code",
   "execution_count": 50,
   "metadata": {},
   "outputs": [
    {
     "data": {
      "text/html": [
       "<div>\n",
       "<style scoped>\n",
       "    .dataframe tbody tr th:only-of-type {\n",
       "        vertical-align: middle;\n",
       "    }\n",
       "\n",
       "    .dataframe tbody tr th {\n",
       "        vertical-align: top;\n",
       "    }\n",
       "\n",
       "    .dataframe thead th {\n",
       "        text-align: right;\n",
       "    }\n",
       "</style>\n",
       "<table border=\"1\" class=\"dataframe\">\n",
       "  <thead>\n",
       "    <tr style=\"text-align: right;\">\n",
       "      <th></th>\n",
       "      <th>0</th>\n",
       "    </tr>\n",
       "  </thead>\n",
       "  <tbody>\n",
       "    <tr>\n",
       "      <th>0</th>\n",
       "      <td>Children</td>\n",
       "    </tr>\n",
       "    <tr>\n",
       "      <th>1</th>\n",
       "      <td>Drama</td>\n",
       "    </tr>\n",
       "    <tr>\n",
       "      <th>2</th>\n",
       "      <td>Sci-Fi</td>\n",
       "    </tr>\n",
       "    <tr>\n",
       "      <th>3</th>\n",
       "      <td>Action</td>\n",
       "    </tr>\n",
       "    <tr>\n",
       "      <th>4</th>\n",
       "      <td>Adventure</td>\n",
       "    </tr>\n",
       "    <tr>\n",
       "      <th>6</th>\n",
       "      <td>Thriller</td>\n",
       "    </tr>\n",
       "    <tr>\n",
       "      <th>14</th>\n",
       "      <td>IMAX</td>\n",
       "    </tr>\n",
       "    <tr>\n",
       "      <th>21</th>\n",
       "      <td>Romance</td>\n",
       "    </tr>\n",
       "    <tr>\n",
       "      <th>23</th>\n",
       "      <td>Comedy</td>\n",
       "    </tr>\n",
       "    <tr>\n",
       "      <th>28</th>\n",
       "      <td>Horror</td>\n",
       "    </tr>\n",
       "    <tr>\n",
       "      <th>31</th>\n",
       "      <td>Crime</td>\n",
       "    </tr>\n",
       "    <tr>\n",
       "      <th>35</th>\n",
       "      <td>War</td>\n",
       "    </tr>\n",
       "    <tr>\n",
       "      <th>44</th>\n",
       "      <td>Mystery</td>\n",
       "    </tr>\n",
       "    <tr>\n",
       "      <th>55</th>\n",
       "      <td>Musical</td>\n",
       "    </tr>\n",
       "    <tr>\n",
       "      <th>57</th>\n",
       "      <td>Fantasy</td>\n",
       "    </tr>\n",
       "    <tr>\n",
       "      <th>90</th>\n",
       "      <td>Film-Noir</td>\n",
       "    </tr>\n",
       "    <tr>\n",
       "      <th>114</th>\n",
       "      <td>Western</td>\n",
       "    </tr>\n",
       "    <tr>\n",
       "      <th>125</th>\n",
       "      <td>Animation</td>\n",
       "    </tr>\n",
       "    <tr>\n",
       "      <th>178</th>\n",
       "      <td>Documentary</td>\n",
       "    </tr>\n",
       "  </tbody>\n",
       "</table>\n",
       "</div>"
      ],
      "text/plain": [
       "               0\n",
       "0       Children\n",
       "1          Drama\n",
       "2         Sci-Fi\n",
       "3         Action\n",
       "4      Adventure\n",
       "6       Thriller\n",
       "14          IMAX\n",
       "21       Romance\n",
       "23        Comedy\n",
       "28        Horror\n",
       "31         Crime\n",
       "35           War\n",
       "44       Mystery\n",
       "55       Musical\n",
       "57       Fantasy\n",
       "90     Film-Noir\n",
       "114      Western\n",
       "125    Animation\n",
       "178  Documentary"
      ]
     },
     "execution_count": 50,
     "metadata": {},
     "output_type": "execute_result"
    }
   ],
   "source": [
    "genres"
   ]
  },
  {
   "cell_type": "code",
   "execution_count": 49,
   "metadata": {},
   "outputs": [
    {
     "data": {
      "text/plain": [
       "SER_genres__Children       45862\n",
       "SER_genres__Drama          45862\n",
       "SER_genres__Sci-Fi         45862\n",
       "SER_genres__Action         45862\n",
       "SER_genres__Adventure      45862\n",
       "SER_genres__Thriller       45862\n",
       "SER_genres__IMAX           45862\n",
       "SER_genres__Romance        45862\n",
       "SER_genres__Comedy         45862\n",
       "SER_genres__Horror         45862\n",
       "SER_genres__Crime          45862\n",
       "SER_genres__War            45862\n",
       "SER_genres__Mystery        45862\n",
       "SER_genres__Musical        45862\n",
       "SER_genres__Fantasy        45862\n",
       "SER_genres__Film-Noir      45862\n",
       "SER_genres__Western        45862\n",
       "SER_genres__Animation      45862\n",
       "SER_genres__Documentary    45862\n",
       "dtype: int64"
      ]
     },
     "execution_count": 49,
     "metadata": {},
     "output_type": "execute_result"
    }
   ],
   "source": [
    "SER_genre_set = list(set(flatten(INT_df[\"SER_genres_list\"].dropna() ) ) )\n",
    "\n",
    "# INT_df[\"SER_genres_list\"] = INT_df[\"SER_genres_list\"].apply(lambda x: eval(x) if pd.notnull(x) else np.nan)\n",
    "flat_list = [item for sublist in INT_df[\"SER_genres_list\"].dropna().values for item in sublist]\n",
    "genres = pd.DataFrame(flat_list).drop_duplicates()#.sort_values(by=\"movieId\")\n",
    "\n",
    "for gen_ind in genres.index:\n",
    "    gen_name = \"SER_genres__\"+genres.loc[gen_ind,0]\n",
    "    INT_df[gen_name] = INT_df[\"SER_genres_list\"].apply(lambda x: genres.loc[gen_ind,0] in x if isinstance(x,list) or pd.notnull(x) else np.nan)\n",
    "\n",
    "SER_genre_vars = search(INT_df,\"SER_genres__[A-Z]\",case_sensitive=True)\n",
    "SER_genre_vars"
   ]
  },
  {
   "cell_type": "code",
   "execution_count": 35,
   "metadata": {},
   "outputs": [],
   "source": [
    "tmdb_dir = create_subdir(Dataset_directory, \"themoviedb\")\n",
    "\n",
    "genre_categories = pd.read_msgpack( tmdb_dir + \"genres.msgpack\")\n",
    "genre_categories.set_index(\"id\",inplace=True)# = genre_categories.id"
   ]
  },
  {
   "cell_type": "code",
   "execution_count": 43,
   "metadata": {},
   "outputs": [
    {
     "data": {
      "text/html": [
       "['Science Fiction', 'Adventure', 'Family', 'Fantasy', 'Action', 'Thriller', 'History', 'Romance', 'Drama', 'Comedy', 'Horror', 'War', 'Mystery', 'Music', 'Crime', 'Western', 'Animation', 'Documentary', 'TV Movie']"
      ],
      "text/plain": [
       "['Science Fiction',\n",
       " 'Adventure',\n",
       " 'Family',\n",
       " 'Fantasy',\n",
       " 'Action',\n",
       " 'Thriller',\n",
       " 'History',\n",
       " 'Romance',\n",
       " 'Drama',\n",
       " 'Comedy',\n",
       " 'Horror',\n",
       " 'War',\n",
       " 'Mystery',\n",
       " 'Music',\n",
       " 'Crime',\n",
       " 'Western',\n",
       " 'Animation',\n",
       " 'Documentary',\n",
       " 'TV Movie']"
      ]
     },
     "execution_count": 43,
     "metadata": {},
     "output_type": "execute_result"
    }
   ],
   "source": [
    "TMB_genre_set = list(genre_categories[\"name\"].values)\n",
    "TMB_genre_set"
   ]
  },
  {
   "cell_type": "code",
   "execution_count": 37,
   "metadata": {},
   "outputs": [
    {
     "data": {
      "text/plain": [
       "0     [Science Fiction, Adventure, Family, Fantasy]\n",
       "1              [Action, Adventure, Science Fiction]\n",
       "2                         [Action, Science Fiction]\n",
       "3    [Adventure, Action, Thriller, Science Fiction]\n",
       "4    [Adventure, Action, Thriller, Science Fiction]\n",
       "5                         [History, Romance, Drama]\n",
       "6      [Action, Adventure, Comedy, Science Fiction]\n",
       "7      [Action, Adventure, Comedy, Science Fiction]\n",
       "8                                          [Horror]\n",
       "9                [Drama, Action, History, Thriller]\n",
       "Name: TMB_genres, dtype: object"
      ]
     },
     "execution_count": 37,
     "metadata": {},
     "output_type": "execute_result"
    }
   ],
   "source": [
    "INT_df[\"TMB_genres\"][0:10].apply(lambda x: [genre_categories.loc[y,\"name\"] for y in x])"
   ]
  },
  {
   "cell_type": "code",
   "execution_count": 64,
   "metadata": {},
   "outputs": [
    {
     "data": {
      "text/plain": [
       "Int64Index([  878,    12, 10751,    14,    28,    53,    36, 10749,    18,\n",
       "               35,    27, 10752,  9648, 10402,    80,    37,    16,    99,\n",
       "            10770],\n",
       "           dtype='int64', name='id')"
      ]
     },
     "execution_count": 64,
     "metadata": {},
     "output_type": "execute_result"
    }
   ],
   "source": []
  },
  {
   "cell_type": "code",
   "execution_count": 58,
   "metadata": {},
   "outputs": [
    {
     "data": {
      "text/plain": [
       "TMB_genres__Science Fiction    467917\n",
       "TMB_genres__Adventure          467917\n",
       "TMB_genres__Family             467917\n",
       "TMB_genres__Fantasy            467917\n",
       "TMB_genres__Action             467917\n",
       "TMB_genres__Thriller           467917\n",
       "TMB_genres__History            467917\n",
       "TMB_genres__Romance            467917\n",
       "TMB_genres__Drama              467917\n",
       "TMB_genres__Comedy             467917\n",
       "TMB_genres__Horror             467917\n",
       "TMB_genres__War                467917\n",
       "TMB_genres__Mystery            467917\n",
       "TMB_genres__Music              467917\n",
       "TMB_genres__Crime              467917\n",
       "TMB_genres__Western            467917\n",
       "TMB_genres__Animation          467917\n",
       "TMB_genres__Documentary        467917\n",
       "TMB_genres__TV Movie           467917\n",
       "dtype: int64"
      ]
     },
     "execution_count": 58,
     "metadata": {},
     "output_type": "execute_result"
    }
   ],
   "source": [
    "# SER_genre_set = list(set(flatten(INT_df[\"SER_genres_list\"].dropna() ) ) )\n",
    "\n",
    "# INT_df[\"SER_genres_list\"] = INT_df[\"SER_genres_list\"].apply(lambda x: eval(x) if pd.notnull(x) else np.nan)\n",
    "# flat_list = [item for sublist in INT_df[\"TMB_genres\"].dropna().values for item in sublist]\n",
    "genres = pd.DataFrame(TMB_genre_set).drop_duplicates()#.sort_values(by=\"movieId\")\n",
    "\n",
    "for gen_ind in genres.index:\n",
    "    gen_name = \"TMB_genres__\"+genres.loc[gen_ind,0]\n",
    "    INT_df[gen_name] = INT_df[\"TMB_genres\"].apply(lambda x: genre_categories.index[gen_ind] in x if isinstance(x,list) or pd.notnull(x) else np.nan)\n",
    "\n",
    "TMB_genre_vars = search(INT_df,\"TMB_genres__[A-Z]\",case_sensitive=True)\n",
    "TMB_genre_vars"
   ]
  },
  {
   "cell_type": "code",
   "execution_count": 61,
   "metadata": {},
   "outputs": [
    {
     "data": {
      "text/plain": [
       "TMB_genres__Science Fiction         0.0\n",
       "TMB_genres__Adventure               0.0\n",
       "TMB_genres__Family                  0.0\n",
       "TMB_genres__Fantasy                 0.0\n",
       "TMB_genres__Action                  0.0\n",
       "TMB_genres__Thriller                0.0\n",
       "TMB_genres__History                 0.0\n",
       "TMB_genres__Romance                 0.0\n",
       "TMB_genres__Drama                   0.0\n",
       "TMB_genres__Comedy                  0.0\n",
       "TMB_genres__Horror                  0.0\n",
       "TMB_genres__War                     0.0\n",
       "TMB_genres__Mystery             13500.0\n",
       "TMB_genres__Music                   0.0\n",
       "TMB_genres__Crime                9791.0\n",
       "TMB_genres__Western                 0.0\n",
       "TMB_genres__Animation           19976.0\n",
       "TMB_genres__Documentary             0.0\n",
       "TMB_genres__TV Movie           105515.0\n",
       "dtype: float64"
      ]
     },
     "execution_count": 61,
     "metadata": {},
     "output_type": "execute_result"
    }
   ],
   "source": [
    "INT_df[ TMB_genre_vars.index ].sum()"
   ]
  },
  {
   "cell_type": "code",
   "execution_count": 41,
   "metadata": {},
   "outputs": [
    {
     "data": {
      "text/plain": [
       "TMB_genres                    467917\n",
       "TMB_num_genres                467917\n",
       "HETREC_genres__Adventure       10197\n",
       "HETREC_genres__Animation       10197\n",
       "HETREC_genres__Children        10197\n",
       "HETREC_genres__Comedy          10197\n",
       "HETREC_genres__Fantasy         10197\n",
       "HETREC_genres__Romance         10197\n",
       "HETREC_genres__Drama           10197\n",
       "HETREC_genres__Action          10197\n",
       "HETREC_genres__Crime           10197\n",
       "HETREC_genres__Thriller        10197\n",
       "HETREC_genres__Horror          10197\n",
       "HETREC_genres__Mystery         10197\n",
       "HETREC_genres__Sci-Fi          10197\n",
       "HETREC_genres__IMAX            10197\n",
       "HETREC_genres__Documentary     10197\n",
       "HETREC_genres__War             10197\n",
       "HETREC_genres__Musical         10197\n",
       "HETREC_genres__Film-Noir       10197\n",
       "HETREC_genres__Western         10197\n",
       "HETREC_genres__Short           10197\n",
       "SER_genres_list                45862\n",
       "SER_num_genres                 45862\n",
       "ML_genres__Adventure           58098\n",
       "ML_genres__Animation           58098\n",
       "ML_genres__Children            58098\n",
       "ML_genres__Comedy              58098\n",
       "ML_genres__Fantasy             58098\n",
       "ML_genres__Romance             58098\n",
       "ML_genres__Drama               58098\n",
       "ML_genres__Action              58098\n",
       "ML_genres__Crime               58098\n",
       "ML_genres__Thriller            58098\n",
       "ML_genres__Horror              58098\n",
       "ML_genres__Mystery             58098\n",
       "ML_genres__Sci-Fi              58098\n",
       "ML_genres__IMAX                58098\n",
       "ML_genres__Documentary         58098\n",
       "ML_genres__War                 58098\n",
       "ML_genres__Musical             58098\n",
       "ML_genres__Western             58098\n",
       "ML_genres__Film-Noir           58098\n",
       "dtype: int64"
      ]
     },
     "execution_count": 41,
     "metadata": {},
     "output_type": "execute_result"
    }
   ],
   "source": [
    "INT_df.drop( [\"TMB_genres\",\"SER_genres_list\"] )"
   ]
  },
  {
   "cell_type": "code",
   "execution_count": null,
   "metadata": {},
   "outputs": [],
   "source": []
  },
  {
   "cell_type": "code",
   "execution_count": null,
   "metadata": {},
   "outputs": [],
   "source": []
  },
  {
   "cell_type": "code",
   "execution_count": null,
   "metadata": {},
   "outputs": [],
   "source": []
  },
  {
   "cell_type": "code",
   "execution_count": null,
   "metadata": {},
   "outputs": [],
   "source": []
  }
 ],
 "metadata": {
  "kernelspec": {
   "display_name": "Python [conda env:Cook_Tortoise_Imdb_project]",
   "language": "python",
   "name": "conda-env-Cook_Tortoise_Imdb_project-py"
  },
  "language_info": {
   "codemirror_mode": {
    "name": "ipython",
    "version": 3
   },
   "file_extension": ".py",
   "mimetype": "text/x-python",
   "name": "python",
   "nbconvert_exporter": "python",
   "pygments_lexer": "ipython3",
   "version": "3.6.7"
  }
 },
 "nbformat": 4,
 "nbformat_minor": 2
}
