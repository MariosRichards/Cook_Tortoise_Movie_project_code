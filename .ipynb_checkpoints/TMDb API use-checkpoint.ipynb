{
 "cells": [
  {
   "cell_type": "code",
   "execution_count": 1,
   "metadata": {},
   "outputs": [],
   "source": [
    "# basic python data handling analysis modules\n",
    "import numpy as np, pandas as pd, matplotlib.pyplot as plt, seaborn as sns\n",
    "sns.set()\n",
    "import pickle, os, gc, re\n",
    "# small utility functions\n",
    "from utility import *\n",
    "\n",
    "# interactive jupyter widgets!\n",
    "# https://towardsdatascience.com/interactive-controls-for-jupyter-notebooks-f5c94829aee6\n",
    "import ipywidgets as widgets\n",
    "from ipywidgets import interact, interact_manual\n",
    "\n",
    "%matplotlib inline"
   ]
  },
  {
   "cell_type": "code",
   "execution_count": 163,
   "metadata": {},
   "outputs": [],
   "source": [
    "# import warnings\n",
    "# warnings.filterwarnings('ignore')\n",
    "# # cleanliness!"
   ]
  },
  {
   "cell_type": "code",
   "execution_count": 162,
   "metadata": {},
   "outputs": [],
   "source": [
    "Dataset_directory = \"..\"+os.sep+\"Datasets\"+os.sep\n",
    "tmdb_dir = create_subdir(Dataset_directory, \"themoviedb\")"
   ]
  },
  {
   "cell_type": "code",
   "execution_count": 24,
   "metadata": {},
   "outputs": [],
   "source": []
  },
  {
   "cell_type": "code",
   "execution_count": 164,
   "metadata": {},
   "outputs": [],
   "source": [
    "# import datetime\n",
    "# datetime.datetime.now()"
   ]
  },
  {
   "cell_type": "code",
   "execution_count": null,
   "metadata": {},
   "outputs": [],
   "source": []
  },
  {
   "cell_type": "code",
   "execution_count": null,
   "metadata": {},
   "outputs": [],
   "source": []
  },
  {
   "cell_type": "code",
   "execution_count": null,
   "metadata": {},
   "outputs": [],
   "source": []
  },
  {
   "cell_type": "code",
   "execution_count": null,
   "metadata": {},
   "outputs": [],
   "source": [
    "# https://developers.themoviedb.org/3/getting-started/daily-file-exports\n",
    "\n",
    "# The export job runs every day starting at around 7:00 AM UTC, and all files are available by 8:00 AM UTC.\n",
    "\n",
    "# http://files.tmdb.org/p/exports/movie_ids_04_28_2017.json.gz"
   ]
  },
  {
   "cell_type": "code",
   "execution_count": 28,
   "metadata": {},
   "outputs": [
    {
     "data": {
      "text/plain": [
       "'http://files.tmdb.org/p/exports/movie_ids_06_26_2019.json.gz'"
      ]
     },
     "execution_count": 28,
     "metadata": {},
     "output_type": "execute_result"
    }
   ],
   "source": [
    "import datetime\n",
    "\n",
    "utc_now = datetime.datetime.utcnow()\n",
    "\n",
    "if utc_now.hour<8: # upload for 'today' not necessary donw yet\n",
    "    utc_now = today - datetime.timedelta(days = 1)\n",
    "    \n",
    "movie_ids_file = \"http://files.tmdb.org/p/exports/movie_ids_\"+utc_now.strftime(\"%m_%d_%Y\")+\".json.gz\"\n",
    "movie_ids_file"
   ]
  },
  {
   "cell_type": "code",
   "execution_count": 76,
   "metadata": {},
   "outputs": [],
   "source": [
    "import shutil\n",
    "import tempfile\n",
    "import urllib.request\n",
    "import gzip\n",
    "\n",
    "with urllib.request.urlopen(movie_ids_file) as response:\n",
    "    with tempfile.NamedTemporaryFile(delete=False) as tmp_file:\n",
    "        shutil.copyfileobj(response, tmp_file)\n",
    "\n",
    "# with open(tmp_file.name) as html:\n",
    "#     decompressedFile = gzip.GzipFile(fileobj=html, mode='rb')\n",
    "#     outFilePath = tmdb_dir + movie_ids_file.split(\"/\")[-1].replace(\".gz\",\"\")\n",
    "#     with open(outFilePath, 'w', encoding=\"utf8\") as outfile:\n",
    "#         outfile.write(decompressedFile.read( 'rt' ))\n",
    "\n",
    "#     pass\n",
    "\n",
    "\n",
    "with gzip.open(tmp_file.name, mode='rt', encoding=\"utf-8\") as f_in:\n",
    "    with open(outFilePath, 'w', encoding=\"utf-8\") as f_out:\n",
    "        shutil.copyfileobj(f_in, f_out)"
   ]
  },
  {
   "cell_type": "code",
   "execution_count": 79,
   "metadata": {},
   "outputs": [],
   "source": []
  },
  {
   "cell_type": "code",
   "execution_count": 82,
   "metadata": {},
   "outputs": [
    {
     "data": {
      "text/html": [
       "<div>\n",
       "<style scoped>\n",
       "    .dataframe tbody tr th:only-of-type {\n",
       "        vertical-align: middle;\n",
       "    }\n",
       "\n",
       "    .dataframe tbody tr th {\n",
       "        vertical-align: top;\n",
       "    }\n",
       "\n",
       "    .dataframe thead th {\n",
       "        text-align: right;\n",
       "    }\n",
       "</style>\n",
       "<table border=\"1\" class=\"dataframe\">\n",
       "  <thead>\n",
       "    <tr style=\"text-align: right;\">\n",
       "      <th></th>\n",
       "      <th>adult</th>\n",
       "      <th>id</th>\n",
       "      <th>original_title</th>\n",
       "      <th>popularity</th>\n",
       "      <th>video</th>\n",
       "    </tr>\n",
       "  </thead>\n",
       "  <tbody>\n",
       "    <tr>\n",
       "      <th>count</th>\n",
       "      <td>467223</td>\n",
       "      <td>467223.000000</td>\n",
       "      <td>467223</td>\n",
       "      <td>467223.000000</td>\n",
       "      <td>467223</td>\n",
       "    </tr>\n",
       "    <tr>\n",
       "      <th>unique</th>\n",
       "      <td>2</td>\n",
       "      <td>NaN</td>\n",
       "      <td>429550</td>\n",
       "      <td>NaN</td>\n",
       "      <td>2</td>\n",
       "    </tr>\n",
       "    <tr>\n",
       "      <th>top</th>\n",
       "      <td>False</td>\n",
       "      <td>NaN</td>\n",
       "      <td>Carmen</td>\n",
       "      <td>NaN</td>\n",
       "      <td>False</td>\n",
       "    </tr>\n",
       "    <tr>\n",
       "      <th>freq</th>\n",
       "      <td>443083</td>\n",
       "      <td>NaN</td>\n",
       "      <td>46</td>\n",
       "      <td>NaN</td>\n",
       "      <td>444777</td>\n",
       "    </tr>\n",
       "    <tr>\n",
       "      <th>mean</th>\n",
       "      <td>NaN</td>\n",
       "      <td>331788.498929</td>\n",
       "      <td>NaN</td>\n",
       "      <td>1.111966</td>\n",
       "      <td>NaN</td>\n",
       "    </tr>\n",
       "    <tr>\n",
       "      <th>std</th>\n",
       "      <td>NaN</td>\n",
       "      <td>175573.963916</td>\n",
       "      <td>NaN</td>\n",
       "      <td>2.037446</td>\n",
       "      <td>NaN</td>\n",
       "    </tr>\n",
       "    <tr>\n",
       "      <th>min</th>\n",
       "      <td>NaN</td>\n",
       "      <td>2.000000</td>\n",
       "      <td>NaN</td>\n",
       "      <td>0.000000</td>\n",
       "      <td>NaN</td>\n",
       "    </tr>\n",
       "    <tr>\n",
       "      <th>25%</th>\n",
       "      <td>NaN</td>\n",
       "      <td>191249.000000</td>\n",
       "      <td>NaN</td>\n",
       "      <td>0.600000</td>\n",
       "      <td>NaN</td>\n",
       "    </tr>\n",
       "    <tr>\n",
       "      <th>50%</th>\n",
       "      <td>NaN</td>\n",
       "      <td>346870.000000</td>\n",
       "      <td>NaN</td>\n",
       "      <td>0.600000</td>\n",
       "      <td>NaN</td>\n",
       "    </tr>\n",
       "    <tr>\n",
       "      <th>75%</th>\n",
       "      <td>NaN</td>\n",
       "      <td>481636.500000</td>\n",
       "      <td>NaN</td>\n",
       "      <td>0.778000</td>\n",
       "      <td>NaN</td>\n",
       "    </tr>\n",
       "    <tr>\n",
       "      <th>max</th>\n",
       "      <td>NaN</td>\n",
       "      <td>611360.000000</td>\n",
       "      <td>NaN</td>\n",
       "      <td>334.112000</td>\n",
       "      <td>NaN</td>\n",
       "    </tr>\n",
       "  </tbody>\n",
       "</table>\n",
       "</div>"
      ],
      "text/plain": [
       "         adult             id original_title     popularity   video\n",
       "count   467223  467223.000000         467223  467223.000000  467223\n",
       "unique       2            NaN         429550            NaN       2\n",
       "top      False            NaN         Carmen            NaN   False\n",
       "freq    443083            NaN             46            NaN  444777\n",
       "mean       NaN  331788.498929            NaN       1.111966     NaN\n",
       "std        NaN  175573.963916            NaN       2.037446     NaN\n",
       "min        NaN       2.000000            NaN       0.000000     NaN\n",
       "25%        NaN  191249.000000            NaN       0.600000     NaN\n",
       "50%        NaN  346870.000000            NaN       0.600000     NaN\n",
       "75%        NaN  481636.500000            NaN       0.778000     NaN\n",
       "max        NaN  611360.000000            NaN     334.112000     NaN"
      ]
     },
     "execution_count": 82,
     "metadata": {},
     "output_type": "execute_result"
    }
   ],
   "source": [
    "movie_ids = pd.read_json(outFilePath, lines=True)\n",
    "movie_ids.describe(include='all')"
   ]
  },
  {
   "cell_type": "code",
   "execution_count": 83,
   "metadata": {},
   "outputs": [
    {
     "name": "stdout",
     "output_type": "stream",
     "text": [
      "Collecting tmdbsimple\n",
      "  Downloading https://files.pythonhosted.org/packages/52/d7/e84d96acfff3154bd84cc139472fb3d1293fabf20cd150833b3229c1e40d/tmdbsimple-2.2.0-py2.py3-none-any.whl\n",
      "Requirement already satisfied: requests in c:\\programdata\\anaconda3\\envs\\cook_tortoise_imdb_project\\lib\\site-packages (from tmdbsimple) (2.22.0)\n",
      "Requirement already satisfied: chardet<3.1.0,>=3.0.2 in c:\\programdata\\anaconda3\\envs\\cook_tortoise_imdb_project\\lib\\site-packages (from requests->tmdbsimple) (3.0.4)\n",
      "Requirement already satisfied: urllib3!=1.25.0,!=1.25.1,<1.26,>=1.21.1 in c:\\programdata\\anaconda3\\envs\\cook_tortoise_imdb_project\\lib\\site-packages (from requests->tmdbsimple) (1.25.3)\n",
      "Requirement already satisfied: idna<2.9,>=2.5 in c:\\programdata\\anaconda3\\envs\\cook_tortoise_imdb_project\\lib\\site-packages (from requests->tmdbsimple) (2.8)\n",
      "Requirement already satisfied: certifi>=2017.4.17 in c:\\programdata\\anaconda3\\envs\\cook_tortoise_imdb_project\\lib\\site-packages (from requests->tmdbsimple) (2019.6.16)\n",
      "Installing collected packages: tmdbsimple\n",
      "Successfully installed tmdbsimple-2.2.0\n"
     ]
    }
   ],
   "source": [
    "!pip install tmdbsimple"
   ]
  },
  {
   "cell_type": "code",
   "execution_count": null,
   "metadata": {},
   "outputs": [],
   "source": []
  },
  {
   "cell_type": "code",
   "execution_count": null,
   "metadata": {},
   "outputs": [],
   "source": [
    "# http://api.themoviedb.org/3/movie/16535?api_key=###"
   ]
  },
  {
   "cell_type": "code",
   "execution_count": 165,
   "metadata": {},
   "outputs": [],
   "source": [
    "# import tmdbsimple as tmdb\n",
    "text_file = open(tmdb_dir+\"my_api_key.txt\", \"r\")\n",
    "# tmdb.API_KEY = text_file.readlines()[0]\n",
    "api_key = text_file.readlines()[0]"
   ]
  },
  {
   "cell_type": "code",
   "execution_count": 128,
   "metadata": {},
   "outputs": [],
   "source": [
    "\n",
    "    "
   ]
  },
  {
   "cell_type": "code",
   "execution_count": 98,
   "metadata": {},
   "outputs": [],
   "source": [
    "# with urllib.request.urlopen(\"http://api.themoviedb.org/3/movie/16535?api_key=\"+tmdb.API_KEY) as response:\n",
    "#     resp = response.readlines()\n",
    "# #     with tempfile.NamedTemporaryFile(delete=False) as tmp_file:\n",
    "# #         shutil.copyfileobj(response, tmp_file)"
   ]
  },
  {
   "cell_type": "code",
   "execution_count": null,
   "metadata": {},
   "outputs": [],
   "source": []
  },
  {
   "cell_type": "code",
   "execution_count": 155,
   "metadata": {},
   "outputs": [],
   "source": [
    "import json\n",
    "import time\n",
    "\n",
    "tmdb_df = pd.DataFrame(columns = ['adult', 'backdrop_path', 'belongs_to_collection', 'budget', 'genres',\n",
    "       'homepage', 'id', 'imdb_id', 'original_language', 'original_title',\n",
    "       'overview', 'popularity', 'poster_path', 'production_companies',\n",
    "       'production_countries', 'release_date', 'revenue', 'runtime',\n",
    "       'spoken_languages', 'status', 'tagline', 'title', 'video',\n",
    "       'vote_average', 'vote_count'])"
   ]
  },
  {
   "cell_type": "code",
   "execution_count": 177,
   "metadata": {},
   "outputs": [
    {
     "name": "stdout",
     "output_type": "stream",
     "text": [
      "601\n",
      "602\n",
      "603\n",
      "604\n",
      "605\n",
      "606\n",
      "607\n",
      "608\n",
      "609\n",
      "612\n",
      "613\n",
      "614\n",
      "615\n",
      "616\n",
      "617\n",
      "618\n",
      "619\n",
      "620\n",
      "621\n",
      "622\n",
      "623\n",
      "624\n",
      "625\n",
      "626\n",
      "627\n",
      "628\n",
      "629\n",
      "630\n",
      "631\n",
      "632\n",
      "633\n",
      "634\n",
      "635\n",
      "636\n",
      "637\n",
      "638\n",
      "639\n",
      "640\n",
      "641\n",
      "642\n",
      "seconds_passed =  38.087178230285645\n",
      "643\n",
      "644\n",
      "646\n",
      "647\n",
      "648\n",
      "649\n",
      "650\n",
      "651\n",
      "652\n",
      "653\n",
      "654\n",
      "655\n",
      "657\n",
      "658\n",
      "659\n",
      "660\n",
      "failure at id = 660\n",
      "661\n",
      "662\n",
      "663\n",
      "664\n",
      "665\n",
      "666\n",
      "667\n",
      "668\n",
      "669\n",
      "670\n",
      "671\n",
      "672\n",
      "673\n",
      "674\n",
      "675\n",
      "676\n",
      "677\n",
      "678\n",
      "679\n",
      "680\n",
      "681\n",
      "682\n",
      "685\n",
      "686\n",
      "seconds_passed =  74.84928107261658\n"
     ]
    }
   ],
   "source": [
    "count = 0\n",
    "fail_ids = []\n",
    "start_timer = time.time()\n",
    "for tmdb_id in movie_ids[\"id\"][0:80].values:\n",
    "    print(tmdb_id)\n",
    "    try:\n",
    "        with urllib.request.urlopen(\"http://api.themoviedb.org/3/movie/\"+str(tmdb_id)+\"?api_key=\"+api_key) as response:\n",
    "            resp = response.readlines()[0]\n",
    "        # just assuming it doesn't break!\n",
    "\n",
    "        tmdb_df.loc[tmdb_id] = pd.DataFrame.from_dict(json.loads(resp), orient='index').T.values[0]\n",
    "    except:\n",
    "        print(\"failure at id = \"+str(tmdb_id))\n",
    "        fail_ids.append(tmdb_id)\n",
    "        \n",
    "    #X-RateLimit\n",
    "    headers_dict = dict(response.headers.items())\n",
    "    if 'X-RateLimit-Remaining' in headers_dict.keys():\n",
    "        rate_limit_remaining = int(headers_dict['X-RateLimit-Remaining'])\n",
    "        if rate_limit_remaining ==0:\n",
    "            time.sleep(10)        \n",
    "        \n",
    "    count = count +1\n",
    "    if (count % 40) == 0: # 40 api calls made\n",
    "        finish_timer = time.time()\n",
    "        seconds_passed = finish_timer-start_timer\n",
    "        print(\"seconds_passed = \",seconds_passed)\n",
    "        time.sleep( max(10 - seconds_passed,0) ) # respect the rate timer! no more than 40 requests every 10s\n",
    "        \n",
    "tmdb_df.to_msgpack( tmdb_dir+\"tmdb_df\"+\".msgpack\")"
   ]
  },
  {
   "cell_type": "code",
   "execution_count": 209,
   "metadata": {},
   "outputs": [
    {
     "data": {
      "text/html": [
       "[array([601, 602, 603, 604, 605, 606, 607, 608, 609, 612, 613, 614, 615,\n",
       "       616, 617, 618, 619, 620, 621, 622, 623, 624, 625, 626, 627, 628,\n",
       "       629, 630, 631, 632], dtype=int64), array([633, 634, 635, 636, 637, 638, 639, 640, 641, 642, 643, 644, 646,\n",
       "       647, 648, 649, 650, 651, 652, 653, 654, 655, 657, 658, 659, 660,\n",
       "       661, 662, 663, 664], dtype=int64), array([665, 666, 667, 668, 669, 670, 671, 672, 673, 674, 675, 676, 677,\n",
       "       678, 679, 680, 681, 682, 685, 686, 687, 688, 689, 690, 691, 692,\n",
       "       693, 694, 695, 696], dtype=int64)]"
      ],
      "text/plain": [
       "[array([601, 602, 603, 604, 605, 606, 607, 608, 609, 612, 613, 614, 615,\n",
       "        616, 617, 618, 619, 620, 621, 622, 623, 624, 625, 626, 627, 628,\n",
       "        629, 630, 631, 632], dtype=int64),\n",
       " array([633, 634, 635, 636, 637, 638, 639, 640, 641, 642, 643, 644, 646,\n",
       "        647, 648, 649, 650, 651, 652, 653, 654, 655, 657, 658, 659, 660,\n",
       "        661, 662, 663, 664], dtype=int64),\n",
       " array([665, 666, 667, 668, 669, 670, 671, 672, 673, 674, 675, 676, 677,\n",
       "        678, 679, 680, 681, 682, 685, 686, 687, 688, 689, 690, 691, 692,\n",
       "        693, 694, 695, 696], dtype=int64)]"
      ]
     },
     "execution_count": 209,
     "metadata": {},
     "output_type": "execute_result"
    }
   ],
   "source": [
    "np.array_split(movie_ids[\"id\"][0:90].values,3)"
   ]
  },
  {
   "cell_type": "code",
   "execution_count": 215,
   "metadata": {},
   "outputs": [
    {
     "data": {
      "text/plain": [
       "3"
      ]
     },
     "execution_count": 215,
     "metadata": {},
     "output_type": "execute_result"
    }
   ],
   "source": [
    "int(np.ceil( len(data)/40 ))"
   ]
  },
  {
   "cell_type": "code",
   "execution_count": 224,
   "metadata": {},
   "outputs": [
    {
     "name": "stdout",
     "output_type": "stream",
     "text": [
      "[687 688 689 690 691 692 693 694 695 696]\n"
     ]
    },
    {
     "data": {
      "text/html": [
       "['http://api.themoviedb.org/3/movie/687?api_key=0c8e2eac3198de39966b29221e7e740b', 'http://api.themoviedb.org/3/movie/688?api_key=0c8e2eac3198de39966b29221e7e740b', 'http://api.themoviedb.org/3/movie/689?api_key=0c8e2eac3198de39966b29221e7e740b', 'http://api.themoviedb.org/3/movie/690?api_key=0c8e2eac3198de39966b29221e7e740b', 'http://api.themoviedb.org/3/movie/691?api_key=0c8e2eac3198de39966b29221e7e740b', 'http://api.themoviedb.org/3/movie/692?api_key=0c8e2eac3198de39966b29221e7e740b', 'http://api.themoviedb.org/3/movie/693?api_key=0c8e2eac3198de39966b29221e7e740b', 'http://api.themoviedb.org/3/movie/694?api_key=0c8e2eac3198de39966b29221e7e740b', 'http://api.themoviedb.org/3/movie/695?api_key=0c8e2eac3198de39966b29221e7e740b', 'http://api.themoviedb.org/3/movie/696?api_key=0c8e2eac3198de39966b29221e7e740b']"
      ],
      "text/plain": [
       "['http://api.themoviedb.org/3/movie/687?api_key=0c8e2eac3198de39966b29221e7e740b',\n",
       " 'http://api.themoviedb.org/3/movie/688?api_key=0c8e2eac3198de39966b29221e7e740b',\n",
       " 'http://api.themoviedb.org/3/movie/689?api_key=0c8e2eac3198de39966b29221e7e740b',\n",
       " 'http://api.themoviedb.org/3/movie/690?api_key=0c8e2eac3198de39966b29221e7e740b',\n",
       " 'http://api.themoviedb.org/3/movie/691?api_key=0c8e2eac3198de39966b29221e7e740b',\n",
       " 'http://api.themoviedb.org/3/movie/692?api_key=0c8e2eac3198de39966b29221e7e740b',\n",
       " 'http://api.themoviedb.org/3/movie/693?api_key=0c8e2eac3198de39966b29221e7e740b',\n",
       " 'http://api.themoviedb.org/3/movie/694?api_key=0c8e2eac3198de39966b29221e7e740b',\n",
       " 'http://api.themoviedb.org/3/movie/695?api_key=0c8e2eac3198de39966b29221e7e740b',\n",
       " 'http://api.themoviedb.org/3/movie/696?api_key=0c8e2eac3198de39966b29221e7e740b']"
      ]
     },
     "execution_count": 224,
     "metadata": {},
     "output_type": "execute_result"
    }
   ],
   "source": [
    "batch = tmdb_id_list[ tmdb_id_batch*40:((tmdb_id_batch+1)*40)   ]\n",
    "print(batch)\n",
    "URLS = [ \"http://api.themoviedb.org/3/movie/\"+str(x)+\"?api_key=\"+api_key for x in batch]\n",
    "URLS"
   ]
  },
  {
   "cell_type": "code",
   "execution_count": null,
   "metadata": {},
   "outputs": [
    {
     "name": "stdout",
     "output_type": "stream",
     "text": [
      "5.173295974731445\n",
      "5.165295362472534\n",
      "5.522315740585327\n"
     ]
    }
   ],
   "source": [
    "import concurrent.futures\n",
    "import urllib.request\n",
    "\n",
    "# URLS = #[some list of urls]\n",
    "from multiprocessing import Pool\n",
    "# from multiprocessing.dummy import Pool as ThreadPool\n",
    "\n",
    "\n",
    "# Retrieve a json string\n",
    "def load_json_str(url, timeout=60):\n",
    "    try:\n",
    "        response = urllib.request.urlopen(url, timeout=timeout)\n",
    "        output = response.readlines()[0]\n",
    "    except Exception as exc:\n",
    "        print('%r generated an exception: %s' % (url, exc))    \n",
    "#         output = None\n",
    "        output = None\n",
    "    return output\n",
    "\n",
    "# tmdb_id_list = movie_ids[\"id\"][0:90].values\n",
    "all_movie_ids = movie_ids[\"id\"].values\n",
    "remaining_movie_ids = list( set(all_movie_ids).difference(set(list(tmdb_df.index))) )\n",
    "\n",
    "tmdb_id_list  = remaining_movie_ids\n",
    "# start_timer = time.time()\n",
    "\n",
    "\n",
    "# Make the Pool of workers\n",
    "pool = ThreadPool(2)\n",
    "# Open the urls in their own threads\n",
    "# and return the results\n",
    "\n",
    "#close the pool and wait for the work to finish\n",
    "\n",
    "\n",
    "\n",
    "for tmdb_id_batch in range(0, np.ceil( len(tmdb_id_list)/40 ).astype('int') ):\n",
    "    batch = tmdb_id_list[ tmdb_id_batch*40:((tmdb_id_batch+1)*40)   ]\n",
    "#     print(batch)\n",
    "    \n",
    "    URLS = [ \"http://api.themoviedb.org/3/movie/\"+str(x)+\"?api_key=\"+api_key for x in batch]\n",
    "    \n",
    "    start_timer = time.time()\n",
    "    # We can use a with statement to ensure threads are cleaned up promptly\n",
    "#     with concurrent.futures.ThreadPoolExecutor(max_workers=5) as executor:\n",
    "#         # Start the load operations and mark each future with its URL\n",
    "#         future_to_url = {executor.submit(load_json_str, url, 60): url for url in URLS}\n",
    "#         for future in concurrent.futures.as_completed(future_to_url):\n",
    "#             url = future_to_url[future]\n",
    "#             try:\n",
    "#                 data = future.result()\n",
    "#                 tmdb_df.loc[tmdb_id] = pd.DataFrame.from_dict(json.loads(data), orient='index').T.values[0]\n",
    "#                 # do json processing here\n",
    "#             except Exception as exc:\n",
    "#                 print('%r generated an exception: %s' % (url, exc))\n",
    "# #             else:\n",
    "# #                 print('%r page is %d bytes' % (url, len(data)))\n",
    "                \n",
    "    \n",
    "    results = pool.map(load_json_str, URLS)\n",
    "#     for res in results:\n",
    "#         tmdb_df.loc[tmdb_id] = pd.DataFrame.from_dict(json.loads(res), orient='index').T.values[0]\n",
    "    \n",
    "#     tmdb_df.loc[batch] =         pd.DataFrame.from_dict( [json.loads(res) for res in results] ).values\n",
    "    \n",
    "    df = pd.DataFrame.from_dict( [json.loads(res) for res in results if res is not None] )\n",
    "    df.index = batch\n",
    "    tmdb_df.append(df)\n",
    "    \n",
    "    finish_timer = time.time()\n",
    "    duration = finish_timer-start_timer\n",
    "    print(duration)\n",
    "    time.sleep( max( 0,12 - duration ) )\n",
    "\n",
    "    \n",
    "pool.close()\n",
    "pool.join()    "
   ]
  },
  {
   "cell_type": "code",
   "execution_count": null,
   "metadata": {},
   "outputs": [],
   "source": []
  },
  {
   "cell_type": "code",
   "execution_count": 283,
   "metadata": {},
   "outputs": [],
   "source": []
  },
  {
   "cell_type": "code",
   "execution_count": null,
   "metadata": {},
   "outputs": [],
   "source": []
  },
  {
   "cell_type": "code",
   "execution_count": null,
   "metadata": {},
   "outputs": [],
   "source": []
  },
  {
   "cell_type": "code",
   "execution_count": 195,
   "metadata": {},
   "outputs": [
    {
     "data": {
      "text/plain": [
       "38"
      ]
     },
     "execution_count": 195,
     "metadata": {},
     "output_type": "execute_result"
    }
   ],
   "source": [
    "#X-RateLimit\n",
    "headers_dict = dict(response.headers.items())\n",
    "if 'X-RateLimit-Remaining' in headers_dict.keys():\n",
    "    rate_limit_remaining = int(headers_dict['X-RateLimit-Remaining'])\n",
    "    if rate_limit_remaining ==0:\n",
    "        time.sleep(10)\n"
   ]
  },
  {
   "cell_type": "code",
   "execution_count": 197,
   "metadata": {},
   "outputs": [
    {
     "data": {
      "text/plain": [
       "{'Access-Control-Allow-Origin': '*',\n",
       " 'Access-Control-Expose-Headers': 'ETag, X-RateLimit-Limit, X-RateLimit-Remaining, X-RateLimit-Reset, Retry-After',\n",
       " 'Cache-Control': 'public, max-age=28800',\n",
       " 'Content-Type': 'application/json;charset=utf-8',\n",
       " 'Date': 'Fri, 28 Jun 2019 10:43:35 GMT',\n",
       " 'ETag': '\"0bfb58d5beab35eee92118b7ead367fd\"',\n",
       " 'Server': 'openresty',\n",
       " 'Vary': 'Accept-Encoding',\n",
       " 'X-Memc': 'HIT',\n",
       " 'X-Memc-Age': '16716',\n",
       " 'X-Memc-Expires': '12084',\n",
       " 'X-Memc-Key': 'c9ddf14d6f25e0d78cbfda351f680cc9',\n",
       " 'X-RateLimit-Limit': '40',\n",
       " 'X-RateLimit-Remaining': '38',\n",
       " 'X-RateLimit-Reset': '1561718624',\n",
       " 'Content-Length': '1267',\n",
       " 'Connection': 'Close'}"
      ]
     },
     "execution_count": 197,
     "metadata": {},
     "output_type": "execute_result"
    }
   ],
   "source": [
    "headers_dict = dict(response.headers.items())\n",
    "headers_dict"
   ]
  },
  {
   "cell_type": "code",
   "execution_count": 168,
   "metadata": {},
   "outputs": [
    {
     "data": {
      "text/plain": [
       "(153637, 25)"
      ]
     },
     "execution_count": 168,
     "metadata": {},
     "output_type": "execute_result"
    }
   ],
   "source": [
    "tmdb_df.shape"
   ]
  },
  {
   "cell_type": "code",
   "execution_count": 169,
   "metadata": {},
   "outputs": [],
   "source": [
    "tmdb_df.to_msgpack( tmdb_dir+\"tmdb_df_why_slow\"+\".msgpack\")"
   ]
  },
  {
   "cell_type": "code",
   "execution_count": 153,
   "metadata": {
    "scrolled": true
   },
   "outputs": [
    {
     "data": {
      "text/plain": [
       "32.446041666666666"
      ]
     },
     "execution_count": 153,
     "metadata": {},
     "output_type": "execute_result"
    }
   ],
   "source": [
    "((467223/40)*10) / 3600"
   ]
  },
  {
   "cell_type": "code",
   "execution_count": 171,
   "metadata": {},
   "outputs": [
    {
     "data": {
      "text/plain": [
       "466023"
      ]
     },
     "execution_count": 171,
     "metadata": {},
     "output_type": "execute_result"
    }
   ],
   "source": [
    "len(movie_ids[\"id\"][1200:].values)"
   ]
  },
  {
   "cell_type": "code",
   "execution_count": 173,
   "metadata": {},
   "outputs": [
    {
     "data": {
      "text/plain": [
       "43.15027777777778"
      ]
     },
     "execution_count": 173,
     "metadata": {},
     "output_type": "execute_result"
    }
   ],
   "source": [
    "(466023/3)/3600"
   ]
  },
  {
   "cell_type": "code",
   "execution_count": 161,
   "metadata": {},
   "outputs": [
    {
     "data": {
      "text/plain": [
       "389.3525"
      ]
     },
     "execution_count": 161,
     "metadata": {},
     "output_type": "execute_result"
    }
   ],
   "source": [
    "# 1200 -> ~1MB\n",
    "467223/1200\n",
    "# -> 400MB"
   ]
  },
  {
   "cell_type": "code",
   "execution_count": null,
   "metadata": {},
   "outputs": [],
   "source": [
    "# 32 hours starting ~ 17ish Wednesday -> 1am Friday morning"
   ]
  },
  {
   "cell_type": "code",
   "execution_count": null,
   "metadata": {},
   "outputs": [],
   "source": []
  }
 ],
 "metadata": {
  "kernelspec": {
   "display_name": "Python [conda env:Cook_Tortoise_Imdb_project] *",
   "language": "python",
   "name": "conda-env-Cook_Tortoise_Imdb_project-py"
  },
  "language_info": {
   "codemirror_mode": {
    "name": "ipython",
    "version": 3
   },
   "file_extension": ".py",
   "mimetype": "text/x-python",
   "name": "python",
   "nbconvert_exporter": "python",
   "pygments_lexer": "ipython3",
   "version": "3.6.7"
  }
 },
 "nbformat": 4,
 "nbformat_minor": 2
}
