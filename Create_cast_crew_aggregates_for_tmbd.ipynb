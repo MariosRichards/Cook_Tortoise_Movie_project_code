{
 "cells": [
  {
   "cell_type": "code",
   "execution_count": 2,
   "metadata": {},
   "outputs": [],
   "source": [
    "# basic python data handling analysis modules\n",
    "import numpy as np, pandas as pd, matplotlib.pyplot as plt, seaborn as sns\n",
    "sns.set()\n",
    "import pickle, os, gc, re\n",
    "# small utility functions\n",
    "from utility import *\n",
    "\n",
    "# interactive jupyter widgets!\n",
    "# https://towardsdatascience.com/interactive-controls-for-jupyter-notebooks-f5c94829aee6\n",
    "import ipywidgets as widgets\n",
    "from ipywidgets import interact, interact_manual\n",
    "\n",
    "%matplotlib inline"
   ]
  },
  {
   "cell_type": "code",
   "execution_count": 3,
   "metadata": {},
   "outputs": [],
   "source": [
    "Dataset_directory = \"..\"+os.sep+\"Datasets\"+os.sep"
   ]
  },
  {
   "cell_type": "code",
   "execution_count": 4,
   "metadata": {},
   "outputs": [],
   "source": [
    "import shutil\n",
    "import tempfile\n",
    "import urllib.request\n",
    "import gzip\n",
    "import datetime\n",
    "\n",
    "tmdb_dir = create_subdir(Dataset_directory, \"themoviedb\")"
   ]
  },
  {
   "cell_type": "code",
   "execution_count": 5,
   "metadata": {},
   "outputs": [],
   "source": [
    "crew_df = pd.read_msgpack(tmdb_dir + \"TMB_crew.msgpack\")\n",
    "cast_df = pd.read_msgpack(tmdb_dir + \"TMB_cast.msgpack\")\n",
    "TMB_crew_individuals = pd.read_msgpack(tmdb_dir + \"TMB_crew_individuals.msgpack\")\n",
    "TMB_cast_individuals = pd.read_msgpack(tmdb_dir + \"TMB_cast_individuals.msgpack\")"
   ]
  },
  {
   "cell_type": "code",
   "execution_count": 5,
   "metadata": {},
   "outputs": [],
   "source": [
    "# cast_crew_aggregates = pd.read_msgpack(tmdb_dir+\"TMB_cast_crew_aggregates\"+\".msgpack\")"
   ]
  },
  {
   "cell_type": "code",
   "execution_count": 7,
   "metadata": {},
   "outputs": [],
   "source": [
    "TMB_crew_individuals[[\"cast_crew_overlap\",\"adult\"]] = TMB_crew_individuals[[\"cast_crew_overlap\",\"adult\"]].astype('float')\n",
    "TMB_cast_individuals[[\"cast_crew_overlap\",\"adult\"]] = TMB_cast_individuals[[\"cast_crew_overlap\",\"adult\"]].astype('float')"
   ]
  },
  {
   "cell_type": "code",
   "execution_count": 30,
   "metadata": {},
   "outputs": [],
   "source": []
  },
  {
   "cell_type": "code",
   "execution_count": 45,
   "metadata": {},
   "outputs": [
    {
     "data": {
      "text/plain": [
       "Index(['gender', 'id', 'name', 'profile_path', 'credit_list', 'credit_number',\n",
       "       'mean_order', 'fractional_mean_order', 'order_list', 'gender_guesser',\n",
       "       'importulence', 'profile_path_cast', 'gender_guess_integrated',\n",
       "       'cast_crew_overlap', 'adult', 'known_for_department', 'popularity',\n",
       "       'death_day', 'death_month', 'death_year', 'birth_day', 'birth_month',\n",
       "       'birth_year'],\n",
       "      dtype='object')"
      ]
     },
     "execution_count": 45,
     "metadata": {},
     "output_type": "execute_result"
    }
   ],
   "source": [
    "TMB_cast_individuals.columns"
   ]
  },
  {
   "cell_type": "code",
   "execution_count": 46,
   "metadata": {},
   "outputs": [
    {
     "data": {
      "text/plain": [
       "Index(['gender', 'id', 'name', 'profile_path', 'credit_list', 'credit_number',\n",
       "       'mean_order', 'fractional_mean_order', 'order_list', 'department_list',\n",
       "       'department_number', 'job_list', 'job_number', 'gender_guesser',\n",
       "       'importulence', 'gender_guess_integrated', 'cast_crew_overlap', 'adult',\n",
       "       'known_for_department', 'popularity', 'death_day', 'death_month',\n",
       "       'death_year', 'birth_day', 'birth_month', 'birth_year'],\n",
       "      dtype='object')"
      ]
     },
     "execution_count": 46,
     "metadata": {},
     "output_type": "execute_result"
    }
   ],
   "source": [
    "TMB_crew_individuals.columns"
   ]
  },
  {
   "cell_type": "code",
   "execution_count": 31,
   "metadata": {},
   "outputs": [],
   "source": [
    "# birth_df = TMB_cast_individuals[[\"birth_year\",\"birth_month\",\"birth_day\"]][0:1000].copy()\n",
    "# birth_df.columns = [\"year\",\"month\",\"day\"]\n",
    "# birth_df[\"month\"].fillna(7)\n",
    "# birth_df[\"day\"].fillna(2)"
   ]
  },
  {
   "cell_type": "code",
   "execution_count": 27,
   "metadata": {},
   "outputs": [
    {
     "data": {
      "text/plain": [
       "12.0"
      ]
     },
     "execution_count": 27,
     "metadata": {},
     "output_type": "execute_result"
    }
   ],
   "source": [
    "# july 2nd is midpoint of the year to fill in for missing month/days\n",
    "# years we leave blank!\n"
   ]
  },
  {
   "cell_type": "code",
   "execution_count": 36,
   "metadata": {},
   "outputs": [],
   "source": [
    "\n",
    "# cast_crew_overlap\n",
    "# adult\n",
    "# popularity\n",
    "# born X years before 2000\n",
    "# dead for X years before 2000"
   ]
  },
  {
   "cell_type": "code",
   "execution_count": 37,
   "metadata": {},
   "outputs": [],
   "source": [
    "extra_aggregateable_traits = [\"cast_crew_overlap\",\"adult\",\"popularity\"]\n",
    "aggregateable_traits = [\"credit_number\",\"mean_order\",\"fractional_mean_order\",\"importulence\", \"gender_guess_integrated\"]\n",
    "crew_only_aggregateable_traits = [\"job_number\",\"department_number\"]\n",
    "# mean of whole cast/mean of top X/mean! of top bill person\n",
    "# for cast and crew\n",
    "# aggregate by movie\n",
    "\n",
    "# importulence = TMB_crew_individuals[\"credit_number\"]/TMB_crew_individuals[\"mean_order\"]\n",
    "# TMB_crew_individuals.head(10)\n",
    "credit_number_trait = ['credit_number']\n",
    "stableish_traits = ['gender_guess_integrated']"
   ]
  },
  {
   "cell_type": "code",
   "execution_count": 33,
   "metadata": {},
   "outputs": [],
   "source": [
    "# aggregateable_traits,crew_only_aggregateable_traits\n",
    "# aggregateable_traits = ['mean_order',\n",
    "#   'fractional_mean_order',\n",
    "#   'importulence']\n",
    "\n",
    "# Yes, I know, Warchowski bros are kind of important but the data really does not have that resolution!\n",
    "\n",
    "cast_crew_aggregates = pd.DataFrame(index = crew_df[\"tmdb_id\"].unique())\n",
    "\n",
    "# median_cast_size = int(INT_df[\"TMB_cast_size\"].median())\n",
    "# median_crew_size = int(INT_df[\"TMB_crew_size\"].median())\n",
    "\n",
    "\n",
    "# this is a lie, it's just a hassle to distinguish between cast and crew size at 5/10\n",
    "\n"
   ]
  },
  {
   "cell_type": "code",
   "execution_count": 34,
   "metadata": {},
   "outputs": [
    {
     "name": "stdout",
     "output_type": "stream",
     "text": [
      "credit_number\n",
      "mean_order\n",
      "fractional_mean_order\n",
      "importulence\n",
      "gender_guess_integrated\n",
      "cast_crew_overlap\n",
      "adult\n",
      "popularity\n",
      "job_number\n",
      "department_number\n"
     ]
    }
   ],
   "source": [
    "for trait in aggregateable_traits:\n",
    "    print(trait)\n",
    "    crew_df[trait] = TMB_crew_individuals.loc[crew_df[\"id\"],trait].values\n",
    "    cast_df[trait] = TMB_cast_individuals.loc[cast_df[\"id\"],trait].values\n",
    "    \n",
    "for trait in crew_only_aggregateable_traits:\n",
    "    print(trait)\n",
    "    crew_df[trait] = TMB_crew_individuals.loc[crew_df[\"id\"],trait].values"
   ]
  },
  {
   "cell_type": "code",
   "execution_count": null,
   "metadata": {},
   "outputs": [],
   "source": []
  },
  {
   "cell_type": "code",
   "execution_count": 35,
   "metadata": {},
   "outputs": [],
   "source": [
    "median_cast_size = 5\n",
    "median_crew_size = 5"
   ]
  },
  {
   "cell_type": "code",
   "execution_count": 38,
   "metadata": {},
   "outputs": [
    {
     "name": "stdout",
     "output_type": "stream",
     "text": [
      "gender_guess_integrated\n",
      "credit_number\n",
      "Wall time: 28min 24s\n"
     ]
    }
   ],
   "source": [
    "%%time \n",
    "# 50 mins!\n",
    "for trait in stableish_traits:\n",
    "    print(trait)\n",
    "#     cast_crew_aggregates[trait+\"_crew\"+\"_mean\"]  = crew_df.groupby(\"tmdb_id\").apply(lambda x: x[trait].mean())\n",
    "#     cast_crew_aggregates[trait+\"_cast\"+\"_mean\"]  = cast_df.groupby(\"tmdb_id\").apply(lambda x: x[trait].mean())\n",
    "    \n",
    "#     cast_crew_aggregates[trait+\"_crew\"+\"_lead\"]  = crew_df.groupby(\"tmdb_id\").apply(lambda x: x[trait][x[\"order\"]==0].mean())\n",
    "#     cast_crew_aggregates[trait+\"_cast\"+\"_lead\"]  = cast_df.groupby(\"tmdb_id\").apply(lambda x: x[trait][x[\"order\"]==0].mean())\n",
    "\n",
    "#     cast_crew_aggregates[trait+\"_crew\"+\"_lead\"+str(median_crew_size)]  = crew_df.groupby(\"tmdb_id\").apply(lambda x: x[trait][x[\"order\"]<median_crew_size].mean())\n",
    "#     cast_crew_aggregates[trait+\"_cast\"+\"_lead\"+str(median_cast_size)]  = cast_df.groupby(\"tmdb_id\").apply(lambda x: x[trait][x[\"order\"]<median_cast_size].mean())\n",
    "\n",
    "    ### new\n",
    "    cast_crew_aggregates[trait+\"_crew\"+\"_second\"]  = crew_df.groupby(\"tmdb_id\").apply(lambda x: x[trait][x[\"order\"]==1].mean())\n",
    "    cast_crew_aggregates[trait+\"_cast\"+\"_second\"]  = cast_df.groupby(\"tmdb_id\").apply(lambda x: x[trait][x[\"order\"]==1].mean())\n",
    "    \n",
    "\n",
    "for trait in credit_number_trait:\n",
    "    print(trait)\n",
    "#     cast_crew_aggregates[trait+\"_crew\"+\"_mean\"]  = crew_df.groupby(\"tmdb_id\").apply(lambda x: x[trait].mean()-1)\n",
    "#     cast_crew_aggregates[trait+\"_cast\"+\"_mean\"]  = cast_df.groupby(\"tmdb_id\").apply(lambda x: x[trait].mean()-1)\n",
    "    \n",
    "#     cast_crew_aggregates[trait+\"_crew\"+\"_lead\"]  = crew_df.groupby(\"tmdb_id\").apply(lambda x: x[trait][x[\"order\"]==0].mean()-1)\n",
    "#     cast_crew_aggregates[trait+\"_cast\"+\"_lead\"]  = cast_df.groupby(\"tmdb_id\").apply(lambda x: x[trait][x[\"order\"]==0].mean()-1)\n",
    "\n",
    "#     cast_crew_aggregates[trait+\"_crew\"+\"_lead\"+str(median_crew_size)]  = crew_df.groupby(\"tmdb_id\").apply(lambda x: x[trait][x[\"order\"]<median_crew_size].mean()-1)\n",
    "#     cast_crew_aggregates[trait+\"_cast\"+\"_lead\"+str(median_cast_size)]  = cast_df.groupby(\"tmdb_id\").apply(lambda x: x[trait][x[\"order\"]<median_cast_size].mean()-1)\n",
    "\n",
    "    ### new\n",
    "    cast_crew_aggregates[trait+\"_crew\"+\"_second\"]  = crew_df.groupby(\"tmdb_id\").apply(lambda x: x[trait][x[\"order\"]==1].mean()-1)\n",
    "    cast_crew_aggregates[trait+\"_cast\"+\"_second\"]  = cast_df.groupby(\"tmdb_id\").apply(lambda x: x[trait][x[\"order\"]==1].mean()-1)\n",
    "    "
   ]
  },
  {
   "cell_type": "code",
   "execution_count": 39,
   "metadata": {},
   "outputs": [
    {
     "name": "stdout",
     "output_type": "stream",
     "text": [
      "job_number\n",
      "department_number\n",
      "credit_number\n",
      "mean_order\n",
      "fractional_mean_order\n",
      "importulence\n",
      "gender_guess_integrated\n",
      "Wall time: 1h 28min 38s\n"
     ]
    }
   ],
   "source": [
    "%%time\n",
    "# takes ~3hrs\n",
    "\n",
    "for trait in crew_only_aggregateable_traits: \n",
    "    print(trait)\n",
    "#     cast_crew_aggregates[trait+\"_crew\"+\"_mean\"]  = crew_df.groupby(\"tmdb_id\").apply(lambda x: x[trait][x[\"credit_number\"]>1].mean())   \n",
    "#     cast_crew_aggregates[trait+\"_crew\"+\"_lead\"]  = crew_df.groupby(\"tmdb_id\").apply(lambda x: x[trait][(x[\"credit_number\"]>1)&(x[\"order\"]==0)].mean())\n",
    "#     cast_crew_aggregates[trait+\"_crew\"+\"_lead\"+str(median_crew_size)]  = crew_df.groupby(\"tmdb_id\").apply(lambda x: x[trait][(x[\"credit_number\"]>1)&(x[\"order\"]<median_crew_size)].mean())\n",
    "    \n",
    "    ### new\n",
    "    cast_crew_aggregates[trait+\"_crew\"+\"_second\"]  = crew_df.groupby(\"tmdb_id\").apply(lambda x: x[trait][x[\"order\"]==1].mean())\n",
    "    \n",
    "    \n",
    "\n",
    "for trait in aggregateable_traits:\n",
    "    print(trait)\n",
    "#     cast_crew_aggregates[trait+\"_crew\"+\"_mean\"]  = crew_df.groupby(\"tmdb_id\").apply(lambda x: x[trait][x[\"credit_number\"]>1].mean())\n",
    "#     cast_crew_aggregates[trait+\"_cast\"+\"_mean\"]  = cast_df.groupby(\"tmdb_id\").apply(lambda x: x[trait][x[\"credit_number\"]>1].mean())\n",
    "    \n",
    "#     cast_crew_aggregates[trait+\"_crew\"+\"_lead\"]  = crew_df.groupby(\"tmdb_id\").apply(lambda x: x[trait][(x[\"credit_number\"]>1)&(x[\"order\"]==0)].mean())\n",
    "#     cast_crew_aggregates[trait+\"_cast\"+\"_lead\"]  = cast_df.groupby(\"tmdb_id\").apply(lambda x: x[trait][(x[\"credit_number\"]>1)&(x[\"order\"]==0)].mean())\n",
    "\n",
    "#     cast_crew_aggregates[trait+\"_crew\"+\"_lead\"+str(median_crew_size)]  = crew_df.groupby(\"tmdb_id\").apply(lambda x: x[trait][(x[\"credit_number\"]>1)&(x[\"order\"]<median_crew_size)].mean())\n",
    "#     cast_crew_aggregates[trait+\"_cast\"+\"_lead\"+str(median_cast_size)]  = cast_df.groupby(\"tmdb_id\").apply(lambda x: x[trait][(x[\"credit_number\"]>1)&(x[\"order\"]<median_crew_size)].mean())\n",
    "\n",
    "    ### new\n",
    "    cast_crew_aggregates[trait+\"_crew\"+\"_second\"]  = crew_df.groupby(\"tmdb_id\").apply(lambda x: x[trait][x[\"order\"]==1].mean())\n",
    "    cast_crew_aggregates[trait+\"_cast\"+\"_second\"]  = cast_df.groupby(\"tmdb_id\").apply(lambda x: x[trait][x[\"order\"]==1].mean())\n",
    "    "
   ]
  },
  {
   "cell_type": "code",
   "execution_count": null,
   "metadata": {},
   "outputs": [],
   "source": [
    "##########################"
   ]
  },
  {
   "cell_type": "code",
   "execution_count": null,
   "metadata": {},
   "outputs": [],
   "source": []
  },
  {
   "cell_type": "code",
   "execution_count": null,
   "metadata": {},
   "outputs": [],
   "source": [
    "# %%time \n",
    "# # 50 mins!\n",
    "# for trait in stableish_traits:\n",
    "#     print(trait)\n",
    "#     cast_crew_aggregates[trait+\"_crew\"+\"_mean\"]  = crew_df.groupby(\"tmdb_id\").apply(lambda x: x[trait].mean())\n",
    "#     cast_crew_aggregates[trait+\"_cast\"+\"_mean\"]  = cast_df.groupby(\"tmdb_id\").apply(lambda x: x[trait].mean())\n",
    "    \n",
    "#     cast_crew_aggregates[trait+\"_crew\"+\"_lead\"]  = crew_df.groupby(\"tmdb_id\").apply(lambda x: x[trait][x[\"order\"]==0].mean())\n",
    "#     cast_crew_aggregates[trait+\"_cast\"+\"_lead\"]  = cast_df.groupby(\"tmdb_id\").apply(lambda x: x[trait][x[\"order\"]==0].mean())\n",
    "\n",
    "#     cast_crew_aggregates[trait+\"_crew\"+\"_lead\"+str(median_crew_size)]  = crew_df.groupby(\"tmdb_id\").apply(lambda x: x[trait][x[\"order\"]<median_crew_size].mean())\n",
    "#     cast_crew_aggregates[trait+\"_cast\"+\"_lead\"+str(median_cast_size)]  = cast_df.groupby(\"tmdb_id\").apply(lambda x: x[trait][x[\"order\"]<median_cast_size].mean())\n",
    "\n",
    "#     ### new\n",
    "#     cast_crew_aggregates[trait+\"_crew\"+\"_second\"]  = crew_df.groupby(\"tmdb_id\").apply(lambda x: x[trait][x[\"order\"]==1].mean())\n",
    "#     cast_crew_aggregates[trait+\"_cast\"+\"_second\"]  = cast_df.groupby(\"tmdb_id\").apply(lambda x: x[trait][x[\"order\"]==1].mean())\n",
    "    \n",
    "\n",
    "# for trait in credit_number_trait:\n",
    "#     print(trait)\n",
    "#     cast_crew_aggregates[trait+\"_crew\"+\"_mean\"]  = crew_df.groupby(\"tmdb_id\").apply(lambda x: x[trait].mean()-1)\n",
    "#     cast_crew_aggregates[trait+\"_cast\"+\"_mean\"]  = cast_df.groupby(\"tmdb_id\").apply(lambda x: x[trait].mean()-1)\n",
    "    \n",
    "#     cast_crew_aggregates[trait+\"_crew\"+\"_lead\"]  = crew_df.groupby(\"tmdb_id\").apply(lambda x: x[trait][x[\"order\"]==0].mean()-1)\n",
    "#     cast_crew_aggregates[trait+\"_cast\"+\"_lead\"]  = cast_df.groupby(\"tmdb_id\").apply(lambda x: x[trait][x[\"order\"]==0].mean()-1)\n",
    "\n",
    "#     cast_crew_aggregates[trait+\"_crew\"+\"_lead\"+str(median_crew_size)]  = crew_df.groupby(\"tmdb_id\").apply(lambda x: x[trait][x[\"order\"]<median_crew_size].mean()-1)\n",
    "#     cast_crew_aggregates[trait+\"_cast\"+\"_lead\"+str(median_cast_size)]  = cast_df.groupby(\"tmdb_id\").apply(lambda x: x[trait][x[\"order\"]<median_cast_size].mean()-1)\n",
    "\n",
    "#     ### new\n",
    "#     cast_crew_aggregates[trait+\"_crew\"+\"_second\"]  = crew_df.groupby(\"tmdb_id\").apply(lambda x: x[trait][x[\"order\"]==1].mean()-1)\n",
    "#     cast_crew_aggregates[trait+\"_cast\"+\"_second\"]  = cast_df.groupby(\"tmdb_id\").apply(lambda x: x[trait][x[\"order\"]==1].mean()-1)\n",
    "    "
   ]
  },
  {
   "cell_type": "code",
   "execution_count": 40,
   "metadata": {},
   "outputs": [
    {
     "name": "stdout",
     "output_type": "stream",
     "text": [
      "cast_crew_overlap\n",
      "adult\n",
      "popularity\n"
     ]
    }
   ],
   "source": [
    "for trait in extra_aggregateable_traits:\n",
    "    print(trait)\n",
    "    crew_df[trait] = TMB_crew_individuals.loc[crew_df[\"id\"],trait].values\n",
    "    cast_df[trait] = TMB_cast_individuals.loc[cast_df[\"id\"],trait].values"
   ]
  },
  {
   "cell_type": "code",
   "execution_count": 41,
   "metadata": {},
   "outputs": [
    {
     "name": "stdout",
     "output_type": "stream",
     "text": [
      "cast_crew_overlap\n",
      "adult\n",
      "popularity\n",
      "Wall time: 3h 38min 50s\n"
     ]
    }
   ],
   "source": [
    "%%time\n",
    "# takes ~3hrs\n",
    "\n",
    "# for trait in crew_only_aggregateable_traits: \n",
    "#     print(trait)\n",
    "#     cast_crew_aggregates[trait+\"_crew\"+\"_mean\"]  = crew_df.groupby(\"tmdb_id\").apply(lambda x: x[trait][x[\"credit_number\"]>1].mean())   \n",
    "#     cast_crew_aggregates[trait+\"_crew\"+\"_lead\"]  = crew_df.groupby(\"tmdb_id\").apply(lambda x: x[trait][(x[\"credit_number\"]>1)&(x[\"order\"]==0)].mean())\n",
    "#     cast_crew_aggregates[trait+\"_crew\"+\"_lead\"+str(median_crew_size)]  = crew_df.groupby(\"tmdb_id\").apply(lambda x: x[trait][(x[\"credit_number\"]>1)&(x[\"order\"]<median_crew_size)].mean())\n",
    "    \n",
    "#     ### new\n",
    "#     cast_crew_aggregates[trait+\"_crew\"+\"_second\"]  = crew_df.groupby(\"tmdb_id\").apply(lambda x: x[trait][x[\"order\"]==1].mean())\n",
    "    \n",
    "    \n",
    "    \n",
    "\n",
    "for trait in extra_aggregateable_traits:\n",
    "    print(trait)\n",
    "    cast_crew_aggregates[trait+\"_crew\"+\"_mean\"]  = crew_df.groupby(\"tmdb_id\").apply(lambda x: x[trait][x[\"credit_number\"]>1].mean())\n",
    "    cast_crew_aggregates[trait+\"_cast\"+\"_mean\"]  = cast_df.groupby(\"tmdb_id\").apply(lambda x: x[trait][x[\"credit_number\"]>1].mean())\n",
    "    \n",
    "    cast_crew_aggregates[trait+\"_crew\"+\"_lead\"]  = crew_df.groupby(\"tmdb_id\").apply(lambda x: x[trait][(x[\"credit_number\"]>1)&(x[\"order\"]==0)].mean())\n",
    "    cast_crew_aggregates[trait+\"_cast\"+\"_lead\"]  = cast_df.groupby(\"tmdb_id\").apply(lambda x: x[trait][(x[\"credit_number\"]>1)&(x[\"order\"]==0)].mean())\n",
    "\n",
    "    cast_crew_aggregates[trait+\"_crew\"+\"_lead\"+str(median_crew_size)]  = crew_df.groupby(\"tmdb_id\").apply(lambda x: x[trait][(x[\"credit_number\"]>1)&(x[\"order\"]<median_crew_size)].mean())\n",
    "    cast_crew_aggregates[trait+\"_cast\"+\"_lead\"+str(median_cast_size)]  = cast_df.groupby(\"tmdb_id\").apply(lambda x: x[trait][(x[\"credit_number\"]>1)&(x[\"order\"]<median_crew_size)].mean())\n",
    "\n",
    "    ### new\n",
    "    cast_crew_aggregates[trait+\"_crew\"+\"_second\"]  = crew_df.groupby(\"tmdb_id\").apply(lambda x: x[trait][x[\"order\"]==1].mean())\n",
    "    cast_crew_aggregates[trait+\"_cast\"+\"_second\"]  = cast_df.groupby(\"tmdb_id\").apply(lambda x: x[trait][x[\"order\"]==1].mean())\n",
    "    "
   ]
  },
  {
   "cell_type": "code",
   "execution_count": null,
   "metadata": {},
   "outputs": [],
   "source": []
  },
  {
   "cell_type": "code",
   "execution_count": null,
   "metadata": {},
   "outputs": [],
   "source": []
  },
  {
   "cell_type": "code",
   "execution_count": 42,
   "metadata": {},
   "outputs": [
    {
     "data": {
      "text/plain": [
       "gender_guess_integrated_crew_second    152781\n",
       "gender_guess_integrated_cast_second    109224\n",
       "credit_number_crew_second              128468\n",
       "credit_number_cast_second               91400\n",
       "job_number_crew_second                 128468\n",
       "department_number_crew_second          128468\n",
       "mean_order_crew_second                 128468\n",
       "mean_order_cast_second                  91400\n",
       "fractional_mean_order_crew_second      128468\n",
       "fractional_mean_order_cast_second       91400\n",
       "importulence_crew_second               128468\n",
       "importulence_cast_second                91400\n",
       "cast_crew_overlap_crew_mean             31261\n",
       "cast_crew_overlap_cast_mean             97844\n",
       "cast_crew_overlap_crew_lead             44610\n",
       "cast_crew_overlap_cast_lead            256410\n",
       "cast_crew_overlap_crew_lead5            31559\n",
       "cast_crew_overlap_cast_lead5           100301\n",
       "cast_crew_overlap_crew_second          128468\n",
       "cast_crew_overlap_cast_second           91400\n",
       "adult_crew_mean                         31261\n",
       "adult_cast_mean                         97844\n",
       "adult_crew_lead                         44610\n",
       "adult_cast_lead                        256410\n",
       "adult_crew_lead5                        31559\n",
       "adult_cast_lead5                       100301\n",
       "adult_crew_second                      128468\n",
       "adult_cast_second                       91400\n",
       "popularity_crew_mean                    31321\n",
       "popularity_cast_mean                    97861\n",
       "popularity_crew_lead                    44700\n",
       "popularity_cast_lead                   256416\n",
       "popularity_crew_lead5                   31621\n",
       "popularity_cast_lead5                  100320\n",
       "popularity_crew_second                 128590\n",
       "popularity_cast_second                  91479\n",
       "dtype: int64"
      ]
     },
     "execution_count": 42,
     "metadata": {},
     "output_type": "execute_result"
    }
   ],
   "source": [
    "cast_crew_aggregates.isnull().sum()"
   ]
  },
  {
   "cell_type": "code",
   "execution_count": 44,
   "metadata": {},
   "outputs": [],
   "source": [
    "secondary_tmdb_dir = \"e:\\\\Datasets\\\\themoviedb\\\\\"\n",
    "cast_crew_aggregates.to_msgpack(secondary_tmdb_dir+\"TMB_cast_crew_aggregates_addendum1\"+\".msgpack\")"
   ]
  },
  {
   "cell_type": "code",
   "execution_count": null,
   "metadata": {},
   "outputs": [],
   "source": []
  },
  {
   "cell_type": "code",
   "execution_count": null,
   "metadata": {},
   "outputs": [],
   "source": [
    "### now get age_since/death_since/lifespan!"
   ]
  },
  {
   "cell_type": "code",
   "execution_count": 341,
   "metadata": {},
   "outputs": [],
   "source": [
    "birth_df = TMB_cast_individuals[[\"birth_year\",\"birth_month\",\"birth_day\"]].copy()\n",
    "birth_df.columns = [\"year\",\"month\",\"day\"]\n",
    "birth_df[\"month\"] = birth_df[\"month\"].fillna(7)\n",
    "birth_df[\"day\"] = birth_df[\"day\"].fillna(2)\n",
    "birth_df = birth_df.dropna().astype('int')\n",
    "birth_dates = pd.to_datetime(birth_df,errors='coerce')\n",
    "birth_dates = birth_dates.dropna()\n",
    "# dropping dates out of the range 1677-2062 # https://pandas.pydata.org/pandas-docs/stable/user_guide/timeseries.html#timeseries-timestamp-limits\n",
    "del birth_df\n",
    "\n",
    "death_df = TMB_cast_individuals[[\"death_year\",\"death_month\",\"death_day\"]].copy()\n",
    "death_df.columns = [\"year\",\"month\",\"day\"]\n",
    "death_df[\"month\"] = death_df[\"month\"].fillna(7)\n",
    "death_df[\"day\"] = death_df[\"day\"].fillna(2)\n",
    "death_df = death_df.dropna().astype('int')\n",
    "death_dates = pd.to_datetime(death_df,errors='coerce').dropna()\n",
    "# dropping dates out of the range 1677-2062 # https://pandas.pydata.org/pandas-docs/stable/user_guide/timeseries.html#timeseries-timestamp-limits\n",
    "del death_df\n",
    "\n",
    "from dateutil.relativedelta import relativedelta\n",
    "\n",
    "def yrs_rel_1900(date):\n",
    "    ref_date = datetime.datetime(1900,1,1,0,0,0,0)\n",
    "    difference = relativedelta(date, ref_date)\n",
    "    return difference.years + (difference.months/12) + (difference.days/365.25)\n",
    "\n",
    "birth_yrs_rel_1900 = birth_dates.apply(lambda x: yrs_rel_1900(x))\n",
    "death_yrs_rel_1900 = death_dates.apply(lambda x: yrs_rel_1900(x))\n",
    "life_spans = death_yrs_rel_1900 - birth_yrs_rel_1900"
   ]
  },
  {
   "cell_type": "code",
   "execution_count": 342,
   "metadata": {},
   "outputs": [
    {
     "data": {
      "text/plain": [
       "(27504, 3.3333333333333286, 110.2417864476386)"
      ]
     },
     "execution_count": 342,
     "metadata": {},
     "output_type": "execute_result"
    }
   ],
   "source": [
    "life_spans.notnull().sum(), life_spans.min(), life_spans.max()"
   ]
  },
  {
   "cell_type": "code",
   "execution_count": 343,
   "metadata": {},
   "outputs": [
    {
     "data": {
      "image/png": "[encoded data removed]",
      "text/plain": [
       "<Figure size 432x288 with 1 Axes>"
      ]
     },
     "metadata": {
      "needs_background": "light"
     },
     "output_type": "display_data"
    }
   ],
   "source": [
    "life_spans.hist(bins=100); ## looks reasonable!"
   ]
  },
  {
   "cell_type": "code",
   "execution_count": 314,
   "metadata": {},
   "outputs": [],
   "source": [
    "TMB_cast_individuals.loc[1707,[\"death_day\",\"death_month\",\"death_year\"]] = [np.nan,np.nan,np.nan] # Stuart Beattie not dead!\n",
    "\n",
    "TMB_cast_individuals.loc[28729,[\"birth_day\",\"birth_month\",\"birth_year\"]] = [30,6 ,1951] # André Hazes=s born 30 June 1951\n",
    "TMB_cast_individuals.loc[28729,\"gender\"] = 2\n",
    "\n",
    "TMB_cast_individuals.loc[29589,[\"birth_day\",\"birth_month\",\"birth_year\"]] = [20,4 ,1868] # Sheldon Lewis (April 20, 1868 - May 7, 1958)\n",
    "TMB_cast_individuals.loc[29589,\"gender\"] = 2\n",
    "\n",
    "TMB_cast_individuals.loc[37136,[\"birth_day\",\"birth_month\",\"birth_year\"]] = [1 ,4 ,1882] # Julienne Paroli est une actrice française née le 1er avril 1882\n",
    "TMB_cast_individuals.loc[29589,\"gender\"] = 1\n",
    "TMB_cast_individuals.loc[37537,[\"death_day\",\"death_month\",\"death_year\"]] = [np.nan,np.nan,np.nan] # Dorit Gabler not dead\n",
    "TMB_cast_individuals.loc[55703,[\"death_day\",\"death_month\",\"death_year\"]] = [27,2,2012] # Wallace Earl death date wrong\n",
    "TMB_cast_individuals.loc[69545,[\"death_day\",\"death_month\",\"death_year\"]] = [np.nan,np.nan,np.nan] # Manu Katché not dead!\n",
    "TMB_cast_individuals.loc[132193,[\"birth_day\",\"birth_month\",\"birth_year\"]] = [21 ,2 ,1911] # Pietro de Vico Born: 21 February 1911\n",
    "TMB_cast_individuals.loc[143818,[\"birth_day\",\"birth_month\",\"birth_year\"]] = [14 ,9 ,1904] # Flora Bramley Born: 14/9/1904\n",
    "TMB_cast_individuals.loc[153738,[\"birth_day\",\"birth_month\",\"birth_year\"]] = [21 ,4 ,1882] # \"True Boardman\" Born: 21/4/1882\n",
    "\n",
    "TMB_cast_individuals.loc[233717,[\"death_day\",\"death_month\",\"death_year\"]] = [np.nan,np.nan,np.nan] # Márta Mészáros not dead!\n",
    "\n",
    "# solves 14!\n",
    "# identical birth/death dates => accidentially copying birth date into death date\n",
    "# so far, manual inspection has had *all* of these be erroneous death dates added to people who are alive\n",
    "identical_birth_death_dates = (birth_dates[birth_dates.notnull()&death_dates.notnull()]==death_dates[birth_dates.notnull()&death_dates.notnull()])\n",
    "identical_birth_death_dates[identical_birth_death_dates].index\n",
    "TMB_cast_individuals.loc[identical_birth_death_dates[identical_birth_death_dates].index, [\"death_day\",\"death_month\",\"death_year\"]] = [np.nan,np.nan,np.nan]\n",
    "\n",
    "# birth date after death date => one century too late in birth date\n",
    "born_after_death = (birth_dates[birth_dates.notnull()&death_dates.notnull()]>death_dates[birth_dates.notnull()&death_dates.notnull()])\n",
    "TMB_cast_individuals.loc[born_after_death[born_after_death].index, \"birth_year\"] = TMB_cast_individuals.loc[identical_birth_death_dates[identical_birth_death_dates].index, \"birth_year\"]-100\n",
    "\n",
    "\n",
    "\n",
    "TMB_cast_individuals.loc[577610,[\"birth_day\",\"birth_month\",\"birth_year\"]] = [16 ,12,1862] # John Fox Jr. Born: 16/12/1862\n",
    "TMB_cast_individuals.loc[588737,[\"birth_day\",\"birth_month\",\"birth_year\"]] = [14 ,7 ,1881] # Olga Preobrazhenskaya Born: 24/7/1881\n",
    "TMB_cast_individuals.loc[1043398,[\"birth_day\",\"birth_month\",\"birth_year\"]] = [1 ,9 ,1877] # Jeanne Marie-Laurent\t Born: 1/9/1877\n",
    "\n",
    "TMB_cast_individuals.loc[1362100,[\"death_day\",\"death_month\",\"death_year\"]] = [3,8,1988] # Frans Andersson Died: 3 August 1988, Denmark\n"
   ]
  },
  {
   "cell_type": "code",
   "execution_count": 315,
   "metadata": {},
   "outputs": [],
   "source": [
    "TMB_cast_individuals.loc[590428,[\"birth_day\",\"birth_month\",\"birth_year\",\"death_day\",\"death_month\",\"death_year\"]]\\\n",
    "    =[21,9,1937, 24,1,2013]\n",
    "# Born: 21 September 1937, Rio de Janeiro, State of Rio de Janeiro, Brazil\n",
    "# Died: 24 January 2013, Rio de Janeiro, State of Rio de Janeiro, Brazil\n",
    "\n",
    "TMB_cast_individuals.loc[936052,[\"birth_day\",\"birth_month\",\"birth_year\"]]\\\n",
    "    =[11,5,1937]\n",
    "# Born: 11 May 1937 (age 82 years), Moscow, Russia\n",
    "\n",
    "TMB_cast_individuals.loc[1176976,[\"birth_day\",\"birth_month\",\"birth_year\"]]\\\n",
    "    =[12,1,1935]\n",
    "# Born: 12 January 1935 (age 84 years)\n",
    "\n",
    "TMB_cast_individuals.loc[1196086,[\"birth_day\",\"birth_month\",\"birth_year\",\"death_day\",\"death_month\",\"death_year\"]]\\\n",
    "    =[22,6,1942, 10,8,2000]\n",
    "# Born: 22 June 1942, Chernogorsk, Russia\n",
    "# Died: 10 August 2000, Sofia, Bulgaria\n",
    "\n",
    "TMB_cast_individuals.loc[1587808,[\"birth_day\",\"birth_month\",\"birth_year\"]]\\\n",
    "    =[4,4,1982]\n",
    "# Born: 4 April 1982 (age 37 years), Bogotá, Colombia\n",
    "\n",
    "TMB_cast_individuals.loc[2076119,[\"birth_day\",\"birth_month\",\"birth_year\"]]\\\n",
    "    =[24,9,1980]\n",
    "# Born: 24 September 1980 (age 38 years), Stotfold\n",
    "\n",
    "TMB_cast_individuals.loc[2294474,[\"birth_day\",\"birth_month\",\"birth_year\"]]\\\n",
    "    =[14,4,1976]\n",
    "# Born: 14 April 1976 (age 43 years)"
   ]
  },
  {
   "cell_type": "code",
   "execution_count": 316,
   "metadata": {},
   "outputs": [],
   "source": [
    "TMB_cast_individuals.loc[35819,[\"birth_day\",\"birth_month\",\"birth_year\",\"death_day\",\"death_month\",\"death_year\"]]\\\n",
    "    =[14,8,1957, np.nan,np.nan,np.nan]\n",
    "# Born: 14 August 1957 (age 61 years), Kanigiri, India\n",
    "\n",
    "TMB_cast_individuals.loc[41119,[\"birth_day\",\"birth_month\",\"birth_year\",\"death_day\",\"death_month\",\"death_year\"]]\\\n",
    "    =[3,3,1933, 15,2,2004]\n",
    "# Born: 3 March 1933, Ravenna, Italy\n",
    "# Died: 15 February 2004, Rome, Italy\n",
    "\n",
    "TMB_cast_individuals.loc[133246,[\"birth_day\",\"birth_month\",\"birth_year\",\"death_day\",\"death_month\",\"death_year\"]]\\\n",
    "    =[3,7,1914, 27,3,1992]\n",
    "# Born: 3 July 1914, London\n",
    "# Died: 27 March 1992, London\n",
    "\n",
    "\n",
    "TMB_cast_individuals.loc[545801,[\"birth_day\",\"birth_month\",\"birth_year\",\"death_day\",\"death_month\",\"death_year\"]]\\\n",
    "    =[8,3,1922, 1,6,2003]\n",
    "TMB_cast_individuals.loc[545801,\"gender\"] = 2\n",
    "# Born\tYevgeny Semyonovich Matveyev 8 March 1922\n",
    "# Novoukrainka, Kherson Oblast, Ukrainian SSR Died\t1 June 2003 (aged 81)\n",
    "\n",
    "TMB_cast_individuals.loc[1039088,[\"birth_day\",\"birth_month\",\"birth_year\",\"death_day\",\"death_month\",\"death_year\"]]\\\n",
    "    =[26,7,1920, 25,3,1983]\n",
    "# born on July 26, 1920 in Elmira, New York, USA\n",
    "# died on March 25, 1983 \n",
    "\n",
    "TMB_cast_individuals.loc[1188293,[\"birth_day\",\"birth_month\",\"birth_year\",\"death_day\",\"death_month\",\"death_year\"]]\\\n",
    "    =[12,5,1911, 22,2,1933]\n",
    "TMB_cast_individuals.loc[1188293,\"gender\"] = 1\n",
    "# Ilse Korseck\tBorn: 12 May 1911, Wrocław, Poland\n",
    "# Ilse Korseck\tDied: 22 February 1933, Potsdam, Germany\n",
    "\n",
    "TMB_cast_individuals.loc[5034,\"gender\"] = 1\n",
    "# 5034\t0\tBrigitte Borchert\n",
    "\n",
    "TMB_cast_individuals.loc[1310218,[\"birth_day\",\"birth_month\",\"birth_year\"]]\\\n",
    "    =[22,5,1979]\n",
    "# Born: 22 May 1979, Chamonix, France"
   ]
  },
  {
   "cell_type": "code",
   "execution_count": 320,
   "metadata": {},
   "outputs": [],
   "source": [
    "TMB_cast_individuals.loc[233169,[\"birth_day\",\"birth_month\",\"birth_year\",\"death_day\",\"death_month\",\"death_year\"]]\\\n",
    "    =[1,1,1962, np.nan,np.nan,np.nan]\n",
    "# Kürşat Alnıaçık\n",
    "# Born: January 1, 1962 \n",
    "\n",
    "TMB_cast_individuals.loc[237763,[\"birth_day\",\"birth_month\",\"birth_year\",\"death_day\",\"death_month\",\"death_year\"]]\\\n",
    "    =[23,10,1899, 13,3,1964]\n",
    "# Robert Arnoux\n",
    "# Born: October 23, 1899, Lille, France\n",
    "# Died: March 13, 1964, 16th arrondissement of Paris, Paris, France\n",
    "\n",
    "TMB_cast_individuals.loc[572505,[\"birth_day\",\"birth_month\",\"birth_year\",\"death_day\",\"death_month\",\"death_year\"]]\\\n",
    "    =[25,7,1936, np.nan,np.nan,1993]\n",
    "TMB_cast_individuals.loc[572505,\"gender\"] = 2\n",
    "# Aleksandr Fadeyev (Actor)\n",
    "# Born: July 25, 1936\n",
    "# Died: 1993, Russia\n",
    "\n",
    "TMB_cast_individuals.loc[1455826,[\"birth_day\",\"birth_month\",\"birth_year\",\"death_day\",\"death_month\",\"death_year\"]]\\\n",
    "    =[28,4,1941, 10,6,2015]\n",
    "TMB_cast_individuals.loc[1455826,\"gender\"] = 2\n",
    "# Georgy Drozd\n",
    "# Born: May 28, 1941, Kyiv, Ukraine\n",
    "# Died: June 10, 2015, Kyiv, Ukraine\n",
    "\n",
    "TMB_cast_individuals.loc[1729583,[\"birth_day\",\"birth_month\",\"birth_year\",\"death_day\",\"death_month\",\"death_year\"]]\\\n",
    "    =[np.nan,np.nan,1857, 20,4,1917]\n",
    "# George D. Melville (Actor)\n",
    "# Born: 1857, Valparaíso, Chile\n",
    "# Died: May 20, 1917, Jersey City, New Jersey, United States\n",
    "\n",
    "TMB_cast_individuals.loc[1820938,[\"birth_day\",\"birth_month\",\"birth_year\",\"death_day\",\"death_month\",\"death_year\"]]\\\n",
    "    =[7,2,1897, np.nan,np.nan,1975]\n",
    "# Anastasia Filippova (Film actor)\n",
    "# Born: February 7, 1897\n",
    "# Died: 1975"
   ]
  },
  {
   "cell_type": "code",
   "execution_count": 324,
   "metadata": {},
   "outputs": [],
   "source": [
    "## copied across from crew notifications\n",
    "\n",
    "TMB_cast_individuals.loc[125440,[\"birth_day\",\"birth_month\",\"birth_year\"]]\\\n",
    "    =[23,4,1971]\n",
    "# Ferenc Török\tBorn: 23 April 1971 (age 48 years), Budapest, Hungary\n",
    "\n",
    "TMB_cast_individuals.loc[1631599,[\"birth_day\",\"birth_month\",\"birth_year\"]]\\\n",
    "    =[15,8,1975]\n",
    "# Andrea Ajemian\tBorn: 15 August 1975\n",
    "\n",
    "TMB_cast_individuals.loc[2020037,[\"birth_day\",\"birth_month\",\"birth_year\",\"death_day\",\"death_month\",\"death_year\"]]\\\n",
    "    =[np.nan,np.nan,1974, 28,7,2015]\n",
    "# Shawn Robinson\tBorn\t1974\n",
    "#                   Died\tJuly 28, 2015\n",
    "\n",
    "TMB_cast_individuals.loc[68113,[\"birth_day\",\"birth_month\",\"birth_year\"]]\\\n",
    "    =[19,2,1952]\n",
    "# Ryû Murakami\t\t19 February 1952\n",
    "\n",
    "TMB_cast_individuals.loc[88355,[\"birth_day\",\"birth_month\",\"birth_year\"]]\\\n",
    "    =[6,3,1980]\n",
    "TMB_cast_individuals.loc[88355,\"gender\"] = 2\n",
    "# Michael Schøt\t\tBorn: 6 March 1980\n",
    "\n",
    "TMB_cast_individuals.loc[147653,[\"birth_day\",\"birth_month\",\"birth_year\"]]\\\n",
    "    =[7,2,1969]\n",
    "TMB_cast_individuals.loc[147653,\"gender\"] = 2\n",
    "# Jeff Kosloski\t\tBorn: 7 February 1969\n",
    "\n",
    "TMB_cast_individuals.loc[1143488,[\"birth_day\",\"birth_month\",\"birth_year\",\"death_day\",\"death_month\",\"death_year\"]]\\\n",
    "    =[np.nan,np.nan,np.nan, 8,3,2009]\n",
    "# 1143488\t2.0\tGengon Nakaoka\t Died: 8 March 2009,\n",
    "\n",
    "TMB_cast_individuals.loc[2338015,[\"death_day\",\"death_month\",\"death_year\"]] = [24,4,1852]\n",
    "# 2338015\t2.0\tVasily Zhukovsky\n",
    "\n",
    "TMB_cast_individuals.loc[1379089,\"gender\"] = 1\n",
    "# 1379089\t0.0\tFrederica Sagor\t\n",
    "\n",
    "TMB_cast_individuals.loc[2342007,[\"death_day\",\"death_month\",\"death_year\"]] = [3,1,1911]\n",
    "# 2342007\t2.0\tAlexandros Papadiamantis\n",
    "\n",
    "TMB_cast_individuals.loc[233200,[\"birth_day\",\"birth_month\",\"birth_year\"]]\\\n",
    "    =[10,10,1906]\n",
    "# Fei Mu\n",
    "# Born: 10 October 1906, Shanghai, China\n",
    "# Died: 31 January 1951, British Hong Kong\n"
   ]
  },
  {
   "cell_type": "code",
   "execution_count": 340,
   "metadata": {},
   "outputs": [],
   "source": [
    "TMB_cast_individuals.loc[1401,[\"birth_day\",\"birth_month\",\"birth_year\",\"death_day\",\"death_month\",\"death_year\"]]\\\n",
    "    =[18,4,1940, 22,2,2012]\n",
    "TMB_cast_individuals.loc[572505,\"gender\"] = 1\n",
    "# Elżbieta Kurkowska\n",
    "# Born: April 18, 1940, Warsaw, Poland\n",
    "# Died: February 22, 2012, Warsaw, Poland\n",
    "# Nominations: Polish Academy Award for Best Editing\n",
    "\n",
    "TMB_cast_individuals.loc[1335446,[\"birth_day\",\"birth_month\",\"birth_year\",\"death_day\",\"death_month\",\"death_year\"]]\\\n",
    "    =[17,4,1882, np.nan,np.nan,1961]\n",
    "# Thea Červenková\n",
    "# Born: May 17, 1882, Prague, Czechia\n",
    "# Died: 1961, São Paulo, State of São Paulo, Brazil\n",
    "\n",
    "TMB_cast_individuals.loc[1624520,[\"birth_day\",\"birth_month\",\"birth_year\",\"death_day\",\"death_month\",\"death_year\"]]\\\n",
    "    =[21,9,1911, np.nan,np.nan,1990]\n",
    "# Dmitri Flyangolts\t\n",
    "# Born: September 21, 1911\n",
    "# Died: 1990 (age 78)\n",
    "\n",
    "TMB_cast_individuals.loc[1624520,[\"birth_day\",\"birth_month\",\"birth_year\",\"death_day\",\"death_month\",\"death_year\"]]\\\n",
    "    =[np.nan,np.nan,1890, 28,7,1964]\n",
    "# Dimitris Bogris\n",
    "# Born: 1890, Salamis Island, Greece\n",
    "# Died: July 28, 1964, Athens, Greece"
   ]
  },
  {
   "cell_type": "code",
   "execution_count": 317,
   "metadata": {},
   "outputs": [],
   "source": [
    "# id = 932424, Joshu ???\n",
    "# id = 2064818, Zackary Behm ???\n",
    "# id = 2178935, Miles Stephens ???\n",
    "# 1465889\t2\tKoko ??? I think Koko is a dog!\n",
    "# 1550538\t0\tSPK ??? Surgical Penis Klinik?\n",
    "# 1650158\t1\tNellie\t/xZ51tobwIxoNqAaldt71l25uqEP.jpg Nellie the dog!\n",
    "# 2182724\t2\tBart the Bear\t/cpioZQgfeZ78AhHN9ii6U2T1ftj.jpg literally a bear!\n",
    "# 1135598\t0\tRin-Tin-Tin\t/o8NXfyipzug9W9m8Efv5OPNwUP7.jpg\t dog!\n",
    "# 1179846\t0\tTerry\t/essS3wClkUyA8LL1IoOrlawn96P.jpg -> dog!\n",
    "# 1935487\t2\tExcellent\t/hBnxXu3tYeIRTGtgmjXgIqu599A.jpg\t"
   ]
  },
  {
   "cell_type": "code",
   "execution_count": 318,
   "metadata": {},
   "outputs": [
    {
     "data": {
      "text/html": [
       "<div>\n",
       "<style scoped>\n",
       "    .dataframe tbody tr th:only-of-type {\n",
       "        vertical-align: middle;\n",
       "    }\n",
       "\n",
       "    .dataframe tbody tr th {\n",
       "        vertical-align: top;\n",
       "    }\n",
       "\n",
       "    .dataframe thead th {\n",
       "        text-align: right;\n",
       "    }\n",
       "</style>\n",
       "<table border=\"1\" class=\"dataframe\">\n",
       "  <thead>\n",
       "    <tr style=\"text-align: right;\">\n",
       "      <th></th>\n",
       "      <th>gender</th>\n",
       "      <th>name</th>\n",
       "      <th>profile_path</th>\n",
       "      <th>birth_day</th>\n",
       "      <th>birth_month</th>\n",
       "      <th>birth_year</th>\n",
       "      <th>death_day</th>\n",
       "      <th>death_month</th>\n",
       "      <th>death_year</th>\n",
       "    </tr>\n",
       "    <tr>\n",
       "      <th>id</th>\n",
       "      <th></th>\n",
       "      <th></th>\n",
       "      <th></th>\n",
       "      <th></th>\n",
       "      <th></th>\n",
       "      <th></th>\n",
       "      <th></th>\n",
       "      <th></th>\n",
       "      <th></th>\n",
       "    </tr>\n",
       "  </thead>\n",
       "  <tbody>\n",
       "    <tr>\n",
       "      <th>223503</th>\n",
       "      <td>2</td>\n",
       "      <td>The Clash</td>\n",
       "      <td>/yHplm1M0l2Ubb0tIPtzdUbDIA2h.jpg</td>\n",
       "      <td>4.0</td>\n",
       "      <td>7.0</td>\n",
       "      <td>1976.0</td>\n",
       "      <td>NaN</td>\n",
       "      <td>NaN</td>\n",
       "      <td>1985.0</td>\n",
       "    </tr>\n",
       "    <tr>\n",
       "      <th>233169</th>\n",
       "      <td>2</td>\n",
       "      <td>Kürşat Alnıaçık</td>\n",
       "      <td>/zMX3x8UezpfrZT8L1KAdTVIflmA.jpg</td>\n",
       "      <td>NaN</td>\n",
       "      <td>NaN</td>\n",
       "      <td>1962.0</td>\n",
       "      <td>NaN</td>\n",
       "      <td>NaN</td>\n",
       "      <td>NaN</td>\n",
       "    </tr>\n",
       "    <tr>\n",
       "      <th>237763</th>\n",
       "      <td>2</td>\n",
       "      <td>Robert Arnoux</td>\n",
       "      <td>/8hBONmjpWkhdL1sUytSOjsQe4os.jpg</td>\n",
       "      <td>NaN</td>\n",
       "      <td>NaN</td>\n",
       "      <td>NaN</td>\n",
       "      <td>NaN</td>\n",
       "      <td>NaN</td>\n",
       "      <td>1964.0</td>\n",
       "    </tr>\n",
       "    <tr>\n",
       "      <th>572505</th>\n",
       "      <td>0</td>\n",
       "      <td>Aleksandr Fadeyev</td>\n",
       "      <td>/cM6KgSSIcm9s1YGK9CNe1EU9xu5.jpg</td>\n",
       "      <td>25.0</td>\n",
       "      <td>7.0</td>\n",
       "      <td>NaN</td>\n",
       "      <td>NaN</td>\n",
       "      <td>NaN</td>\n",
       "      <td>1933.0</td>\n",
       "    </tr>\n",
       "    <tr>\n",
       "      <th>1284980</th>\n",
       "      <td>1</td>\n",
       "      <td>Alice Sommer-Herz</td>\n",
       "      <td>NaN</td>\n",
       "      <td>26.0</td>\n",
       "      <td>11.0</td>\n",
       "      <td>1903.0</td>\n",
       "      <td>23.0</td>\n",
       "      <td>2.0</td>\n",
       "      <td>2014.0</td>\n",
       "    </tr>\n",
       "    <tr>\n",
       "      <th>1455826</th>\n",
       "      <td>0</td>\n",
       "      <td>Georgy Drozd</td>\n",
       "      <td>NaN</td>\n",
       "      <td>NaN</td>\n",
       "      <td>NaN</td>\n",
       "      <td>NaN</td>\n",
       "      <td>3.0</td>\n",
       "      <td>1.0</td>\n",
       "      <td>1900.0</td>\n",
       "    </tr>\n",
       "    <tr>\n",
       "      <th>1465889</th>\n",
       "      <td>2</td>\n",
       "      <td>Koko</td>\n",
       "      <td>NaN</td>\n",
       "      <td>9.0</td>\n",
       "      <td>4.0</td>\n",
       "      <td>2005.0</td>\n",
       "      <td>18.0</td>\n",
       "      <td>12.0</td>\n",
       "      <td>2012.0</td>\n",
       "    </tr>\n",
       "    <tr>\n",
       "      <th>1650158</th>\n",
       "      <td>1</td>\n",
       "      <td>Nellie</td>\n",
       "      <td>/xZ51tobwIxoNqAaldt71l25uqEP.jpg</td>\n",
       "      <td>20.0</td>\n",
       "      <td>5.0</td>\n",
       "      <td>2008.0</td>\n",
       "      <td>20.0</td>\n",
       "      <td>3.0</td>\n",
       "      <td>2016.0</td>\n",
       "    </tr>\n",
       "    <tr>\n",
       "      <th>1729583</th>\n",
       "      <td>2</td>\n",
       "      <td>George D. Melville</td>\n",
       "      <td>NaN</td>\n",
       "      <td>NaN</td>\n",
       "      <td>NaN</td>\n",
       "      <td>NaN</td>\n",
       "      <td>20.0</td>\n",
       "      <td>5.0</td>\n",
       "      <td>1917.0</td>\n",
       "    </tr>\n",
       "    <tr>\n",
       "      <th>1820938</th>\n",
       "      <td>1</td>\n",
       "      <td>Anastasia Filippova</td>\n",
       "      <td>NaN</td>\n",
       "      <td>7.0</td>\n",
       "      <td>2.0</td>\n",
       "      <td>NaN</td>\n",
       "      <td>NaN</td>\n",
       "      <td>NaN</td>\n",
       "      <td>1975.0</td>\n",
       "    </tr>\n",
       "    <tr>\n",
       "      <th>2182724</th>\n",
       "      <td>2</td>\n",
       "      <td>Bart the Bear</td>\n",
       "      <td>/cpioZQgfeZ78AhHN9ii6U2T1ftj.jpg</td>\n",
       "      <td>10.0</td>\n",
       "      <td>1.0</td>\n",
       "      <td>1997.0</td>\n",
       "      <td>10.0</td>\n",
       "      <td>5.0</td>\n",
       "      <td>2000.0</td>\n",
       "    </tr>\n",
       "  </tbody>\n",
       "</table>\n",
       "</div>"
      ],
      "text/plain": [
       "         gender                 name                      profile_path  \\\n",
       "id                                                                       \n",
       "223503        2            The Clash  /yHplm1M0l2Ubb0tIPtzdUbDIA2h.jpg   \n",
       "233169        2      Kürşat Alnıaçık  /zMX3x8UezpfrZT8L1KAdTVIflmA.jpg   \n",
       "237763        2        Robert Arnoux  /8hBONmjpWkhdL1sUytSOjsQe4os.jpg   \n",
       "572505        0    Aleksandr Fadeyev  /cM6KgSSIcm9s1YGK9CNe1EU9xu5.jpg   \n",
       "1284980       1    Alice Sommer-Herz                               NaN   \n",
       "1455826       0         Georgy Drozd                               NaN   \n",
       "1465889       2                 Koko                               NaN   \n",
       "1650158       1               Nellie  /xZ51tobwIxoNqAaldt71l25uqEP.jpg   \n",
       "1729583       2   George D. Melville                               NaN   \n",
       "1820938       1  Anastasia Filippova                               NaN   \n",
       "2182724       2        Bart the Bear  /cpioZQgfeZ78AhHN9ii6U2T1ftj.jpg   \n",
       "\n",
       "         birth_day  birth_month  birth_year  death_day  death_month  \\\n",
       "id                                                                    \n",
       "223503         4.0          7.0      1976.0        NaN          NaN   \n",
       "233169         NaN          NaN      1962.0        NaN          NaN   \n",
       "237763         NaN          NaN         NaN        NaN          NaN   \n",
       "572505        25.0          7.0         NaN        NaN          NaN   \n",
       "1284980       26.0         11.0      1903.0       23.0          2.0   \n",
       "1455826        NaN          NaN         NaN        3.0          1.0   \n",
       "1465889        9.0          4.0      2005.0       18.0         12.0   \n",
       "1650158       20.0          5.0      2008.0       20.0          3.0   \n",
       "1729583        NaN          NaN         NaN       20.0          5.0   \n",
       "1820938        7.0          2.0         NaN        NaN          NaN   \n",
       "2182724       10.0          1.0      1997.0       10.0          5.0   \n",
       "\n",
       "         death_year  \n",
       "id                   \n",
       "223503       1985.0  \n",
       "233169          NaN  \n",
       "237763       1964.0  \n",
       "572505       1933.0  \n",
       "1284980      2014.0  \n",
       "1455826      1900.0  \n",
       "1465889      2012.0  \n",
       "1650158      2016.0  \n",
       "1729583      1917.0  \n",
       "1820938      1975.0  \n",
       "2182724      2000.0  "
      ]
     },
     "execution_count": 318,
     "metadata": {},
     "output_type": "execute_result"
    }
   ],
   "source": [
    "TMB_cast_individuals.loc[ life_spans[(life_spans>110)|(life_spans<10)].index ][[\"gender\",\"name\",\"profile_path\",\"birth_day\",\"birth_month\",\"birth_year\",\"death_day\",\"death_month\",\"death_year\"]]"
   ]
  },
  {
   "cell_type": "code",
   "execution_count": 319,
   "metadata": {},
   "outputs": [
    {
     "data": {
      "text/html": [
       "<div>\n",
       "<style scoped>\n",
       "    .dataframe tbody tr th:only-of-type {\n",
       "        vertical-align: middle;\n",
       "    }\n",
       "\n",
       "    .dataframe tbody tr th {\n",
       "        vertical-align: top;\n",
       "    }\n",
       "\n",
       "    .dataframe thead th {\n",
       "        text-align: right;\n",
       "    }\n",
       "</style>\n",
       "<table border=\"1\" class=\"dataframe\">\n",
       "  <thead>\n",
       "    <tr style=\"text-align: right;\">\n",
       "      <th></th>\n",
       "      <th>gender</th>\n",
       "      <th>name</th>\n",
       "      <th>profile_path</th>\n",
       "      <th>birth_day</th>\n",
       "      <th>birth_month</th>\n",
       "      <th>birth_year</th>\n",
       "      <th>death_day</th>\n",
       "      <th>death_month</th>\n",
       "      <th>death_year</th>\n",
       "    </tr>\n",
       "    <tr>\n",
       "      <th>id</th>\n",
       "      <th></th>\n",
       "      <th></th>\n",
       "      <th></th>\n",
       "      <th></th>\n",
       "      <th></th>\n",
       "      <th></th>\n",
       "      <th></th>\n",
       "      <th></th>\n",
       "      <th></th>\n",
       "    </tr>\n",
       "  </thead>\n",
       "  <tbody>\n",
       "    <tr>\n",
       "      <th>932424</th>\n",
       "      <td>2</td>\n",
       "      <td>Joshu</td>\n",
       "      <td>NaN</td>\n",
       "      <td>18.0</td>\n",
       "      <td>9.0</td>\n",
       "      <td>2018.0</td>\n",
       "      <td>NaN</td>\n",
       "      <td>NaN</td>\n",
       "      <td>NaN</td>\n",
       "    </tr>\n",
       "    <tr>\n",
       "      <th>1463206</th>\n",
       "      <td>0</td>\n",
       "      <td>Jody Quigley</td>\n",
       "      <td>/dgjYO7aHdHdVM0OSkDnNdieNUTj.jpg</td>\n",
       "      <td>21.0</td>\n",
       "      <td>6.0</td>\n",
       "      <td>2015.0</td>\n",
       "      <td>NaN</td>\n",
       "      <td>NaN</td>\n",
       "      <td>NaN</td>\n",
       "    </tr>\n",
       "    <tr>\n",
       "      <th>2064818</th>\n",
       "      <td>2</td>\n",
       "      <td>Zackary Behm</td>\n",
       "      <td>NaN</td>\n",
       "      <td>30.0</td>\n",
       "      <td>11.0</td>\n",
       "      <td>2018.0</td>\n",
       "      <td>NaN</td>\n",
       "      <td>NaN</td>\n",
       "      <td>NaN</td>\n",
       "    </tr>\n",
       "    <tr>\n",
       "      <th>2112217</th>\n",
       "      <td>1</td>\n",
       "      <td>Scarlett Lindsey</td>\n",
       "      <td>NaN</td>\n",
       "      <td>12.0</td>\n",
       "      <td>7.0</td>\n",
       "      <td>2016.0</td>\n",
       "      <td>NaN</td>\n",
       "      <td>NaN</td>\n",
       "      <td>NaN</td>\n",
       "    </tr>\n",
       "    <tr>\n",
       "      <th>2124469</th>\n",
       "      <td>2</td>\n",
       "      <td>Kaelan Kelly</td>\n",
       "      <td>NaN</td>\n",
       "      <td>25.0</td>\n",
       "      <td>11.0</td>\n",
       "      <td>2017.0</td>\n",
       "      <td>NaN</td>\n",
       "      <td>NaN</td>\n",
       "      <td>NaN</td>\n",
       "    </tr>\n",
       "    <tr>\n",
       "      <th>2178934</th>\n",
       "      <td>1</td>\n",
       "      <td>Luna Stephens</td>\n",
       "      <td>NaN</td>\n",
       "      <td>14.0</td>\n",
       "      <td>4.0</td>\n",
       "      <td>2016.0</td>\n",
       "      <td>NaN</td>\n",
       "      <td>NaN</td>\n",
       "      <td>NaN</td>\n",
       "    </tr>\n",
       "    <tr>\n",
       "      <th>2178935</th>\n",
       "      <td>2</td>\n",
       "      <td>Miles Stephens</td>\n",
       "      <td>NaN</td>\n",
       "      <td>17.0</td>\n",
       "      <td>5.0</td>\n",
       "      <td>2018.0</td>\n",
       "      <td>NaN</td>\n",
       "      <td>NaN</td>\n",
       "      <td>NaN</td>\n",
       "    </tr>\n",
       "    <tr>\n",
       "      <th>2216138</th>\n",
       "      <td>1</td>\n",
       "      <td>Daniel Getmanskaya</td>\n",
       "      <td>/eSFsgybV6ZYxaeSvpY9kbW8oK6v.jpg</td>\n",
       "      <td>9.0</td>\n",
       "      <td>1.0</td>\n",
       "      <td>2015.0</td>\n",
       "      <td>NaN</td>\n",
       "      <td>NaN</td>\n",
       "      <td>NaN</td>\n",
       "    </tr>\n",
       "    <tr>\n",
       "      <th>2347508</th>\n",
       "      <td>1</td>\n",
       "      <td>Princess Charlotte of Cambridge</td>\n",
       "      <td>NaN</td>\n",
       "      <td>2.0</td>\n",
       "      <td>5.0</td>\n",
       "      <td>2015.0</td>\n",
       "      <td>NaN</td>\n",
       "      <td>NaN</td>\n",
       "      <td>NaN</td>\n",
       "    </tr>\n",
       "  </tbody>\n",
       "</table>\n",
       "</div>"
      ],
      "text/plain": [
       "         gender                             name  \\\n",
       "id                                                 \n",
       "932424        2                            Joshu   \n",
       "1463206       0                     Jody Quigley   \n",
       "2064818       2                     Zackary Behm   \n",
       "2112217       1                 Scarlett Lindsey   \n",
       "2124469       2                     Kaelan Kelly   \n",
       "2178934       1                    Luna Stephens   \n",
       "2178935       2                   Miles Stephens   \n",
       "2216138       1               Daniel Getmanskaya   \n",
       "2347508       1  Princess Charlotte of Cambridge   \n",
       "\n",
       "                             profile_path  birth_day  birth_month  birth_year  \\\n",
       "id                                                                              \n",
       "932424                                NaN       18.0          9.0      2018.0   \n",
       "1463206  /dgjYO7aHdHdVM0OSkDnNdieNUTj.jpg       21.0          6.0      2015.0   \n",
       "2064818                               NaN       30.0         11.0      2018.0   \n",
       "2112217                               NaN       12.0          7.0      2016.0   \n",
       "2124469                               NaN       25.0         11.0      2017.0   \n",
       "2178934                               NaN       14.0          4.0      2016.0   \n",
       "2178935                               NaN       17.0          5.0      2018.0   \n",
       "2216138  /eSFsgybV6ZYxaeSvpY9kbW8oK6v.jpg        9.0          1.0      2015.0   \n",
       "2347508                               NaN        2.0          5.0      2015.0   \n",
       "\n",
       "         death_day  death_month  death_year  \n",
       "id                                           \n",
       "932424         NaN          NaN         NaN  \n",
       "1463206        NaN          NaN         NaN  \n",
       "2064818        NaN          NaN         NaN  \n",
       "2112217        NaN          NaN         NaN  \n",
       "2124469        NaN          NaN         NaN  \n",
       "2178934        NaN          NaN         NaN  \n",
       "2178935        NaN          NaN         NaN  \n",
       "2216138        NaN          NaN         NaN  \n",
       "2347508        NaN          NaN         NaN  "
      ]
     },
     "execution_count": 319,
     "metadata": {},
     "output_type": "execute_result"
    }
   ],
   "source": [
    "## hmm quite a few errors\n",
    "TMB_cast_individuals.loc[ birth_yrs_rel_1900[birth_yrs_rel_1900>115].index ][[\"gender\",\"name\",\"profile_path\",\"birth_day\",\"birth_month\",\"birth_year\",\"death_day\",\"death_month\",\"death_year\"]]\n"
   ]
  },
  {
   "cell_type": "code",
   "execution_count": 251,
   "metadata": {},
   "outputs": [],
   "source": [
    "# TMB_cast_individuals.columns"
   ]
  },
  {
   "cell_type": "code",
   "execution_count": 252,
   "metadata": {},
   "outputs": [],
   "source": [
    "# TMB_cast_individuals.head(10)"
   ]
  },
  {
   "cell_type": "code",
   "execution_count": 344,
   "metadata": {},
   "outputs": [],
   "source": [
    "TMB_cast_individuals[\"birth_yrs_rel_1900\"] = birth_yrs_rel_1900\n",
    "TMB_cast_individuals[\"death_yrs_rel_1900\"] = death_yrs_rel_1900\n",
    "TMB_cast_individuals[\"life_span\"] = life_spans\n",
    "TMB_cast_individuals.to_msgpack(tmdb_dir + \"TMB_cast_individuals.msgpack\")"
   ]
  },
  {
   "cell_type": "code",
   "execution_count": null,
   "metadata": {},
   "outputs": [],
   "source": [
    "#########################################################"
   ]
  },
  {
   "cell_type": "code",
   "execution_count": 345,
   "metadata": {},
   "outputs": [],
   "source": [
    "birth_df = TMB_crew_individuals[[\"birth_year\",\"birth_month\",\"birth_day\"]].copy()\n",
    "birth_df.columns = [\"year\",\"month\",\"day\"]\n",
    "birth_df[\"month\"] = birth_df[\"month\"].fillna(7)\n",
    "birth_df[\"day\"] = birth_df[\"day\"].fillna(2)\n",
    "birth_df = birth_df.dropna().astype('int')\n",
    "birth_dates = pd.to_datetime(birth_df,errors='coerce')\n",
    "birth_dates = birth_dates.dropna()\n",
    "# dropping dates out of the range 1677-2062 # https://pandas.pydata.org/pandas-docs/stable/user_guide/timeseries.html#timeseries-timestamp-limits\n",
    "del birth_df\n",
    "\n",
    "death_df = TMB_crew_individuals[[\"death_year\",\"death_month\",\"death_day\"]].copy()\n",
    "death_df.columns = [\"year\",\"month\",\"day\"]\n",
    "death_df[\"month\"] = death_df[\"month\"].fillna(7)\n",
    "death_df[\"day\"] = death_df[\"day\"].fillna(2)\n",
    "death_df = death_df.dropna().astype('int')\n",
    "death_dates = pd.to_datetime(death_df,errors='coerce').dropna()\n",
    "# dropping dates out of the range 1677-2062 # https://pandas.pydata.org/pandas-docs/stable/user_guide/timeseries.html#timeseries-timestamp-limits\n",
    "del death_df\n",
    "\n",
    "from dateutil.relativedelta import relativedelta\n",
    "\n",
    "def yrs_rel_1900(date):\n",
    "    ref_date = datetime.datetime(1900,1,1,0,0,0,0)\n",
    "    difference = relativedelta(date, ref_date)\n",
    "    return difference.years + (difference.months/12) + (difference.days/365.25)\n",
    "\n",
    "birth_yrs_rel_1900 = birth_dates.apply(lambda x: yrs_rel_1900(x))\n",
    "death_yrs_rel_1900 = death_dates.apply(lambda x: yrs_rel_1900(x))\n",
    "life_spans = death_yrs_rel_1900 - birth_yrs_rel_1900"
   ]
  },
  {
   "cell_type": "code",
   "execution_count": 346,
   "metadata": {},
   "outputs": [
    {
     "data": {
      "text/plain": [
       "(13637, 10.0, 116.41666666666667)"
      ]
     },
     "execution_count": 346,
     "metadata": {},
     "output_type": "execute_result"
    }
   ],
   "source": [
    "life_spans.notnull().sum(), life_spans.min(), life_spans.max()"
   ]
  },
  {
   "cell_type": "code",
   "execution_count": 347,
   "metadata": {},
   "outputs": [
    {
     "data": {
      "image/png": "[encoded data removed]",
      "text/plain": [
       "<Figure size 432x288 with 1 Axes>"
      ]
     },
     "metadata": {
      "needs_background": "light"
     },
     "output_type": "display_data"
    }
   ],
   "source": [
    "life_spans.hist(bins=100); ## looks reasonable!"
   ]
  },
  {
   "cell_type": "code",
   "execution_count": 348,
   "metadata": {},
   "outputs": [],
   "source": [
    "TMB_crew_individuals.loc[1707,[\"death_day\",\"death_month\",\"death_year\"]] = [np.nan,np.nan,np.nan] # Stuart Beattie not dead!\n",
    "TMB_crew_individuals.loc[28729,[\"birth_day\",\"birth_month\",\"birth_year\"]] = [30,6 ,1951] # André Hazes=s born 30 June 1951\n",
    "TMB_crew_individuals.loc[28729,\"gender\"] = 2\n",
    "TMB_crew_individuals.loc[29589,[\"birth_day\",\"birth_month\",\"birth_year\"]] = [20,4 ,1868] # Sheldon Lewis (April 20, 1868 - May 7, 1958)\n",
    "TMB_crew_individuals.loc[29589,\"gender\"] = 2\n",
    "TMB_crew_individuals.loc[37136,[\"birth_day\",\"birth_month\",\"birth_year\"]] = [1 ,4 ,1882] # Julienne Paroli est une actrice française née le 1er avril 1882\n",
    "TMB_crew_individuals.loc[29589,\"gender\"] = 1\n",
    "TMB_crew_individuals.loc[37537,[\"death_day\",\"death_month\",\"death_year\"]] = [np.nan,np.nan,np.nan] # Dorit Gabler not dead\n",
    "TMB_crew_individuals.loc[55703,[\"death_day\",\"death_month\",\"death_year\"]] = [27,2,2012] # Wallace Earl death date wrong\n",
    "TMB_crew_individuals.loc[69545,[\"death_day\",\"death_month\",\"death_year\"]] = [np.nan,np.nan,np.nan] # Manu Katché not dead!\n",
    "TMB_crew_individuals.loc[132193,[\"birth_day\",\"birth_month\",\"birth_year\"]] = [21 ,2 ,1911] # Pietro de Vico Born: 21 February 1911\n",
    "TMB_crew_individuals.loc[143818,[\"birth_day\",\"birth_month\",\"birth_year\"]] = [14 ,9 ,1904] # Flora Bramley Born: 14/9/1904\n",
    "TMB_crew_individuals.loc[153738,[\"birth_day\",\"birth_month\",\"birth_year\"]] = [21 ,4 ,1882] # \"True Boardman\" Born: 21/4/1882\n",
    "\n",
    "TMB_crew_individuals.loc[233717,[\"death_day\",\"death_month\",\"death_year\"]] = [np.nan,np.nan,np.nan] # Márta Mészáros not dead!\n",
    "\n",
    "# solves 14!\n",
    "# identical birth/death dates => accidentially copying birth date into death date\n",
    "# so far, manual inspection has had *all* of these be erroneous death dates added to people who are alive\n",
    "identical_birth_death_dates = (birth_dates[birth_dates.notnull()&death_dates.notnull()]==death_dates[birth_dates.notnull()&death_dates.notnull()])\n",
    "identical_birth_death_dates[identical_birth_death_dates].index\n",
    "TMB_crew_individuals.loc[identical_birth_death_dates[identical_birth_death_dates].index, [\"death_day\",\"death_month\",\"death_year\"]] = [np.nan,np.nan,np.nan]\n",
    "\n",
    "# birth date after death date => one century too late in birth date\n",
    "born_after_death = (birth_dates[birth_dates.notnull()&death_dates.notnull()]>death_dates[birth_dates.notnull()&death_dates.notnull()])\n",
    "TMB_crew_individuals.loc[born_after_death[born_after_death].index, \"birth_year\"] = TMB_crew_individuals.loc[identical_birth_death_dates[identical_birth_death_dates].index, \"birth_year\"]-100\n",
    "\n",
    "\n",
    "\n",
    "TMB_crew_individuals.loc[577610,[\"birth_day\",\"birth_month\",\"birth_year\"]] = [16 ,12,1862] # John Fox Jr. Born: 16/12/1862\n",
    "TMB_crew_individuals.loc[588737,[\"birth_day\",\"birth_month\",\"birth_year\"]] = [14 ,7 ,1881] # Olga Preobrazhenskaya Born: 24/7/1881\n",
    "TMB_crew_individuals.loc[1043398,[\"birth_day\",\"birth_month\",\"birth_year\"]] = [1 ,9 ,1877] # Jeanne Marie-Laurent\t Born: 1/9/1877\n",
    "\n",
    "TMB_crew_individuals.loc[1362100,[\"death_day\",\"death_month\",\"death_year\"]] = [3,8,1988] # Frans Andersson Died: 3 August 1988, Denmark\n",
    "\n",
    "\n",
    "TMB_crew_individuals.loc[590428,[\"birth_day\",\"birth_month\",\"birth_year\",\"death_day\",\"death_month\",\"death_year\"]]\\\n",
    "    =[21,9,1937, 24,1,2013]\n",
    "# Born: 21 September 1937, Rio de Janeiro, State of Rio de Janeiro, Brazil\n",
    "# Died: 24 January 2013, Rio de Janeiro, State of Rio de Janeiro, Brazil\n",
    "\n",
    "TMB_crew_individuals.loc[936052,[\"birth_day\",\"birth_month\",\"birth_year\"]]\\\n",
    "    =[11,5,1937]\n",
    "# Born: 11 May 1937 (age 82 years), Moscow, Russia\n",
    "\n",
    "TMB_crew_individuals.loc[1176976,[\"birth_day\",\"birth_month\",\"birth_year\"]]\\\n",
    "    =[12,1,1935]\n",
    "# Born: 12 January 1935 (age 84 years)\n",
    "\n",
    "TMB_crew_individuals.loc[1196086,[\"birth_day\",\"birth_month\",\"birth_year\",\"death_day\",\"death_month\",\"death_year\"]]\\\n",
    "    =[22,6,1942, 10,8,2000]\n",
    "# Born: 22 June 1942, Chernogorsk, Russia\n",
    "# Died: 10 August 2000, Sofia, Bulgaria\n",
    "\n",
    "TMB_crew_individuals.loc[1587808,[\"birth_day\",\"birth_month\",\"birth_year\"]]\\\n",
    "    =[4,4,1982]\n",
    "# Born: 4 April 1982 (age 37 years), Bogotá, Colombia\n",
    "\n",
    "TMB_crew_individuals.loc[2076119,[\"birth_day\",\"birth_month\",\"birth_year\"]]\\\n",
    "    =[24,9,1980]\n",
    "# Born: 24 September 1980 (age 38 years), Stotfold\n",
    "\n",
    "TMB_crew_individuals.loc[2294474,[\"birth_day\",\"birth_month\",\"birth_year\"]]\\\n",
    "    =[14,4,1976]\n",
    "# Born: 14 April 1976 (age 43 years)\n",
    "\n",
    "\n",
    "\n",
    "TMB_crew_individuals.loc[35819,[\"birth_day\",\"birth_month\",\"birth_year\",\"death_day\",\"death_month\",\"death_year\"]]\\\n",
    "    =[14,8,1957, np.nan,np.nan,np.nan]\n",
    "# Born: 14 August 1957 (age 61 years), Kanigiri, India\n",
    "\n",
    "TMB_crew_individuals.loc[41119,[\"birth_day\",\"birth_month\",\"birth_year\",\"death_day\",\"death_month\",\"death_year\"]]\\\n",
    "    =[3,3,1933, 15,2,2004]\n",
    "# Born: 3 March 1933, Ravenna, Italy\n",
    "# Died: 15 February 2004, Rome, Italy\n",
    "\n",
    "TMB_crew_individuals.loc[133246,[\"birth_day\",\"birth_month\",\"birth_year\",\"death_day\",\"death_month\",\"death_year\"]]\\\n",
    "    =[3,7,1914, 27,3,1992]\n",
    "# Born: 3 July 1914, London\n",
    "# Died: 27 March 1992, London\n",
    "\n",
    "\n",
    "TMB_crew_individuals.loc[545801,[\"birth_day\",\"birth_month\",\"birth_year\",\"death_day\",\"death_month\",\"death_year\"]]\\\n",
    "    =[8,3,1922, 1,6,2003]\n",
    "TMB_crew_individuals.loc[545801,\"gender\"] = 2\n",
    "# Born\tYevgeny Semyonovich Matveyev 8 March 1922\n",
    "# Novoukrainka, Kherson Oblast, Ukrainian SSR Died\t1 June 2003 (aged 81)\n",
    "\n",
    "TMB_crew_individuals.loc[1039088,[\"birth_day\",\"birth_month\",\"birth_year\",\"death_day\",\"death_month\",\"death_year\"]]\\\n",
    "    =[26,7,1920, 25,3,1983]\n",
    "# born on July 26, 1920 in Elmira, New York, USA\n",
    "# died on March 25, 1983 \n",
    "\n",
    "TMB_crew_individuals.loc[1188293,[\"birth_day\",\"birth_month\",\"birth_year\",\"death_day\",\"death_month\",\"death_year\"]]\\\n",
    "    =[12,5,1911, 22,2,1933]\n",
    "TMB_crew_individuals.loc[1188293,\"gender\"] = 1\n",
    "# Ilse Korseck\tBorn: 12 May 1911, Wrocław, Poland\n",
    "# Ilse Korseck\tDied: 22 February 1933, Potsdam, Germany\n",
    "\n",
    "TMB_crew_individuals.loc[5034,\"gender\"] = 1\n",
    "# 5034\t0\tBrigitte Borchert\n",
    "\n",
    "TMB_crew_individuals.loc[1310218,[\"birth_day\",\"birth_month\",\"birth_year\"]]\\\n",
    "    =[22,5,1979]\n",
    "# Born: 22 May 1979, Chamonix, France\n"
   ]
  },
  {
   "cell_type": "code",
   "execution_count": 333,
   "metadata": {},
   "outputs": [],
   "source": [
    "TMB_crew_individuals.loc[125440,[\"birth_day\",\"birth_month\",\"birth_year\"]]\\\n",
    "    =[23,4,1971]\n",
    "# Ferenc Török\tBorn: 23 April 1971 (age 48 years), Budapest, Hungary\n",
    "\n",
    "TMB_crew_individuals.loc[1631599,[\"birth_day\",\"birth_month\",\"birth_year\"]]\\\n",
    "    =[15,8,1975]\n",
    "# Andrea Ajemian\tBorn: 15 August 1975\n",
    "\n",
    "TMB_crew_individuals.loc[2020037,[\"birth_day\",\"birth_month\",\"birth_year\",\"death_day\",\"death_month\",\"death_year\"]]\\\n",
    "    =[np.nan,np.nan,1974, 28,7,2015]\n",
    "# Shawn Robinson\tBorn\t1974\n",
    "#                   Died\tJuly 28, 2015\n",
    "\n",
    "TMB_crew_individuals.loc[68113,[\"birth_day\",\"birth_month\",\"birth_year\"]]\\\n",
    "    =[19,2,1952]\n",
    "# Ryû Murakami\t\t19 February 1952\n",
    "\n",
    "TMB_crew_individuals.loc[88355,[\"birth_day\",\"birth_month\",\"birth_year\"]]\\\n",
    "    =[6,3,1980]\n",
    "TMB_crew_individuals.loc[88355,\"gender\"] = 2\n",
    "# Michael Schøt\t\tBorn: 6 March 1980\n",
    "\n",
    "TMB_crew_individuals.loc[147653,[\"birth_day\",\"birth_month\",\"birth_year\"]]\\\n",
    "    =[7,2,1969]\n",
    "TMB_crew_individuals.loc[147653,\"gender\"] = 2\n",
    "# Jeff Kosloski\t\tBorn: 7 February 1969\n",
    "\n",
    "TMB_crew_individuals.loc[1143488,[\"birth_day\",\"birth_month\",\"birth_year\",\"death_day\",\"death_month\",\"death_year\"]]\\\n",
    "    =[np.nan,np.nan,np.nan, 8,3,2009]\n",
    "# 1143488\t2.0\tGengon Nakaoka\t Died: 8 March 2009,\n",
    "\n",
    "TMB_crew_individuals.loc[2338015,[\"death_day\",\"death_month\",\"death_year\"]] = [24,4,1852]\n",
    "# 2338015\t2.0\tVasily Zhukovsky\n",
    "\n",
    "TMB_crew_individuals.loc[1379089,\"gender\"] = 1\n",
    "# 1379089\t0.0\tFrederica Sagor\t\n",
    "\n",
    "TMB_crew_individuals.loc[2342007,[\"death_day\",\"death_month\",\"death_year\"]] = [3,1,1911]\n",
    "# 2342007\t2.0\tAlexandros Papadiamantis\n",
    "\n",
    "TMB_crew_individuals.loc[233200,[\"birth_day\",\"birth_month\",\"birth_year\"]]\\\n",
    "    =[10,10,1906]\n",
    "# Fei Mu\n",
    "# Born: 10 October 1906, Shanghai, China\n",
    "# Died: 31 January 1951, British Hong Kong\n"
   ]
  },
  {
   "cell_type": "code",
   "execution_count": 334,
   "metadata": {},
   "outputs": [],
   "source": [
    "# copied from cast section\n",
    "\n",
    "TMB_crew_individuals.loc[233169,[\"birth_day\",\"birth_month\",\"birth_year\",\"death_day\",\"death_month\",\"death_year\"]]\\\n",
    "    =[1,1,1962, np.nan,np.nan,np.nan]\n",
    "# Kürşat Alnıaçık\n",
    "# Born: January 1, 1962 \n",
    "\n",
    "TMB_crew_individuals.loc[237763,[\"birth_day\",\"birth_month\",\"birth_year\",\"death_day\",\"death_month\",\"death_year\"]]\\\n",
    "    =[23,10,1899, 13,3,1964]\n",
    "# Robert Arnoux\n",
    "# Born: October 23, 1899, Lille, France\n",
    "# Died: March 13, 1964, 16th arrondissement of Paris, Paris, France\n",
    "\n",
    "TMB_crew_individuals.loc[572505,[\"birth_day\",\"birth_month\",\"birth_year\",\"death_day\",\"death_month\",\"death_year\"]]\\\n",
    "    =[25,7,1936, np.nan,np.nan,1993]\n",
    "TMB_crew_individuals.loc[572505,\"gender\"] = 2\n",
    "# Aleksandr Fadeyev (Actor)\n",
    "# Born: July 25, 1936\n",
    "# Died: 1993, Russia\n",
    "\n",
    "TMB_crew_individuals.loc[1455826,[\"birth_day\",\"birth_month\",\"birth_year\",\"death_day\",\"death_month\",\"death_year\"]]\\\n",
    "    =[28,4,1941, 10,6,2015]\n",
    "TMB_crew_individuals.loc[1455826,\"gender\"] = 2\n",
    "# Georgy Drozd\n",
    "# Born: May 28, 1941, Kyiv, Ukraine\n",
    "# Died: June 10, 2015, Kyiv, Ukraine\n",
    "\n",
    "TMB_crew_individuals.loc[1729583,[\"birth_day\",\"birth_month\",\"birth_year\",\"death_day\",\"death_month\",\"death_year\"]]\\\n",
    "    =[np.nan,np.nan,1857, 20,4,1917]\n",
    "# George D. Melville (Actor)\n",
    "# Born: 1857, Valparaíso, Chile\n",
    "# Died: May 20, 1917, Jersey City, New Jersey, United States\n",
    "\n",
    "TMB_crew_individuals.loc[1820938,[\"birth_day\",\"birth_month\",\"birth_year\",\"death_day\",\"death_month\",\"death_year\"]]\\\n",
    "    =[7,2,1897, np.nan,np.nan,1975]\n",
    "# Anastasia Filippova (Film actor)\n",
    "# Born: February 7, 1897\n",
    "# Died: 1975"
   ]
  },
  {
   "cell_type": "code",
   "execution_count": 339,
   "metadata": {},
   "outputs": [],
   "source": [
    "TMB_crew_individuals.loc[1401,[\"birth_day\",\"birth_month\",\"birth_year\",\"death_day\",\"death_month\",\"death_year\"]]\\\n",
    "    =[18,4,1940, 22,2,2012]\n",
    "TMB_crew_individuals.loc[572505,\"gender\"] = 1\n",
    "# Elżbieta Kurkowska\n",
    "# Born: April 18, 1940, Warsaw, Poland\n",
    "# Died: February 22, 2012, Warsaw, Poland\n",
    "# Nominations: Polish Academy Award for Best Editing\n",
    "\n",
    "TMB_crew_individuals.loc[1335446,[\"birth_day\",\"birth_month\",\"birth_year\",\"death_day\",\"death_month\",\"death_year\"]]\\\n",
    "    =[17,4,1882, np.nan,np.nan,1961]\n",
    "# Thea Červenková\n",
    "# Born: May 17, 1882, Prague, Czechia\n",
    "# Died: 1961, São Paulo, State of São Paulo, Brazil\n",
    "\n",
    "TMB_crew_individuals.loc[1624520,[\"birth_day\",\"birth_month\",\"birth_year\",\"death_day\",\"death_month\",\"death_year\"]]\\\n",
    "    =[21,9,1911, np.nan,np.nan,1990]\n",
    "# Dmitri Flyangolts\t\n",
    "# Born: September 21, 1911\n",
    "# Died: 1990 (age 78)\n",
    "\n",
    "TMB_crew_individuals.loc[1624520,[\"birth_day\",\"birth_month\",\"birth_year\",\"death_day\",\"death_month\",\"death_year\"]]\\\n",
    "    =[np.nan,np.nan,1890, 28,7,1964]\n",
    "# Dimitris Bogris\n",
    "# Born: 1890, Salamis Island, Greece\n",
    "# Died: July 28, 1964, Athens, Greece"
   ]
  },
  {
   "cell_type": "code",
   "execution_count": 337,
   "metadata": {},
   "outputs": [
    {
     "data": {
      "text/html": [
       "<div>\n",
       "<style scoped>\n",
       "    .dataframe tbody tr th:only-of-type {\n",
       "        vertical-align: middle;\n",
       "    }\n",
       "\n",
       "    .dataframe tbody tr th {\n",
       "        vertical-align: top;\n",
       "    }\n",
       "\n",
       "    .dataframe thead th {\n",
       "        text-align: right;\n",
       "    }\n",
       "</style>\n",
       "<table border=\"1\" class=\"dataframe\">\n",
       "  <thead>\n",
       "    <tr style=\"text-align: right;\">\n",
       "      <th></th>\n",
       "      <th>gender</th>\n",
       "      <th>name</th>\n",
       "      <th>profile_path</th>\n",
       "      <th>birth_day</th>\n",
       "      <th>birth_month</th>\n",
       "      <th>birth_year</th>\n",
       "      <th>death_day</th>\n",
       "      <th>death_month</th>\n",
       "      <th>death_year</th>\n",
       "    </tr>\n",
       "    <tr>\n",
       "      <th>id</th>\n",
       "      <th></th>\n",
       "      <th></th>\n",
       "      <th></th>\n",
       "      <th></th>\n",
       "      <th></th>\n",
       "      <th></th>\n",
       "      <th></th>\n",
       "      <th></th>\n",
       "      <th></th>\n",
       "    </tr>\n",
       "  </thead>\n",
       "  <tbody>\n",
       "    <tr>\n",
       "      <th>1401</th>\n",
       "      <td>0.0</td>\n",
       "      <td>Elżbieta Kurkowska</td>\n",
       "      <td>NaN</td>\n",
       "      <td>NaN</td>\n",
       "      <td>NaN</td>\n",
       "      <td>NaN</td>\n",
       "      <td>22.0</td>\n",
       "      <td>2.0</td>\n",
       "      <td>1912.0</td>\n",
       "    </tr>\n",
       "    <tr>\n",
       "      <th>1043960</th>\n",
       "      <td>2.0</td>\n",
       "      <td>Dean McKendrick</td>\n",
       "      <td>NaN</td>\n",
       "      <td>6.0</td>\n",
       "      <td>12.0</td>\n",
       "      <td>1901.0</td>\n",
       "      <td>6.0</td>\n",
       "      <td>5.0</td>\n",
       "      <td>2018.0</td>\n",
       "    </tr>\n",
       "    <tr>\n",
       "      <th>1335446</th>\n",
       "      <td>1.0</td>\n",
       "      <td>Thea Červenková</td>\n",
       "      <td>NaN</td>\n",
       "      <td>17.0</td>\n",
       "      <td>5.0</td>\n",
       "      <td>NaN</td>\n",
       "      <td>NaN</td>\n",
       "      <td>NaN</td>\n",
       "      <td>1961.0</td>\n",
       "    </tr>\n",
       "    <tr>\n",
       "      <th>1379089</th>\n",
       "      <td>1.0</td>\n",
       "      <td>Frederica Sagor</td>\n",
       "      <td>NaN</td>\n",
       "      <td>6.0</td>\n",
       "      <td>7.0</td>\n",
       "      <td>1900.0</td>\n",
       "      <td>5.0</td>\n",
       "      <td>1.0</td>\n",
       "      <td>2012.0</td>\n",
       "    </tr>\n",
       "    <tr>\n",
       "      <th>1550538</th>\n",
       "      <td>0.0</td>\n",
       "      <td>SPK</td>\n",
       "      <td>/h5oa4V6PJtXK3SM1NtoGgnGhDR8.jpg</td>\n",
       "      <td>1.0</td>\n",
       "      <td>4.0</td>\n",
       "      <td>1978.0</td>\n",
       "      <td>1.0</td>\n",
       "      <td>4.0</td>\n",
       "      <td>1988.0</td>\n",
       "    </tr>\n",
       "    <tr>\n",
       "      <th>1624520</th>\n",
       "      <td>2.0</td>\n",
       "      <td>Dmitri Flyangolts</td>\n",
       "      <td>NaN</td>\n",
       "      <td>21.0</td>\n",
       "      <td>9.0</td>\n",
       "      <td>1977.0</td>\n",
       "      <td>NaN</td>\n",
       "      <td>NaN</td>\n",
       "      <td>1990.0</td>\n",
       "    </tr>\n",
       "    <tr>\n",
       "      <th>1635433</th>\n",
       "      <td>2.0</td>\n",
       "      <td>Dimitris Bogris</td>\n",
       "      <td>NaN</td>\n",
       "      <td>NaN</td>\n",
       "      <td>NaN</td>\n",
       "      <td>NaN</td>\n",
       "      <td>28.0</td>\n",
       "      <td>7.0</td>\n",
       "      <td>1964.0</td>\n",
       "    </tr>\n",
       "    <tr>\n",
       "      <th>1976453</th>\n",
       "      <td>2.0</td>\n",
       "      <td>Bessi Þór Sigurðarson</td>\n",
       "      <td>NaN</td>\n",
       "      <td>30.0</td>\n",
       "      <td>11.0</td>\n",
       "      <td>1998.0</td>\n",
       "      <td>16.0</td>\n",
       "      <td>7.0</td>\n",
       "      <td>2011.0</td>\n",
       "    </tr>\n",
       "  </tbody>\n",
       "</table>\n",
       "</div>"
      ],
      "text/plain": [
       "         gender                   name                      profile_path  \\\n",
       "id                                                                         \n",
       "1401        0.0     Elżbieta Kurkowska                               NaN   \n",
       "1043960     2.0        Dean McKendrick                               NaN   \n",
       "1335446     1.0        Thea Červenková                               NaN   \n",
       "1379089     1.0        Frederica Sagor                               NaN   \n",
       "1550538     0.0                    SPK  /h5oa4V6PJtXK3SM1NtoGgnGhDR8.jpg   \n",
       "1624520     2.0      Dmitri Flyangolts                               NaN   \n",
       "1635433     2.0        Dimitris Bogris                               NaN   \n",
       "1976453     2.0  Bessi Þór Sigurðarson                               NaN   \n",
       "\n",
       "         birth_day  birth_month  birth_year  death_day  death_month  \\\n",
       "id                                                                    \n",
       "1401           NaN          NaN         NaN       22.0          2.0   \n",
       "1043960        6.0         12.0      1901.0        6.0          5.0   \n",
       "1335446       17.0          5.0         NaN        NaN          NaN   \n",
       "1379089        6.0          7.0      1900.0        5.0          1.0   \n",
       "1550538        1.0          4.0      1978.0        1.0          4.0   \n",
       "1624520       21.0          9.0      1977.0        NaN          NaN   \n",
       "1635433        NaN          NaN         NaN       28.0          7.0   \n",
       "1976453       30.0         11.0      1998.0       16.0          7.0   \n",
       "\n",
       "         death_year  \n",
       "id                   \n",
       "1401         1912.0  \n",
       "1043960      2018.0  \n",
       "1335446      1961.0  \n",
       "1379089      2012.0  \n",
       "1550538      1988.0  \n",
       "1624520      1990.0  \n",
       "1635433      1964.0  \n",
       "1976453      2011.0  "
      ]
     },
     "execution_count": 337,
     "metadata": {},
     "output_type": "execute_result"
    }
   ],
   "source": [
    "TMB_crew_individuals.loc[ life_spans[(life_spans<15)|(life_spans>110)].index ][[\"gender\",\"name\",\"profile_path\",\"birth_day\",\"birth_month\",\"birth_year\",\"death_day\",\"death_month\",\"death_year\"]]"
   ]
  },
  {
   "cell_type": "code",
   "execution_count": 338,
   "metadata": {},
   "outputs": [
    {
     "data": {
      "text/html": [
       "<div>\n",
       "<style scoped>\n",
       "    .dataframe tbody tr th:only-of-type {\n",
       "        vertical-align: middle;\n",
       "    }\n",
       "\n",
       "    .dataframe tbody tr th {\n",
       "        vertical-align: top;\n",
       "    }\n",
       "\n",
       "    .dataframe thead th {\n",
       "        text-align: right;\n",
       "    }\n",
       "</style>\n",
       "<table border=\"1\" class=\"dataframe\">\n",
       "  <thead>\n",
       "    <tr style=\"text-align: right;\">\n",
       "      <th></th>\n",
       "      <th>gender</th>\n",
       "      <th>name</th>\n",
       "      <th>profile_path</th>\n",
       "      <th>birth_day</th>\n",
       "      <th>birth_month</th>\n",
       "      <th>birth_year</th>\n",
       "      <th>death_day</th>\n",
       "      <th>death_month</th>\n",
       "      <th>death_year</th>\n",
       "    </tr>\n",
       "    <tr>\n",
       "      <th>id</th>\n",
       "      <th></th>\n",
       "      <th></th>\n",
       "      <th></th>\n",
       "      <th></th>\n",
       "      <th></th>\n",
       "      <th></th>\n",
       "      <th></th>\n",
       "      <th></th>\n",
       "      <th></th>\n",
       "    </tr>\n",
       "  </thead>\n",
       "  <tbody>\n",
       "    <tr>\n",
       "      <th>229254</th>\n",
       "      <td>2.0</td>\n",
       "      <td>Ruy Polanah</td>\n",
       "      <td>/kTZMGkLRTS7Y1PqpIh7wU3yEu4Y.jpg</td>\n",
       "      <td>3.0</td>\n",
       "      <td>9.0</td>\n",
       "      <td>2008.0</td>\n",
       "      <td>NaN</td>\n",
       "      <td>NaN</td>\n",
       "      <td>NaN</td>\n",
       "    </tr>\n",
       "    <tr>\n",
       "      <th>240250</th>\n",
       "      <td>0.0</td>\n",
       "      <td>Jurgen Deleye</td>\n",
       "      <td>/wuF1JslHQK2PAHx3Qy4g05B9POS.jpg</td>\n",
       "      <td>18.0</td>\n",
       "      <td>8.0</td>\n",
       "      <td>2011.0</td>\n",
       "      <td>NaN</td>\n",
       "      <td>NaN</td>\n",
       "      <td>NaN</td>\n",
       "    </tr>\n",
       "    <tr>\n",
       "      <th>1335071</th>\n",
       "      <td>0.0</td>\n",
       "      <td>Jesus G. Duran</td>\n",
       "      <td>NaN</td>\n",
       "      <td>7.0</td>\n",
       "      <td>1.0</td>\n",
       "      <td>2010.0</td>\n",
       "      <td>NaN</td>\n",
       "      <td>NaN</td>\n",
       "      <td>NaN</td>\n",
       "    </tr>\n",
       "    <tr>\n",
       "      <th>1578048</th>\n",
       "      <td>0.0</td>\n",
       "      <td>Calibro 35</td>\n",
       "      <td>NaN</td>\n",
       "      <td>NaN</td>\n",
       "      <td>NaN</td>\n",
       "      <td>2007.0</td>\n",
       "      <td>NaN</td>\n",
       "      <td>NaN</td>\n",
       "      <td>NaN</td>\n",
       "    </tr>\n",
       "    <tr>\n",
       "      <th>1634010</th>\n",
       "      <td>2.0</td>\n",
       "      <td>Julian Grey</td>\n",
       "      <td>/gW2NSfgrmJuxjAdjK0n2Son6fz1.jpg</td>\n",
       "      <td>1.0</td>\n",
       "      <td>3.0</td>\n",
       "      <td>2006.0</td>\n",
       "      <td>NaN</td>\n",
       "      <td>NaN</td>\n",
       "      <td>NaN</td>\n",
       "    </tr>\n",
       "    <tr>\n",
       "      <th>1704640</th>\n",
       "      <td>1.0</td>\n",
       "      <td>Brooklynn Prince</td>\n",
       "      <td>/47fAcFO1YZfjEGvhLps2a2HlNJ2.jpg</td>\n",
       "      <td>NaN</td>\n",
       "      <td>NaN</td>\n",
       "      <td>2010.0</td>\n",
       "      <td>NaN</td>\n",
       "      <td>NaN</td>\n",
       "      <td>NaN</td>\n",
       "    </tr>\n",
       "    <tr>\n",
       "      <th>1965939</th>\n",
       "      <td>2.0</td>\n",
       "      <td>Parker Bates</td>\n",
       "      <td>/lT0jkWLwWIfWJq1gj03QadUGjXE.jpg</td>\n",
       "      <td>1.0</td>\n",
       "      <td>3.0</td>\n",
       "      <td>2007.0</td>\n",
       "      <td>NaN</td>\n",
       "      <td>NaN</td>\n",
       "      <td>NaN</td>\n",
       "    </tr>\n",
       "    <tr>\n",
       "      <th>2009542</th>\n",
       "      <td>1.0</td>\n",
       "      <td>Mariya Lobanova</td>\n",
       "      <td>/oGPBfD5NMzhi6h3m6J32iR6Um6F.jpg</td>\n",
       "      <td>8.0</td>\n",
       "      <td>4.0</td>\n",
       "      <td>2006.0</td>\n",
       "      <td>NaN</td>\n",
       "      <td>NaN</td>\n",
       "      <td>NaN</td>\n",
       "    </tr>\n",
       "    <tr>\n",
       "      <th>2064818</th>\n",
       "      <td>2.0</td>\n",
       "      <td>Zackary Behm</td>\n",
       "      <td>NaN</td>\n",
       "      <td>30.0</td>\n",
       "      <td>11.0</td>\n",
       "      <td>2018.0</td>\n",
       "      <td>NaN</td>\n",
       "      <td>NaN</td>\n",
       "      <td>NaN</td>\n",
       "    </tr>\n",
       "    <tr>\n",
       "      <th>2318944</th>\n",
       "      <td>2.0</td>\n",
       "      <td>Gio Orlando</td>\n",
       "      <td>/14IYECtCvAgfIJRc5J0WucYsFsH.jpg</td>\n",
       "      <td>22.0</td>\n",
       "      <td>3.0</td>\n",
       "      <td>2006.0</td>\n",
       "      <td>NaN</td>\n",
       "      <td>NaN</td>\n",
       "      <td>NaN</td>\n",
       "    </tr>\n",
       "    <tr>\n",
       "      <th>2318945</th>\n",
       "      <td>2.0</td>\n",
       "      <td>Adyn Schroeder</td>\n",
       "      <td>/84MGLVbAdubDXCa7SGnQvR3dW6H.jpg</td>\n",
       "      <td>3.0</td>\n",
       "      <td>6.0</td>\n",
       "      <td>2006.0</td>\n",
       "      <td>NaN</td>\n",
       "      <td>NaN</td>\n",
       "      <td>NaN</td>\n",
       "    </tr>\n",
       "    <tr>\n",
       "      <th>2318947</th>\n",
       "      <td>2.0</td>\n",
       "      <td>Tyler Buscetta</td>\n",
       "      <td>/4NzvXPN22nnxViYQmiy4g6L7GjV.jpg</td>\n",
       "      <td>4.0</td>\n",
       "      <td>4.0</td>\n",
       "      <td>2006.0</td>\n",
       "      <td>NaN</td>\n",
       "      <td>NaN</td>\n",
       "      <td>NaN</td>\n",
       "    </tr>\n",
       "    <tr>\n",
       "      <th>2339925</th>\n",
       "      <td>1.0</td>\n",
       "      <td>Briana Ayers</td>\n",
       "      <td>/p0ZU4I2N7FNjh4lhKHBU8He8LIc.jpg</td>\n",
       "      <td>9.0</td>\n",
       "      <td>10.0</td>\n",
       "      <td>2006.0</td>\n",
       "      <td>NaN</td>\n",
       "      <td>NaN</td>\n",
       "      <td>NaN</td>\n",
       "    </tr>\n",
       "  </tbody>\n",
       "</table>\n",
       "</div>"
      ],
      "text/plain": [
       "         gender              name                      profile_path  \\\n",
       "id                                                                    \n",
       "229254      2.0       Ruy Polanah  /kTZMGkLRTS7Y1PqpIh7wU3yEu4Y.jpg   \n",
       "240250      0.0     Jurgen Deleye  /wuF1JslHQK2PAHx3Qy4g05B9POS.jpg   \n",
       "1335071     0.0    Jesus G. Duran                               NaN   \n",
       "1578048     0.0        Calibro 35                               NaN   \n",
       "1634010     2.0       Julian Grey  /gW2NSfgrmJuxjAdjK0n2Son6fz1.jpg   \n",
       "1704640     1.0  Brooklynn Prince  /47fAcFO1YZfjEGvhLps2a2HlNJ2.jpg   \n",
       "1965939     2.0      Parker Bates  /lT0jkWLwWIfWJq1gj03QadUGjXE.jpg   \n",
       "2009542     1.0   Mariya Lobanova  /oGPBfD5NMzhi6h3m6J32iR6Um6F.jpg   \n",
       "2064818     2.0      Zackary Behm                               NaN   \n",
       "2318944     2.0       Gio Orlando  /14IYECtCvAgfIJRc5J0WucYsFsH.jpg   \n",
       "2318945     2.0    Adyn Schroeder  /84MGLVbAdubDXCa7SGnQvR3dW6H.jpg   \n",
       "2318947     2.0    Tyler Buscetta  /4NzvXPN22nnxViYQmiy4g6L7GjV.jpg   \n",
       "2339925     1.0      Briana Ayers  /p0ZU4I2N7FNjh4lhKHBU8He8LIc.jpg   \n",
       "\n",
       "         birth_day  birth_month  birth_year  death_day  death_month  \\\n",
       "id                                                                    \n",
       "229254         3.0          9.0      2008.0        NaN          NaN   \n",
       "240250        18.0          8.0      2011.0        NaN          NaN   \n",
       "1335071        7.0          1.0      2010.0        NaN          NaN   \n",
       "1578048        NaN          NaN      2007.0        NaN          NaN   \n",
       "1634010        1.0          3.0      2006.0        NaN          NaN   \n",
       "1704640        NaN          NaN      2010.0        NaN          NaN   \n",
       "1965939        1.0          3.0      2007.0        NaN          NaN   \n",
       "2009542        8.0          4.0      2006.0        NaN          NaN   \n",
       "2064818       30.0         11.0      2018.0        NaN          NaN   \n",
       "2318944       22.0          3.0      2006.0        NaN          NaN   \n",
       "2318945        3.0          6.0      2006.0        NaN          NaN   \n",
       "2318947        4.0          4.0      2006.0        NaN          NaN   \n",
       "2339925        9.0         10.0      2006.0        NaN          NaN   \n",
       "\n",
       "         death_year  \n",
       "id                   \n",
       "229254          NaN  \n",
       "240250          NaN  \n",
       "1335071         NaN  \n",
       "1578048         NaN  \n",
       "1634010         NaN  \n",
       "1704640         NaN  \n",
       "1965939         NaN  \n",
       "2009542         NaN  \n",
       "2064818         NaN  \n",
       "2318944         NaN  \n",
       "2318945         NaN  \n",
       "2318947         NaN  \n",
       "2339925         NaN  "
      ]
     },
     "execution_count": 338,
     "metadata": {},
     "output_type": "execute_result"
    }
   ],
   "source": [
    "## hmm quite a few errors\n",
    "TMB_crew_individuals.loc[ birth_yrs_rel_1900[birth_yrs_rel_1900>106].index ][[\"gender\",\"name\",\"profile_path\",\"birth_day\",\"birth_month\",\"birth_year\",\"death_day\",\"death_month\",\"death_year\"]]\n"
   ]
  },
  {
   "cell_type": "code",
   "execution_count": 349,
   "metadata": {},
   "outputs": [],
   "source": [
    "TMB_crew_individuals[\"birth_yrs_rel_1900\"] = birth_yrs_rel_1900\n",
    "TMB_crew_individuals[\"death_yrs_rel_1900\"] = death_yrs_rel_1900\n",
    "TMB_crew_individuals[\"life_span\"] = life_spans\n",
    "TMB_crew_individuals.to_msgpack(tmdb_dir + \"TMB_crew_individuals.msgpack\")"
   ]
  },
  {
   "cell_type": "code",
   "execution_count": null,
   "metadata": {},
   "outputs": [],
   "source": []
  },
  {
   "cell_type": "code",
   "execution_count": null,
   "metadata": {},
   "outputs": [],
   "source": []
  },
  {
   "cell_type": "code",
   "execution_count": null,
   "metadata": {},
   "outputs": [],
   "source": []
  },
  {
   "cell_type": "code",
   "execution_count": null,
   "metadata": {},
   "outputs": [],
   "source": []
  },
  {
   "cell_type": "code",
   "execution_count": null,
   "metadata": {},
   "outputs": [],
   "source": []
  },
  {
   "cell_type": "code",
   "execution_count": null,
   "metadata": {},
   "outputs": [],
   "source": []
  },
  {
   "cell_type": "code",
   "execution_count": null,
   "metadata": {},
   "outputs": [],
   "source": []
  },
  {
   "cell_type": "code",
   "execution_count": 17,
   "metadata": {},
   "outputs": [],
   "source": [
    "secondary_tmdb_dir = \"e:\\\\Datasets\\\\themoviedb\\\\\"\n",
    "cast_crew_aggregates = pd.read_msgpack(secondary_tmdb_dir+\"TMB_cast_crew_aggregates_latest\"+\".msgpack\")"
   ]
  },
  {
   "cell_type": "code",
   "execution_count": null,
   "metadata": {},
   "outputs": [],
   "source": []
  },
  {
   "cell_type": "code",
   "execution_count": 8,
   "metadata": {},
   "outputs": [],
   "source": [
    "age_related_traits = [\"birth_yrs_rel_1900\",\"death_yrs_rel_1900\",\"life_span\"]"
   ]
  },
  {
   "cell_type": "code",
   "execution_count": 9,
   "metadata": {},
   "outputs": [
    {
     "name": "stdout",
     "output_type": "stream",
     "text": [
      "birth_yrs_rel_1900\n",
      "death_yrs_rel_1900\n",
      "life_span\n"
     ]
    }
   ],
   "source": [
    "# ~1-2 mins\n",
    "for trait in age_related_traits:\n",
    "    print(trait)\n",
    "    crew_df[trait] = TMB_crew_individuals.loc[crew_df[\"id\"],trait].values\n",
    "    cast_df[trait] = TMB_cast_individuals.loc[cast_df[\"id\"],trait].values\n",
    "    \n",
    "    "
   ]
  },
  {
   "cell_type": "code",
   "execution_count": 24,
   "metadata": {},
   "outputs": [],
   "source": [
    "trait = \"credit_number\"\n",
    "crew_df[trait] = TMB_crew_individuals.loc[crew_df[\"id\"],trait].values\n",
    "cast_df[trait] = TMB_cast_individuals.loc[cast_df[\"id\"],trait].values"
   ]
  },
  {
   "cell_type": "code",
   "execution_count": 27,
   "metadata": {},
   "outputs": [
    {
     "name": "stdout",
     "output_type": "stream",
     "text": [
      "Wall time: 514 ms\n"
     ]
    }
   ],
   "source": [
    "# %%time\n",
    "# train  = age_related_traits[0]\n",
    "# temp = crew_df[0:100000].groupby(\"tmdb_id\").apply(lambda x: x[trait][x[\"credit_number\"]>1].mean())\n",
    "# temp = crew_df[crew_df[\"credit_number\"]>1].groupby(\"tmdb_id\")[trait].mean()"
   ]
  },
  {
   "cell_type": "code",
   "execution_count": 21,
   "metadata": {},
   "outputs": [
    {
     "data": {
      "text/plain": [
       "(371818,)"
      ]
     },
     "execution_count": 21,
     "metadata": {},
     "output_type": "execute_result"
    }
   ],
   "source": [
    "temp.shape\n",
    "# 100,000 => 3s 5s with filter logic\n",
    "# 2,000,000 => 60s??\n",
    "# faster to filter first"
   ]
  },
  {
   "cell_type": "code",
   "execution_count": 32,
   "metadata": {},
   "outputs": [],
   "source": [
    "# crew_df"
   ]
  },
  {
   "cell_type": "code",
   "execution_count": 29,
   "metadata": {},
   "outputs": [],
   "source": [
    "median_cast_size = 5\n",
    "median_crew_size = 5"
   ]
  },
  {
   "cell_type": "code",
   "execution_count": 30,
   "metadata": {},
   "outputs": [
    {
     "name": "stdout",
     "output_type": "stream",
     "text": [
      "birth_yrs_rel_1900\n",
      "death_yrs_rel_1900\n",
      "life_span\n",
      "Wall time: 8.24 s\n"
     ]
    }
   ],
   "source": [
    "%%time\n",
    "# takes ~3hrs\n",
    "\n",
    "# for trait in crew_only_aggregateable_traits: \n",
    "#     print(trait)\n",
    "#     cast_crew_aggregates[trait+\"_crew\"+\"_mean\"]  = crew_df.groupby(\"tmdb_id\").apply(lambda x: x[trait][x[\"credit_number\"]>1].mean())   \n",
    "#     cast_crew_aggregates[trait+\"_crew\"+\"_lead\"]  = crew_df.groupby(\"tmdb_id\").apply(lambda x: x[trait][(x[\"credit_number\"]>1)&(x[\"order\"]==0)].mean())\n",
    "#     cast_crew_aggregates[trait+\"_crew\"+\"_lead\"+str(median_crew_size)]  = crew_df.groupby(\"tmdb_id\").apply(lambda x: x[trait][(x[\"credit_number\"]>1)&(x[\"order\"]<median_crew_size)].mean())\n",
    "    \n",
    "#     ### new\n",
    "#     cast_crew_aggregates[trait+\"_crew\"+\"_second\"]  = crew_df.groupby(\"tmdb_id\").apply(lambda x: x[trait][x[\"order\"]==1].mean())\n",
    "    \n",
    "# what's the logic here? Why are we restricting (some) to have at least 2 credits?\n",
    "\n",
    "# And why is it so slow!\n",
    "\n",
    "for trait in age_related_traits:\n",
    "    print(trait)\n",
    "    cast_crew_aggregates[trait+\"_crew\"+\"_mean\"]  = crew_df.groupby(\"tmdb_id\")[trait].mean()\n",
    "    cast_crew_aggregates[trait+\"_cast\"+\"_mean\"]  = cast_df.groupby(\"tmdb_id\")[trait].mean()\n",
    "    \n",
    "    cast_crew_aggregates[trait+\"_crew\"+\"_lead\"]  = crew_df[ crew_df[\"order\"]==0 ].groupby(\"tmdb_id\")[trait].mean()\n",
    "    cast_crew_aggregates[trait+\"_cast\"+\"_lead\"]  = cast_df[ cast_df[\"order\"]==0 ].groupby(\"tmdb_id\")[trait].mean()\n",
    "\n",
    "    cast_crew_aggregates[trait+\"_crew\"+\"_lead\"+str(median_crew_size)]  = crew_df[ crew_df[\"order\"]<median_crew_size ].groupby(\"tmdb_id\")[trait].mean()\n",
    "    cast_crew_aggregates[trait+\"_cast\"+\"_lead\"+str(median_cast_size)]  = cast_df[ cast_df[\"order\"]<median_crew_size ].groupby(\"tmdb_id\")[trait].mean()\n",
    "\n",
    "    ### new\n",
    "    cast_crew_aggregates[trait+\"_crew\"+\"_second\"]  = crew_df[crew_df[\"order\"]==1].groupby(\"tmdb_id\")[trait].mean()\n",
    "    cast_crew_aggregates[trait+\"_cast\"+\"_second\"]  = cast_df[cast_df[\"order\"]==1].groupby(\"tmdb_id\")[trait].mean()\n",
    "    "
   ]
  },
  {
   "cell_type": "code",
   "execution_count": 31,
   "metadata": {},
   "outputs": [],
   "source": [
    "# cast_crew_aggregates.isnull().sum()"
   ]
  },
  {
   "cell_type": "code",
   "execution_count": null,
   "metadata": {},
   "outputs": [],
   "source": []
  },
  {
   "cell_type": "code",
   "execution_count": 286,
   "metadata": {},
   "outputs": [],
   "source": [
    "secondary_tmdb_dir = \"e:\\\\Datasets\\\\themoviedb\\\\\"\n",
    "cast_crew_aggregates.to_msgpack(secondary_tmdb_dir+\"TMB_cast_crew_aggregates_addendum1\"+\".msgpack\")"
   ]
  },
  {
   "cell_type": "code",
   "execution_count": 33,
   "metadata": {},
   "outputs": [
    {
     "data": {
      "text/plain": [
       "(371818, 96)"
      ]
     },
     "execution_count": 33,
     "metadata": {},
     "output_type": "execute_result"
    }
   ],
   "source": [
    "cast_crew_aggregates.shape"
   ]
  },
  {
   "cell_type": "code",
   "execution_count": 298,
   "metadata": {},
   "outputs": [],
   "source": [
    "first_part_c_c_agg = pd.read_msgpack(secondary_tmdb_dir+\"TMB_cast_crew_aggregates\"+\".msgpack\")"
   ]
  },
  {
   "cell_type": "code",
   "execution_count": 289,
   "metadata": {},
   "outputs": [
    {
     "data": {
      "text/plain": [
       "((371818, 60), (371818, 60))"
      ]
     },
     "execution_count": 289,
     "metadata": {},
     "output_type": "execute_result"
    }
   ],
   "source": [
    "first_part_c_c_agg.shape, cast_crew_aggregates.shape"
   ]
  },
  {
   "cell_type": "code",
   "execution_count": 301,
   "metadata": {},
   "outputs": [],
   "source": [
    "first_part_c_c_agg[cast_crew_aggregates.columns] = cast_crew_aggregates"
   ]
  },
  {
   "cell_type": "code",
   "execution_count": 296,
   "metadata": {},
   "outputs": [
    {
     "data": {
      "text/plain": [
       "(371818, 96)"
      ]
     },
     "execution_count": 296,
     "metadata": {},
     "output_type": "execute_result"
    }
   ],
   "source": [
    "first_part_c_c_agg.shape"
   ]
  },
  {
   "cell_type": "code",
   "execution_count": 299,
   "metadata": {},
   "outputs": [
    {
     "data": {
      "text/plain": [
       "set()"
      ]
     },
     "execution_count": 299,
     "metadata": {},
     "output_type": "execute_result"
    }
   ],
   "source": [
    "set(first_part_c_c_agg.columns).intersection(set(  cast_crew_aggregates.columns ))"
   ]
  },
  {
   "cell_type": "code",
   "execution_count": 300,
   "metadata": {},
   "outputs": [
    {
     "data": {
      "text/plain": [
       "((371818, 36), (371818, 60))"
      ]
     },
     "execution_count": 300,
     "metadata": {},
     "output_type": "execute_result"
    }
   ],
   "source": [
    "first_part_c_c_agg.shape, cast_crew_aggregates.shape"
   ]
  },
  {
   "cell_type": "code",
   "execution_count": 305,
   "metadata": {},
   "outputs": [
    {
     "data": {
      "text/plain": [
       "gender_guess_integrated_crew_mean     353522\n",
       "gender_guess_integrated_cast_mean     287414\n",
       "gender_guess_integrated_crew_lead     338539\n",
       "gender_guess_integrated_cast_lead     120486\n",
       "gender_guess_integrated_crew_lead5    353154\n",
       "gender_guess_integrated_cast_lead5    286647\n",
       "credit_number_crew_mean               371818\n",
       "credit_number_cast_mean               290774\n",
       "credit_number_crew_lead               371818\n",
       "credit_number_cast_lead               125246\n",
       "credit_number_crew_lead5              371818\n",
       "credit_number_cast_lead5              290408\n",
       "job_number_crew_mean                  340557\n",
       "job_number_crew_lead                  327208\n",
       "job_number_crew_lead5                 340259\n",
       "department_number_crew_mean           340557\n",
       "department_number_crew_lead           327208\n",
       "department_number_crew_lead5          340259\n",
       "mean_order_crew_mean                  340557\n",
       "mean_order_cast_mean                  273974\n",
       "mean_order_crew_lead                  327208\n",
       "mean_order_cast_lead                  115408\n",
       "mean_order_crew_lead5                 340259\n",
       "mean_order_cast_lead5                 271517\n",
       "fractional_mean_order_crew_mean       340557\n",
       "fractional_mean_order_cast_mean       273974\n",
       "fractional_mean_order_crew_lead       327208\n",
       "fractional_mean_order_cast_lead       115408\n",
       "fractional_mean_order_crew_lead5      340259\n",
       "fractional_mean_order_cast_lead5      271517\n",
       "                                       ...  \n",
       "popularity_crew_lead                  327118\n",
       "popularity_cast_lead                  115402\n",
       "popularity_crew_lead5                 340197\n",
       "popularity_cast_lead5                 271498\n",
       "popularity_crew_second                243228\n",
       "popularity_cast_second                280339\n",
       "birth_yrs_rel_1900_crew_mean          176141\n",
       "birth_yrs_rel_1900_cast_mean          236279\n",
       "birth_yrs_rel_1900_crew_lead          135647\n",
       "birth_yrs_rel_1900_cast_lead           95030\n",
       "birth_yrs_rel_1900_crew_lead5         168930\n",
       "birth_yrs_rel_1900_cast_lead5         228272\n",
       "birth_yrs_rel_1900_crew_second         74784\n",
       "birth_yrs_rel_1900_cast_second        175249\n",
       "death_yrs_rel_1900_crew_mean           92333\n",
       "death_yrs_rel_1900_cast_mean          121428\n",
       "death_yrs_rel_1900_crew_lead           68140\n",
       "death_yrs_rel_1900_cast_lead           30138\n",
       "death_yrs_rel_1900_crew_lead5          87136\n",
       "death_yrs_rel_1900_cast_lead5         102047\n",
       "death_yrs_rel_1900_crew_second         36138\n",
       "death_yrs_rel_1900_cast_second         58478\n",
       "life_span_crew_mean                    89431\n",
       "life_span_cast_mean                   119538\n",
       "life_span_crew_lead                    66180\n",
       "life_span_cast_lead                    29860\n",
       "life_span_crew_lead5                   84553\n",
       "life_span_cast_lead5                  100604\n",
       "life_span_crew_second                  34803\n",
       "life_span_cast_second                  57546\n",
       "Length: 96, dtype: int64"
      ]
     },
     "execution_count": 305,
     "metadata": {},
     "output_type": "execute_result"
    }
   ],
   "source": [
    "first_part_c_c_agg.notnull().sum()"
   ]
  },
  {
   "cell_type": "code",
   "execution_count": 303,
   "metadata": {},
   "outputs": [
    {
     "data": {
      "text/plain": [
       "Index(['gender_guess_integrated_crew_mean',\n",
       "       'gender_guess_integrated_cast_mean',\n",
       "       'gender_guess_integrated_crew_lead',\n",
       "       'gender_guess_integrated_cast_lead',\n",
       "       'gender_guess_integrated_crew_lead5',\n",
       "       'gender_guess_integrated_cast_lead5', 'credit_number_crew_mean',\n",
       "       'credit_number_cast_mean', 'credit_number_crew_lead',\n",
       "       'credit_number_cast_lead', 'credit_number_crew_lead5',\n",
       "       'credit_number_cast_lead5', 'job_number_crew_mean',\n",
       "       'job_number_crew_lead', 'job_number_crew_lead5',\n",
       "       'department_number_crew_mean', 'department_number_crew_lead',\n",
       "       'department_number_crew_lead5', 'mean_order_crew_mean',\n",
       "       'mean_order_cast_mean', 'mean_order_crew_lead', 'mean_order_cast_lead',\n",
       "       'mean_order_crew_lead5', 'mean_order_cast_lead5',\n",
       "       'fractional_mean_order_crew_mean', 'fractional_mean_order_cast_mean',\n",
       "       'fractional_mean_order_crew_lead', 'fractional_mean_order_cast_lead',\n",
       "       'fractional_mean_order_crew_lead5', 'fractional_mean_order_cast_lead5',\n",
       "       'importulence_crew_mean', 'importulence_cast_mean',\n",
       "       'importulence_crew_lead', 'importulence_cast_lead',\n",
       "       'importulence_crew_lead5', 'importulence_cast_lead5',\n",
       "       'gender_guess_integrated_crew_second',\n",
       "       'gender_guess_integrated_cast_second', 'credit_number_crew_second',\n",
       "       'credit_number_cast_second', 'job_number_crew_second',\n",
       "       'department_number_crew_second', 'mean_order_crew_second',\n",
       "       'mean_order_cast_second', 'fractional_mean_order_crew_second',\n",
       "       'fractional_mean_order_cast_second', 'importulence_crew_second',\n",
       "       'importulence_cast_second', 'cast_crew_overlap_crew_mean',\n",
       "       'cast_crew_overlap_cast_mean', 'cast_crew_overlap_crew_lead',\n",
       "       'cast_crew_overlap_cast_lead', 'cast_crew_overlap_crew_lead5',\n",
       "       'cast_crew_overlap_cast_lead5', 'cast_crew_overlap_crew_second',\n",
       "       'cast_crew_overlap_cast_second', 'adult_crew_mean', 'adult_cast_mean',\n",
       "       'adult_crew_lead', 'adult_cast_lead', 'adult_crew_lead5',\n",
       "       'adult_cast_lead5', 'adult_crew_second', 'adult_cast_second',\n",
       "       'popularity_crew_mean', 'popularity_cast_mean', 'popularity_crew_lead',\n",
       "       'popularity_cast_lead', 'popularity_crew_lead5',\n",
       "       'popularity_cast_lead5', 'popularity_crew_second',\n",
       "       'popularity_cast_second', 'birth_yrs_rel_1900_crew_mean',\n",
       "       'birth_yrs_rel_1900_cast_mean', 'birth_yrs_rel_1900_crew_lead',\n",
       "       'birth_yrs_rel_1900_cast_lead', 'birth_yrs_rel_1900_crew_lead5',\n",
       "       'birth_yrs_rel_1900_cast_lead5', 'birth_yrs_rel_1900_crew_second',\n",
       "       'birth_yrs_rel_1900_cast_second', 'death_yrs_rel_1900_crew_mean',\n",
       "       'death_yrs_rel_1900_cast_mean', 'death_yrs_rel_1900_crew_lead',\n",
       "       'death_yrs_rel_1900_cast_lead', 'death_yrs_rel_1900_crew_lead5',\n",
       "       'death_yrs_rel_1900_cast_lead5', 'death_yrs_rel_1900_crew_second',\n",
       "       'death_yrs_rel_1900_cast_second', 'life_span_crew_mean',\n",
       "       'life_span_cast_mean', 'life_span_crew_lead', 'life_span_cast_lead',\n",
       "       'life_span_crew_lead5', 'life_span_cast_lead5', 'life_span_crew_second',\n",
       "       'life_span_cast_second'],\n",
       "      dtype='object')"
      ]
     },
     "execution_count": 303,
     "metadata": {},
     "output_type": "execute_result"
    }
   ],
   "source": [
    "first_part_c_c_agg.columns"
   ]
  },
  {
   "cell_type": "code",
   "execution_count": null,
   "metadata": {},
   "outputs": [],
   "source": [
    "# (Numerical Variable)_(cast|crew)_(lead|second|lead5|mean)"
   ]
  },
  {
   "cell_type": "code",
   "execution_count": 310,
   "metadata": {},
   "outputs": [
    {
     "data": {
      "text/plain": [
       "array(['adult', 'birth_yrs_rel_1900', 'cast_crew_overlap',\n",
       "       'credit_number', 'death_yrs_rel_1900', 'department_number',\n",
       "       'fractional_mean_order', 'gender_guess_integrated', 'importulence',\n",
       "       'job_number', 'life_span', 'mean_order', 'popularity'],\n",
       "      dtype='<U23')"
      ]
     },
     "execution_count": 310,
     "metadata": {},
     "output_type": "execute_result"
    }
   ],
   "source": [
    "np.unique( [\"_\".join( x.split(\"_\")[:-2] ) for x in first_part_c_c_agg.columns] )"
   ]
  },
  {
   "cell_type": "code",
   "execution_count": null,
   "metadata": {},
   "outputs": [],
   "source": [
    "# credit_number\n",
    "\n",
    "# gender_guess_integrated\n",
    "\n",
    "# adult\n",
    "# popularity\n",
    "# cast_crew_overlap\n",
    "\n",
    "# mean_order\n",
    "# fractional_mean_order\n",
    "# importulence\n",
    "\n",
    "# birth_yrs_rel_1900\n",
    "# death_yrs_rel_1900\n",
    "# life_span\n",
    "\n",
    "# job_number\n",
    "# department_number"
   ]
  },
  {
   "cell_type": "code",
   "execution_count": null,
   "metadata": {},
   "outputs": [],
   "source": [
    "age_related_traits = [\"birth_yrs_rel_1900\",\"death_yrs_rel_1900\",\"life_span\"]\n",
    "extra_aggregateable_traits = [\"cast_crew_overlap\",\"adult\",\"popularity\"]\n",
    "aggregateable_traits = [\"credit_number\",\"mean_order\",\"fractional_mean_order\",\"importulence\", \"gender_guess_integrated\"]\n",
    "crew_only_aggregateable_traits = [\"job_number\",\"department_number\"]\n",
    "# mean of whole cast/mean of top X/mean! of top bill person\n",
    "# for cast and crew\n",
    "# aggregate by movie\n",
    "\n",
    "# importulence = TMB_crew_individuals[\"credit_number\"]/TMB_crew_individuals[\"mean_order\"]\n",
    "# TMB_crew_individuals.head(10)\n",
    "credit_number_trait = ['credit_number']\n",
    "stableish_traits = ['gender_guess_integrated'] # doesn't filter for credit_numer > 1\n",
    "\n",
    "\n"
   ]
  },
  {
   "cell_type": "code",
   "execution_count": null,
   "metadata": {},
   "outputs": [],
   "source": [
    "tmdb_dir = create_subdir(Dataset_directory, \"themoviedb\")"
   ]
  },
  {
   "cell_type": "code",
   "execution_count": null,
   "metadata": {},
   "outputs": [],
   "source": []
  },
  {
   "cell_type": "code",
   "execution_count": null,
   "metadata": {},
   "outputs": [],
   "source": []
  },
  {
   "cell_type": "code",
   "execution_count": null,
   "metadata": {},
   "outputs": [],
   "source": []
  },
  {
   "cell_type": "code",
   "execution_count": null,
   "metadata": {},
   "outputs": [],
   "source": []
  },
  {
   "cell_type": "code",
   "execution_count": null,
   "metadata": {},
   "outputs": [],
   "source": []
  },
  {
   "cell_type": "code",
   "execution_count": null,
   "metadata": {},
   "outputs": [],
   "source": []
  },
  {
   "cell_type": "code",
   "execution_count": 6,
   "metadata": {},
   "outputs": [],
   "source": [
    "secondary_tmdb_dir = \"e:\\\\Datasets\\\\themoviedb\\\\\"\n",
    "cast_crew_aggregates = pd.read_msgpack(secondary_tmdb_dir+\"TMB_cast_crew_aggregates_latest\"+\".msgpack\")"
   ]
  },
  {
   "cell_type": "code",
   "execution_count": null,
   "metadata": {},
   "outputs": [],
   "source": [
    "## get categorical samples - lead actor *name*, lead male actor *name*, lead female actor *name*\n",
    "\n",
    "# also order (in that film)\n",
    "# also age"
   ]
  },
  {
   "cell_type": "code",
   "execution_count": null,
   "metadata": {},
   "outputs": [],
   "source": []
  },
  {
   "cell_type": "code",
   "execution_count": null,
   "metadata": {},
   "outputs": [],
   "source": [
    "cast_df.groupby(\"tmdb_id\")[trait].mean()"
   ]
  },
  {
   "cell_type": "code",
   "execution_count": 11,
   "metadata": {},
   "outputs": [
    {
     "data": {
      "text/plain": [
       "1.2273170245092773"
      ]
     },
     "execution_count": 11,
     "metadata": {},
     "output_type": "execute_result"
    }
   ],
   "source": [
    "cast_df[ cast_df[\"gender_guess_integrated\"]==0 ].groupby(\"tmdb_id\")[\"order\"].min().mean()"
   ]
  },
  {
   "cell_type": "code",
   "execution_count": 12,
   "metadata": {},
   "outputs": [
    {
     "data": {
      "text/plain": [
       "0.6794192433211648"
      ]
     },
     "execution_count": 12,
     "metadata": {},
     "output_type": "execute_result"
    }
   ],
   "source": [
    "cast_df[ cast_df[\"gender_guess_integrated\"]==1 ].groupby(\"tmdb_id\")[\"order\"].min().mean()"
   ]
  },
  {
   "cell_type": "code",
   "execution_count": 14,
   "metadata": {},
   "outputs": [
    {
     "data": {
      "text/plain": [
       "0.6794192433211648"
      ]
     },
     "execution_count": 14,
     "metadata": {},
     "output_type": "execute_result"
    }
   ],
   "source": [
    "cast_df[ cast_df[\"gender_guess_integrated\"]==1 ].groupby(\"tmdb_id\").first()[\"order\"].mean()"
   ]
  },
  {
   "cell_type": "code",
   "execution_count": 17,
   "metadata": {},
   "outputs": [
    {
     "data": {
      "text/plain": [
       "47.563714562953585"
      ]
     },
     "execution_count": 17,
     "metadata": {},
     "output_type": "execute_result"
    }
   ],
   "source": [
    "cast_df[ cast_df[\"gender_guess_integrated\"]==1 ].groupby(\"tmdb_id\").first()[\"birth_yrs_rel_1900\"].mean()"
   ]
  },
  {
   "cell_type": "code",
   "execution_count": null,
   "metadata": {},
   "outputs": [],
   "source": [
    "# cast_df[ cast_df[\"gender_guess_integrated\"]==0 ].groupby(\"tmdb_id\").first()[\"birth_yrs_rel_1900\"].mean()"
   ]
  },
  {
   "cell_type": "code",
   "execution_count": 19,
   "metadata": {},
   "outputs": [],
   "source": [
    "# trait = \"birth_yrs_rel_1900\"\n",
    "\n",
    "\n",
    "# cast_crew_aggregates[trait+\"_cast\"+\"_leading_man\"]    = cast_df[ cast_df[\"gender_guess_integrated\"]==1 ].groupby(\"tmdb_id\").first()[trait]\n",
    "# cast_crew_aggregates[trait+\"_cast\"+\"_leading_woman\"]  = cast_df[ cast_df[\"gender_guess_integrated\"]==0 ].groupby(\"tmdb_id\").first()[trait]"
   ]
  },
  {
   "cell_type": "code",
   "execution_count": 25,
   "metadata": {},
   "outputs": [
    {
     "name": "stdout",
     "output_type": "stream",
     "text": [
      "life_span\n"
     ]
    }
   ],
   "source": [
    "for trait in [\"life_span\"]:\n",
    "    print(trait)\n",
    "\n",
    "    crew_df[trait] = TMB_crew_individuals.loc[crew_df[\"id\"],trait].values\n",
    "    cast_df[trait] = TMB_cast_individuals.loc[cast_df[\"id\"],trait].values"
   ]
  },
  {
   "cell_type": "code",
   "execution_count": 28,
   "metadata": {},
   "outputs": [
    {
     "name": "stdout",
     "output_type": "stream",
     "text": [
      "order\n",
      "Wall time: 12min 34s\n"
     ]
    }
   ],
   "source": [
    "%%time\n",
    "# 12 mins for one trait??\n",
    "\n",
    "for trait in [\"order\"]:\n",
    "    print(trait)\n",
    "#     crew_df[trait] = TMB_crew_individuals.loc[crew_df[\"id\"],trait].values\n",
    "#     cast_df[trait] = TMB_cast_individuals.loc[cast_df[\"id\"],trait].values\n",
    "\n",
    "#     crew_df[trait] = TMB_crew_individuals.loc[crew_df[\"id\"],trait].values\n",
    "#     cast_df[trait] = TMB_cast_individuals.loc[cast_df[\"id\"],trait].values\n",
    "\n",
    "    cast_crew_aggregates[trait+\"_cast\"+\"_leading_man\"]    = cast_df[ cast_df[\"gender_guess_integrated\"]==1 ].groupby(\"tmdb_id\").first()[trait]\n",
    "    cast_crew_aggregates[trait+\"_cast\"+\"_leading_woman\"]  = cast_df[ cast_df[\"gender_guess_integrated\"]==0 ].groupby(\"tmdb_id\").first()[trait]\n",
    "    \n",
    "    cast_crew_aggregates[trait+\"_crew\"+\"_leading_man\"]    = crew_df[ crew_df[\"gender_guess_integrated\"]==1 ].groupby(\"tmdb_id\").first()[trait]\n",
    "    cast_crew_aggregates[trait+\"_crew\"+\"_leading_woman\"]  = crew_df[ crew_df[\"gender_guess_integrated\"]==0 ].groupby(\"tmdb_id\").first()[trait]\n",
    "    "
   ]
  },
  {
   "cell_type": "code",
   "execution_count": null,
   "metadata": {},
   "outputs": [],
   "source": []
  },
  {
   "cell_type": "code",
   "execution_count": null,
   "metadata": {},
   "outputs": [],
   "source": []
  },
  {
   "cell_type": "code",
   "execution_count": 29,
   "metadata": {},
   "outputs": [],
   "source": [
    "secondary_tmdb_dir = \"e:\\\\Datasets\\\\themoviedb\\\\\"\n",
    "cast_crew_aggregates.to_msgpack(secondary_tmdb_dir+\"TMB_cast_crew_aggregates_latest\"+\".msgpack\")"
   ]
  },
  {
   "cell_type": "code",
   "execution_count": null,
   "metadata": {},
   "outputs": [],
   "source": []
  }
 ],
 "metadata": {
  "kernelspec": {
   "display_name": "Python [conda env:Cook_Tortoise_imdb_project]",
   "language": "python",
   "name": "conda-env-Cook_Tortoise_imdb_project-py"
  },
  "language_info": {
   "codemirror_mode": {
    "name": "ipython",
    "version": 3
   },
   "file_extension": ".py",
   "mimetype": "text/x-python",
   "name": "python",
   "nbconvert_exporter": "python",
   "pygments_lexer": "ipython3",
   "version": "3.6.7"
  }
 },
 "nbformat": 4,
 "nbformat_minor": 2
}
